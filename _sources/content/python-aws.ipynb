{
 "cells": [
  {
   "cell_type": "markdown",
   "metadata": {},
   "source": [
    "# AWS & Python"
   ]
  },
  {
   "attachments": {},
   "cell_type": "markdown",
   "metadata": {},
   "source": [
    "For data storage and computing, Amazon Web Services (AWS) can be a scalable and cost-effective alternative to on-premise options. This guide demonstrates how Urban Institute researchers can use Python in conjunction with the AWS services S3 and EC2 to create a cloud-based workflow. "
   ]
  },
  {
   "attachments": {},
   "cell_type": "markdown",
   "metadata": {},
   "source": [
    "## S3\n",
    "\n",
    "Boto3 is the official AWS SDK for Python. It provides an easy-to-use, well-documented [API](https://boto3.amazonaws.com/v1/documentation/api/latest/index.html) that lets you write Python code to interact with AWS services. In this guide we will explore specifically how Boto3 can be used to interact with AWS S3, Simple Storage Service. \n",
    "\n",
    "S3 can be used to store big data files for a relatively low price. It is essentially a file storage system, consisting of buckets, which are analogous to folders. You can use Boto3 to place files (referred to as objects in S3) into buckets and download objects that are stored in buckets, among other actions. In the context of a research model or script, this means you can store and read input files from S3 and write output files back to S3. \n",
    "\n",
    "### Setup\n",
    "Getting started with Boto3 involves installing Boto3 and authenticating using AWS credentials as described in this [guide](https://boto3.amazonaws.com/v1/documentation/api/latest/guide/quickstart.html). The most secure way to do so is by setting up your credentials using the Amazon Command Line Interface (CLI). To do so, you will need an access key and secret access key. To set up credentials with the permissions you need, you should contact the TECH team."
   ]
  },
  {
   "attachments": {},
   "cell_type": "markdown",
   "metadata": {},
   "source": [
    "### Boto3 commands\n",
    "\n",
    "In Boto3, there are multiple classes that enable interaction with S3. In this guide, we will use the `client` class, which is a low-level, object-oriented interface to AWS. "
   ]
  },
  {
   "attachments": {},
   "cell_type": "markdown",
   "metadata": {},
   "source": [
    "#### Listing buckets and objects\n",
    "\n",
    "To list buckets and objects in S3, you first you need to instantiate a client resource which represents the Amazon S3 service. \n",
    "\n",
    "Then, you can use the syntax below to list all of the buckets that you have access to. If your desired bucket doesn't show up, contact the TECH team to update the permissions associated with your credentials.\n",
    "\n",
    "```\n",
    "import boto3\n",
    "s3 = boto3.client(\"s3\")\n",
    "\n",
    "response = s3.list_buckets()\n",
    "for bucket in response[\"Buckets\"]:\n",
    "    print(f'{bucket[\"Name\"]}')\n",
    "```"
   ]
  },
  {
   "attachments": {},
   "cell_type": "markdown",
   "metadata": {},
   "source": [
    "Note that S3 uses key-value pairs to store objects, rather than a traditional file system with a hierarchy of folders. You can use [prefixes](https://docs.aws.amazon.com/AmazonS3/latest/userguide/using-prefixes.html) to organize files in S3 buckets, which are conceptually similar to directories or subfolders. The code below would list the name of all objects within a particular prefix that you have access to. \n",
    "\n",
    "``` \n",
    "response = s3.list_objects_v2(Bucket=\"my-bucket\",\n",
    "                              Prefix=\"my-prefix\")\n",
    "\n",
    "for object in response[\"Contents\"]: \n",
    "    print(f'{object[\"Key\"]}')\n",
    "```"
   ]
  },
  {
   "attachments": {},
   "cell_type": "markdown",
   "metadata": {},
   "source": [
    "#### Uploading and downloading files\n",
    "\n",
    "Boto3 also provides simple methods to upload and download files from S3. The code below would upload a file stored locally called `example.csv` to the specified bucket and prefix. \n",
    "\n",
    "```\n",
    "s3.upload_file(Bucket=\"my-bucket\", \n",
    "               Filename=\"example.csv\", \n",
    "               Key=\"my-prefix/example.csv\")\n",
    "```\n",
    "\n",
    "Similarly, the code below would download that file from S3. \n",
    "\n",
    "```\n",
    "s3.download_file(Bucket=\"my-bucket\", \n",
    "                 Filename=\"example.csv\", \n",
    "                 Key=\"my-prefix/example.csv\")\n",
    "```\n",
    "\n",
    "For a full list of operations you can perform on your bucket using Boto3, refer to this [documentation](https://boto3.amazonaws.com/v1/documentation/api/latest/reference/services/s3.html#client). Keep in mind that you will need to have specific permissions associated with your credentials to perform any action."
   ]
  },
  {
   "attachments": {},
   "cell_type": "markdown",
   "metadata": {},
   "source": [
    "#### Using Pandas\n",
    "Recent versions of Pandas let you read and write files to S3 with simplified syntax using the s3fs package under-the-hood. You can install s3fs using `pip install s3fs`. \n",
    "\n",
    "The code below would read the file `example.csv` from S3 as a Pandas dataframe. \n",
    "\n",
    "```\n",
    "import pandas as pd \n",
    "df = pd.read_csv(\"s3://my-bucket/my-prefix/example.csv\")\n",
    "```\n",
    "\n",
    "Similarly, the code below would write that dataframe to S3 at the specified path. \n",
    "```\n",
    "df.to_csv(\"s3://my-bucket/my-prefix/example.csv\")\n",
    "```"
   ]
  },
  {
   "attachments": {},
   "cell_type": "markdown",
   "metadata": {},
   "source": [
    "\n",
    "### S3 triggers\n",
    "S3 can be used to trigger AWS events relating to other services. For example an S3 bucket can be configured so that when a file is placed into it:\n",
    "* An email is sent to a user\n",
    "* An EC2 instance spins up and runs a script which takes in that file as input\n",
    "\n",
    "Contact the TECH team if you would like to set up a trigger for your S3 bucket. "
   ]
  },
  {
   "cell_type": "markdown",
   "metadata": {},
   "source": [
    "## EC2"
   ]
  },
  {
   "attachments": {},
   "cell_type": "markdown",
   "metadata": {},
   "source": [
    "EC2, or Elastic Compute Cloud, is an Amazon service which provides virtual computers in the cloud. Rather than running your models and scripts on your local computer or on Urban servers, you can run them on EC2 which provides customizable compute capacity, memory, and more.  \n",
    "\n",
    "### Using Tech Tools to spin up an EC2 instance\n",
    "\n",
    "The TECH team at Urban has designed a tool for researchers to easily create and terminate EC2 instances. This tool is hosted on the Tech Tools site via the Urban Institute intranet [here](https://tech-tools.urban.org/ec2-submission/).\n",
    "\n",
    "**Confidential Data**: These instances are NOT suitable for processing confidential data, but if you are working on a project that uses confidential data and you would like to leverage an EC2 instance, the TECH team would be happy to create a custom instance that adheres to data use requirements for you. \n",
    "\n",
    "The Python interface for the Tech Tools instances use the latest `jupyter/scipy-notebook` [Docker image](https://jupyter-docker-stacks.readthedocs.io/en/latest/using/selecting.html#jupyter-scipy-notebook). This means that a recent version of Python and many commonly used packages for data analysis and scientific computing will come pre-installed. This also means that you will get access to a user-friendly interface for creating and working with Jupyter notebooks, text editors, and terminal windows. See the [JupyterLab documentation](https://jupyterlab.readthedocs.io/en/stable/index.html) for more info. "
   ]
  },
  {
   "cell_type": "markdown",
   "metadata": {},
   "source": [
    "![title](img/tech-tools.png)"
   ]
  },
  {
   "attachments": {},
   "cell_type": "markdown",
   "metadata": {},
   "source": [
    "To begin, under the “Research Platforms” dropdown on the Tech Tools site, select “Start or Stop EC2 instance.” Then, select the instance type you would like based on your specific needs and submit the form. For Python users, we generally recommend Linux instances. \n",
    "\n",
    "After your instance has spun up, you will receive an email with links that point your browser to JupyterLab or RStudio on your instance. Note: You must be within Urban's IP range to access those links from your browser (e.g. through a virtual desktop if you are working remotely). When you are finished with the instance, you can terminate it, and you will be charged only for the amount of time that it was running. You will also get periodic email reminders while your instance is running. "
   ]
  },
  {
   "cell_type": "markdown",
   "metadata": {},
   "source": [
    "## Putting it all together"
   ]
  },
  {
   "attachments": {},
   "cell_type": "markdown",
   "metadata": {},
   "source": [
    "S3 and EC2 can be used to create a workflow entirely hosted in the cloud. The Tech Tools site simplifies the process of working with EC2, abstracting many details of the creation and termination away from the user. For more complex workflows using EC2 and other AWS services, the TECH team can partner with you to design and implement a solution. An example workflow for a Python data processing script is detailed below. \n",
    "\n",
    "As mentioned earlier, a rule can be set so that the placement of a file into an S3 bucket triggers the creation of an EC2 instance. This workflow begins with an input data file being placed into an input S3 bucket via Boto3. This triggers an EC2 instance to spin up, obtain the input file, and run the data processing script. When the script completes, the output file is written to the output S3 bucket, and the EC2 instance automatically terminates. Additionally, a rule is set on the output bucket to trigger a notification of the user when a file is placed into it."
   ]
  },
  {
   "cell_type": "markdown",
   "metadata": {},
   "source": [
    "![title](img/aws-workflow.png)"
   ]
  },
  {
   "attachments": {},
   "cell_type": "markdown",
   "metadata": {},
   "source": [
    "This and similar workflows have been employed by the Urban Institute TECH team to run data processing scripts and research models, including the TPC Tax Calculator, the Education Data Portal, and the Social Genome Model. "
   ]
  }
 ],
 "metadata": {
  "kernelspec": {
   "display_name": "Python 3",
   "language": "python",
   "name": "python3"
  },
  "language_info": {
   "codemirror_mode": {
    "name": "ipython",
    "version": 3
   },
   "file_extension": ".py",
   "mimetype": "text/x-python",
   "name": "python",
   "nbconvert_exporter": "python",
   "pygments_lexer": "ipython3",
   "version": "3.10.0"
  },
  "vscode": {
   "interpreter": {
    "hash": "aee8b7b246df8f9039afb4144a1f6fd8d2ca17a180786b69acc140d282b71a49"
   }
  }
 },
 "nbformat": 4,
 "nbformat_minor": 4
}
