{
 "cells": [
  {
   "cell_type": "markdown",
   "metadata": {},
   "source": [
    "## Installing Python"
   ]
  },
  {
   "cell_type": "markdown",
   "metadata": {},
   "source": [
    "<h3> Python 2 or 3? </h3>\n",
    "\n",
    "There are two versions of python - Python 2 and Python 3. Unless you are working on a project that already requires you to use Python 2, or need libraries that are available only in Python 2, then you are **strongly** encouraged to install Python 3. There will be no further support or maintenance for Python 2 past 2019. For more detail on the differences between Python 2 and 3 look at: https://wiki.python.org/moin/Python2orPython3. \n",
    "\n",
    "<h3> Using Anaconda </h3>\n",
    "\n",
    "If you want to use Python as a data scientist, we strongly recommend using Anaconda. This will simplify dealing with things like privileges, environments and packages. \n",
    "\n",
    "Anaconda is a Python distribution that includes a Python interpreter, a number of Python packages (including pandas, numpy, and scipy), and tools like editors. For download links, go to https://www.anaconda.com/distribution/#download-section. Select Windows, MacOS, or Linux, then select a Python version, and click Download.\n",
    "\n",
    "On opening Anaconda, you will be brought to the Navigator page from which you can launch various applications in order to run your code, including Jupyter Notebook and Spyder.\n",
    "\n",
    "Jupyter Notebook is similar to R Markdown, where you can edit blocks of code along with markdown. It allows you to create and share documents that contain live code, equations, visualizations and narrative text.\n",
    "\n",
    "Spyder is an environment for running python, similar to RStudio for R. It offers editing, analysis, and debugging. \n",
    "\n",
    "<h3> Packages for Data Science </h3>\n",
    "\n",
    "Numpy is a powerful python library that allows users to create ndarrays (multi-dimensional array objects) and perform functions that can operate on multiple entries of an ndarray without loops.\n",
    "\n",
    "Pandas is a library built on top of Numpy which allows for users to create numerial tables and time series data structures. Both packages are important for performing data science operations.\n",
    "\n",
    "More will be discussed about these packages later on...\n",
    "\n",
    "<h3> Installing Python Directly</h3>\n",
    "\n",
    "You can also install Python directly onto your machine rather than using Anaconda. To check if you already have Python installed on your computer, run `python --version` from your command line. \n",
    "If you already have Python on your machine, the response should contain the version that you have installed. \n",
    "\n",
    "See the Python downloads page at https://www.python.org/downloads/ for the most up to date Mac, Linux, and Windows versions of Python 2 and Python 3. They are available via the yellow download buttons on that page. Once the installer is in your downloads, open the installer and follow the steps onscreen to complete the installation. \n",
    " \n",
    "<h4> Using Virtual Environments </h4>\n",
    " \n",
    "If you are worried about running into version issues between multiple projects that rely on different python versions or different packages versions, you might want to try using a Python Virtual Environment. A virtual environment is a way to create an isolated space so you can, for example, run Python 2.7 for one project and Python 3.7 for another on the same computer. Here are directions for creating a Python Virtual Environment: https://www.pythonforbeginners.com/basics/how-to-use-python-virtualenv/\n",
    "\n",
    "<h4> Choosing an IDE </h4>\n",
    "\n",
    "There are a number of different integrated development environments (IDEs) for Python. Some popular ones include:\n",
    "\n",
    "* Spyder comes installed with Anaconda, and is most similar to RStudio for R. \n",
    "* Jupyter also comes with Anaconda, and is most similar to RMarkdown.\n",
    "* PyCharm is another popular Python IDE. The free version offers syntax highlighting, access to plugins, and web development support.\n",
    "* Eclipse offers support for a variety of different languages. To use it with Python, add the PyDev plugin."
   ]
  }
 ],
 "metadata": {
  "kernelspec": {
   "display_name": "Python 3",
   "language": "python",
   "name": "python3"
  },
  "language_info": {
   "codemirror_mode": {
    "name": "ipython",
    "version": 3
   },
   "file_extension": ".py",
   "mimetype": "text/x-python",
   "name": "python",
   "nbconvert_exporter": "python",
   "pygments_lexer": "ipython3",
   "version": "3.7.3"
  }
 },
 "nbformat": 4,
 "nbformat_minor": 2
}
