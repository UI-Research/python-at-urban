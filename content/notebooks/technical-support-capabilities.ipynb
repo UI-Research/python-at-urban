{
 "cells": [
  {
   "cell_type": "markdown",
   "metadata": {},
   "source": [
    "# Python User Group Technical Support Capabilities\n",
    "\n",
    "The Python User Group has allocated time for technical support for Python Users throughout the Urban Institute. If you would like to know more about these capabilities or request our support, please contact Erika Tyagi (etyagi@urban.org) or Michelle Menezes (mmenezes@urban.org)."
   ]
  },
  {
   "cell_type": "markdown",
   "metadata": {},
   "source": [
    "## Task Automation\n",
    "\n",
    "Python's basic libraries allow automation involving many useful functionalities including: \n",
    "* Operating system commands, including creating and removing directories and files\n",
    "* Modifying files\n",
    "* Sending email notifications to users\n",
    "* API calls\n",
    "* Web scraping\n",
    "* Interaction with cloud infrastructure including Amazon Web Services\n",
    "\n",
    "The Python User Group can help you to determine the best way to incorporate these functionalities into your desired task, including which libraries to use, the best way to structure your code, and more."
   ]
  },
  {
   "cell_type": "markdown",
   "metadata": {},
   "source": [
    "## Code Review\n",
    "\n",
    "The Python user group can help you review your Python code in terms of:\n",
    "* Code logic\n",
    "* Code style\n",
    "* Replication of results\n",
    "* Code architecture and readability\n"
   ]
  },
  {
   "cell_type": "markdown",
   "metadata": {},
   "source": [
    "## Proposal Assistance\n",
    "\n",
    "The Python user group can help incorporate Python into your proposal, including:\n",
    "* Advising how Python can be incorporated into your project\n",
    "* Assisting with technical writing"
   ]
  }
 ],
 "metadata": {
  "kernelspec": {
   "display_name": "Python 2",
   "language": "python",
   "name": "python2"
  },
  "language_info": {
   "codemirror_mode": {
    "name": "ipython",
    "version": 2
   },
   "file_extension": ".py",
   "mimetype": "text/x-python",
   "name": "python",
   "nbconvert_exporter": "python",
   "pygments_lexer": "ipython2",
   "version": "2.7.16"
  }
 },
 "nbformat": 4,
 "nbformat_minor": 2
}
