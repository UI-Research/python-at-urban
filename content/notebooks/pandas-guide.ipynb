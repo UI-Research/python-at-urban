{
 "cells": [
  {
   "cell_type": "markdown",
   "metadata": {},
   "source": [
    "# Pandas Guide\n",
    "\n",
    "\n",
    "### Table of Contents \n",
    "1. Understanding the Pandas\n",
    "    - Data Viewing \n",
    "    - Understanding the components of the DF \n",
    "        - Series\n",
    "        - Index \n",
    "2. Importing/Converting Data into Pandas\n",
    "    - Importing Data \n",
    "        - Excel \n",
    "        - Stata File\n",
    "        - SAS File\n",
    "        - JSON File\n",
    "        - Online File\n",
    "    - Converting Data from already existing data structure \n",
    "        - List\n",
    "        - Dictionary \n",
    "        - NP Array \n",
    "3. Data Manipulation \n",
    "    - Creating Variables\n",
    "    - Managing Variables\n",
    "    - Managing Missing Values\n",
    "    - Check duplicates\n",
    "    - Converting data formats\n",
    "    - Cleaning Dates\n",
    "    - String Commands\n",
    "    - Renaming Variables (Mass renaming)\n",
    "    - Reshaping Data\n",
    "    - Merging/Appending Data\n",
    "4. Regression Analysis \n",
    "    - Statsmodels\n",
    "5. Outputs from Pandas \n",
    "    - Tabouts \n",
    "    - Export Summary Stats\n",
    "    - Tables from Regressions \n",
    "    - Graphs and So On\n",
    "    \n",
    "Resources: \n",
    "1. https://plot.ly/python/\n",
    "2. https://nbviewer.jupyter.org/github/QuantEcon/QuantEcon.notebooks/blob/master/pandas_and_matplotlib.ipynb\n",
    "3. https://cheatsheets.quantecon.org/stats-cheatsheet.html\n",
    "4. https://nbviewer.jupyter.org/github/QuantEcon/QuantEcon.notebooks/blob/master/sci_python_quickstart.ipynb\n",
    "5. https://cheatsheets.quantecon.org/\n",
    "6. https://seaborn.pydata.org/ \n",
    "7. https://data36.com/pandas-tutorial-1-basics-reading-data-files-dataframes-data-selection/ \n",
    "8. https://www.analyticsvidhya.com/blog/2016/01/12-pandas-techniques-python-data-manipulation/\n",
    "9. https://paulovasconcellos.com.br/28-useful-pandas-functions-you-might-not-know-de42c59db085\n",
    "10. https://realpython.com/python-pandas-tricks/\n",
    "11. https://dataconomy.com/2015/03/14-best-python-pandas-features/"
   ]
  },
  {
   "cell_type": "code",
   "execution_count": 132,
   "metadata": {},
   "outputs": [],
   "source": [
    "import os\n",
    "import numpy as np\n",
    "import pandas as pd\n",
    "path_link = \"D:/Users/asimon/Desktop/Python User Guide\"\n",
    "os.chdir(path_link)\n",
    "df = pd.read_excel('Minimum Wage Data.xlsx')"
   ]
  },
  {
   "cell_type": "markdown",
   "metadata": {},
   "source": [
    "## 1. Understanding Pandas"
   ]
  },
  {
   "cell_type": "markdown",
   "metadata": {},
   "source": [
    "### Why Python for data analaysis?\n",
    "\n",
    "Python is a open-source general purpose programming language with bulit-in functions, clean and readable syntax, and an active community developing products to improve Python's abilities. Python's simple and easy to understand syntax makes the learning curve much less steep compared to most other statistical software packages and programming langauges. Python has made great strides in its data analysis capabilities in the past decade with new machine learning packages like SciKit-learn, data visualizations tools like Seaborn and Plotly, and text analysis packages like NTLK or Gensim. Python's multiple IDE options, like Spyder, PyCharm, or Juypter Notebook, also give users flexibility in how they share their work with others.\n"
   ]
  },
  {
   "cell_type": "markdown",
   "metadata": {},
   "source": [
    "### Pandas: How to begin data analysis in Python.\n",
    "\n",
    "While the built-in functions suffice for general programming, data analysis requires additional functions and objects. Pandas is a popular data analysis package that is simple to use the moment you start Python. \n",
    "\n",
    "The reason Pandas is  popular for data science and analysis is that it introduces three useful objects that mirror similar data structures from other statistical packages and don't add complexity to the simple Pythonic syntax. These objects are:\n",
    "\n",
    "    1. The DataFrame\n",
    "    2. The Series\n",
    "    3. The Index\n",
    "\n",
    "\n",
    "The rest of this chapter goes as follows: The first section of this guide will cover the objects and how they function. The second section of this guide will show how one can import and convert data into the DataFrame object. The third section will cover the steps needed to understand and maniuplate your data before analysis. The fourth section covers regression analysis and intrepreting the results. And the final section covers outputting results either in the form of data visualization or summary statistic. \n",
    "\n",
    "This guide is not meant to be comprehensive, the most comprehensive documentation for Pandas is found (here)[https://pandas.pydata.org/pandas-docs/stable/pandas.pdf]. Documentation for any program is long and don't, often times, reflet the best practices a programming community has estbalished. The purpose of this document is inform a potential user of the functionality of Pandas and a general overview of how to accomplish basic data analysis tools. "
   ]
  },
  {
   "cell_type": "markdown",
   "metadata": {},
   "source": [
    "### DataFrame "
   ]
  },
  {
   "cell_type": "markdown",
   "metadata": {},
   "source": [
    "The DataFrame is the main contribution of Pandas. The DataFrame is a 2-dimensional labeled structure with columns and rows. The columns and the rows represent one dimension each. The DataFrame is anaglous to the R and Stata DataFrame and the Excel spreadsheet. Or put in more technical terms, the DataFrame is a tabular datastructure. The code below defines a DataFrame and then prints it out to view:"
   ]
  },
  {
   "cell_type": "code",
   "execution_count": 133,
   "metadata": {},
   "outputs": [
    {
     "name": "stdout",
     "output_type": "stream",
     "text": [
      "   one  two\n",
      "0  1.0  4.0\n",
      "1  2.0  3.0\n",
      "2  3.0  2.0\n",
      "3  4.0  1.0\n"
     ]
    }
   ],
   "source": [
    "d = pd.DataFrame({'one': [1., 2., 3., 4.],\n",
    "     'two': [4., 3., 2., 1.]})\n",
    "print(d)"
   ]
  },
  {
   "cell_type": "markdown",
   "metadata": {},
   "source": [
    "\"d\" is the name of our DataFrame and it has two columns, one and two, and four rows, 0-3. (Python is 0 indexed, meaning it counts from 0...1...2...and so on.)\n",
    "\n",
    "Each datapoint can be referenced through its Index (which corresponds to its row, the far most left value) and the column signifies what the value means. We can call a single Pandas column with this command: "
   ]
  },
  {
   "cell_type": "code",
   "execution_count": 134,
   "metadata": {},
   "outputs": [
    {
     "name": "stdout",
     "output_type": "stream",
     "text": [
      "0    1.0\n",
      "1    2.0\n",
      "2    3.0\n",
      "3    4.0\n",
      "Name: one, dtype: float64\n"
     ]
    }
   ],
   "source": [
    "print(d['one'])"
   ]
  },
  {
   "cell_type": "markdown",
   "metadata": {},
   "source": [
    "The values on the left represent the Index we saw earlier. Notice: A Python's column's type is itself a Pandas object, the Series. More on this obect below."
   ]
  },
  {
   "cell_type": "markdown",
   "metadata": {},
   "source": [
    "### Series\n",
    "A Series ia one-dimensional indexed array that can contain any Python data type. To create a Series you use the function: "
   ]
  },
  {
   "cell_type": "code",
   "execution_count": 135,
   "metadata": {},
   "outputs": [],
   "source": [
    "series_ex = pd.Series([1,2,3,4])"
   ]
  },
  {
   "cell_type": "markdown",
   "metadata": {},
   "source": [
    " A Series in Pandas is similar visually to a list, but there are key distinctions in how they opearte. As mentioned, Pandas is used for data analysis, so a Series has data analysis type functions, while a list would require either a for loop or list comprehension. "
   ]
  },
  {
   "cell_type": "code",
   "execution_count": 136,
   "metadata": {
    "scrolled": true
   },
   "outputs": [
    {
     "name": "stdout",
     "output_type": "stream",
     "text": [
      "This is a Series\n",
      "0    1\n",
      "1    2\n",
      "2    3\n",
      "3    4\n",
      "dtype: int64\n",
      "\n",
      "\n",
      "This is a Series multipled by two\n",
      "0    2\n",
      "1    4\n",
      "2    6\n",
      "3    8\n",
      "dtype: int64\n"
     ]
    }
   ],
   "source": [
    "print(\"This is a Series\")\n",
    "print(series_ex)\n",
    "series_ex = series_ex*2\n",
    "print(\"\\n\")\n",
    "print(\"This is a Series multipled by two\")\n",
    "print(series_ex)"
   ]
  },
  {
   "cell_type": "code",
   "execution_count": 137,
   "metadata": {},
   "outputs": [
    {
     "name": "stdout",
     "output_type": "stream",
     "text": [
      "This is a List\n",
      "[1, 2, 3, 4]\n",
      "\n",
      "\n",
      "This is a List multipled by two\n",
      "[1, 2, 3, 4, 1, 2, 3, 4]\n"
     ]
    }
   ],
   "source": [
    "list = [1,2,3,4]\n",
    "print(\"This is a List\")\n",
    "print(list)\n",
    "print(\"\\n\")\n",
    "list = list*2\n",
    "print(\"This is a List multipled by two\")\n",
    "print(list)"
   ]
  },
  {
   "cell_type": "markdown",
   "metadata": {},
   "source": [
    "### Index\n",
    "\n",
    "Both the Series and the DataFrame have an index that signifies order and allows for referncing specific points. The Index itself is an object - though by itself if holds little purpose. "
   ]
  },
  {
   "cell_type": "code",
   "execution_count": 138,
   "metadata": {},
   "outputs": [
    {
     "data": {
      "text/plain": [
       "Int64Index([2, 3, 5, 7, 11], dtype='int64')"
      ]
     },
     "execution_count": 138,
     "metadata": {},
     "output_type": "execute_result"
    }
   ],
   "source": [
    "ind = pd.Index([2, 3, 5, 7, 11])\n",
    "ind"
   ]
  },
  {
   "cell_type": "markdown",
   "metadata": {},
   "source": [
    "### Importing Pandas\n",
    "Pandas is not native to Python, so it has to be installed. Foruntately most downloads will contain Pandas, but you will still have to load the package in. This code will accomplish that:"
   ]
  },
  {
   "cell_type": "code",
   "execution_count": 139,
   "metadata": {},
   "outputs": [],
   "source": [
    "import pandas "
   ]
  },
  {
   "cell_type": "markdown",
   "metadata": {},
   "source": [
    "However Pandas is used for often, so most refer to it as \"pd\" when calling it. So, typically Pandas is imported as follows: "
   ]
  },
  {
   "cell_type": "code",
   "execution_count": 140,
   "metadata": {},
   "outputs": [],
   "source": [
    "import pandas as pd"
   ]
  },
  {
   "cell_type": "markdown",
   "metadata": {},
   "source": [
    "It's also useful to import a few other packages, mostly numpy and stats"
   ]
  },
  {
   "cell_type": "code",
   "execution_count": 141,
   "metadata": {},
   "outputs": [],
   "source": [
    "import numpy as np\n",
    "import statsmodels.api as sm"
   ]
  },
  {
   "cell_type": "markdown",
   "metadata": {},
   "source": [
    "## 2. Importing Data"
   ]
  },
  {
   "cell_type": "markdown",
   "metadata": {},
   "source": [
    "Python has the funcitonality to read multiple data types, such as excel, csv, dta, json, sql and more. The syntax follows a similar structure: pd.read_*(). \n",
    "\n",
    "Examples follow:"
   ]
  },
  {
   "cell_type": "markdown",
   "metadata": {},
   "source": [
    "### Importing data"
   ]
  },
  {
   "cell_type": "code",
   "execution_count": 142,
   "metadata": {},
   "outputs": [
    {
     "data": {
      "text/html": [
       "<div>\n",
       "<style scoped>\n",
       "    .dataframe tbody tr th:only-of-type {\n",
       "        vertical-align: middle;\n",
       "    }\n",
       "\n",
       "    .dataframe tbody tr th {\n",
       "        vertical-align: top;\n",
       "    }\n",
       "\n",
       "    .dataframe thead th {\n",
       "        text-align: right;\n",
       "    }\n",
       "</style>\n",
       "<table border=\"1\" class=\"dataframe\">\n",
       "  <thead>\n",
       "    <tr style=\"text-align: right;\">\n",
       "      <th></th>\n",
       "      <th>state_abbv</th>\n",
       "      <th>ETO</th>\n",
       "      <th>ETW</th>\n",
       "      <th>ETOW</th>\n",
       "      <th>ET_cat</th>\n",
       "      <th>ET_Work_cat</th>\n",
       "      <th>ET_ET_Work_cat</th>\n",
       "    </tr>\n",
       "  </thead>\n",
       "  <tbody>\n",
       "    <tr>\n",
       "      <th>0</th>\n",
       "      <td>VA</td>\n",
       "      <td>2.0</td>\n",
       "      <td>62.5</td>\n",
       "      <td>64.5</td>\n",
       "      <td>0 - 5%</td>\n",
       "      <td>30% &lt;</td>\n",
       "      <td>30% &lt;</td>\n",
       "    </tr>\n",
       "    <tr>\n",
       "      <th>1</th>\n",
       "      <td>TN</td>\n",
       "      <td>5.5</td>\n",
       "      <td>20.8</td>\n",
       "      <td>26.3</td>\n",
       "      <td>5 - 10%</td>\n",
       "      <td>10 - 30%</td>\n",
       "      <td>20 - 30%</td>\n",
       "    </tr>\n",
       "    <tr>\n",
       "      <th>2</th>\n",
       "      <td>VT</td>\n",
       "      <td>19.9</td>\n",
       "      <td>0.7</td>\n",
       "      <td>20.6</td>\n",
       "      <td>15 - 20%</td>\n",
       "      <td>0 - 5%</td>\n",
       "      <td>20 - 30%</td>\n",
       "    </tr>\n",
       "    <tr>\n",
       "      <th>3</th>\n",
       "      <td>ID</td>\n",
       "      <td>6.0</td>\n",
       "      <td>11.4</td>\n",
       "      <td>17.4</td>\n",
       "      <td>5 - 10%</td>\n",
       "      <td>10 - 30%</td>\n",
       "      <td>10 - 20%</td>\n",
       "    </tr>\n",
       "    <tr>\n",
       "      <th>4</th>\n",
       "      <td>OH</td>\n",
       "      <td>1.9</td>\n",
       "      <td>15.0</td>\n",
       "      <td>16.9</td>\n",
       "      <td>0 - 5%</td>\n",
       "      <td>10 - 30%</td>\n",
       "      <td>10 - 20%</td>\n",
       "    </tr>\n",
       "  </tbody>\n",
       "</table>\n",
       "</div>"
      ],
      "text/plain": [
       "  state_abbv   ETO   ETW  ETOW    ET_cat ET_Work_cat ET_ET_Work_cat\n",
       "0         VA   2.0  62.5  64.5    0 - 5%       30% <          30% <\n",
       "1         TN   5.5  20.8  26.3   5 - 10%    10 - 30%       20 - 30%\n",
       "2         VT  19.9   0.7  20.6  15 - 20%      0 - 5%       20 - 30%\n",
       "3         ID   6.0  11.4  17.4   5 - 10%    10 - 30%       10 - 20%\n",
       "4         OH   1.9  15.0  16.9    0 - 5%    10 - 30%       10 - 20%"
      ]
     },
     "execution_count": 142,
     "metadata": {},
     "output_type": "execute_result"
    }
   ],
   "source": [
    "# Importing data from Stata \n",
    "pd.read_stata('State_ETO_short.dta')"
   ]
  },
  {
   "cell_type": "markdown",
   "metadata": {},
   "source": [
    "This is how we read in a DataFrame, but we still need to store and name it. This can be accomplished in one-line: "
   ]
  },
  {
   "cell_type": "code",
   "execution_count": 143,
   "metadata": {},
   "outputs": [],
   "source": [
    "df = pd.read_stata('.\\State_ETO_short.dta')"
   ]
  },
  {
   "cell_type": "markdown",
   "metadata": {},
   "source": [
    "Now, when we call \"df\", we'll get the DataFrame that corresponds to \"pd.read_stata('.\\State_ETO.dta')\""
   ]
  },
  {
   "cell_type": "code",
   "execution_count": 144,
   "metadata": {},
   "outputs": [
    {
     "data": {
      "text/html": [
       "<div>\n",
       "<style scoped>\n",
       "    .dataframe tbody tr th:only-of-type {\n",
       "        vertical-align: middle;\n",
       "    }\n",
       "\n",
       "    .dataframe tbody tr th {\n",
       "        vertical-align: top;\n",
       "    }\n",
       "\n",
       "    .dataframe thead th {\n",
       "        text-align: right;\n",
       "    }\n",
       "</style>\n",
       "<table border=\"1\" class=\"dataframe\">\n",
       "  <thead>\n",
       "    <tr style=\"text-align: right;\">\n",
       "      <th></th>\n",
       "      <th>state_abbv</th>\n",
       "      <th>ETO</th>\n",
       "      <th>ETW</th>\n",
       "      <th>ETOW</th>\n",
       "      <th>ET_cat</th>\n",
       "      <th>ET_Work_cat</th>\n",
       "      <th>ET_ET_Work_cat</th>\n",
       "    </tr>\n",
       "  </thead>\n",
       "  <tbody>\n",
       "    <tr>\n",
       "      <th>0</th>\n",
       "      <td>VA</td>\n",
       "      <td>2.0</td>\n",
       "      <td>62.5</td>\n",
       "      <td>64.5</td>\n",
       "      <td>0 - 5%</td>\n",
       "      <td>30% &lt;</td>\n",
       "      <td>30% &lt;</td>\n",
       "    </tr>\n",
       "    <tr>\n",
       "      <th>1</th>\n",
       "      <td>TN</td>\n",
       "      <td>5.5</td>\n",
       "      <td>20.8</td>\n",
       "      <td>26.3</td>\n",
       "      <td>5 - 10%</td>\n",
       "      <td>10 - 30%</td>\n",
       "      <td>20 - 30%</td>\n",
       "    </tr>\n",
       "    <tr>\n",
       "      <th>2</th>\n",
       "      <td>VT</td>\n",
       "      <td>19.9</td>\n",
       "      <td>0.7</td>\n",
       "      <td>20.6</td>\n",
       "      <td>15 - 20%</td>\n",
       "      <td>0 - 5%</td>\n",
       "      <td>20 - 30%</td>\n",
       "    </tr>\n",
       "    <tr>\n",
       "      <th>3</th>\n",
       "      <td>ID</td>\n",
       "      <td>6.0</td>\n",
       "      <td>11.4</td>\n",
       "      <td>17.4</td>\n",
       "      <td>5 - 10%</td>\n",
       "      <td>10 - 30%</td>\n",
       "      <td>10 - 20%</td>\n",
       "    </tr>\n",
       "    <tr>\n",
       "      <th>4</th>\n",
       "      <td>OH</td>\n",
       "      <td>1.9</td>\n",
       "      <td>15.0</td>\n",
       "      <td>16.9</td>\n",
       "      <td>0 - 5%</td>\n",
       "      <td>10 - 30%</td>\n",
       "      <td>10 - 20%</td>\n",
       "    </tr>\n",
       "  </tbody>\n",
       "</table>\n",
       "</div>"
      ],
      "text/plain": [
       "  state_abbv   ETO   ETW  ETOW    ET_cat ET_Work_cat ET_ET_Work_cat\n",
       "0         VA   2.0  62.5  64.5    0 - 5%       30% <          30% <\n",
       "1         TN   5.5  20.8  26.3   5 - 10%    10 - 30%       20 - 30%\n",
       "2         VT  19.9   0.7  20.6  15 - 20%      0 - 5%       20 - 30%\n",
       "3         ID   6.0  11.4  17.4   5 - 10%    10 - 30%       10 - 20%\n",
       "4         OH   1.9  15.0  16.9    0 - 5%    10 - 30%       10 - 20%"
      ]
     },
     "execution_count": 144,
     "metadata": {},
     "output_type": "execute_result"
    }
   ],
   "source": [
    "df"
   ]
  },
  {
   "cell_type": "code",
   "execution_count": 145,
   "metadata": {},
   "outputs": [],
   "source": [
    "# Importinf data from excel into pandas\n",
    "df = pd.read_excel('Minimum Wage Data_Short.xlsx')"
   ]
  },
  {
   "cell_type": "code",
   "execution_count": 146,
   "metadata": {},
   "outputs": [
    {
     "data": {
      "text/html": [
       "<div>\n",
       "<style scoped>\n",
       "    .dataframe tbody tr th:only-of-type {\n",
       "        vertical-align: middle;\n",
       "    }\n",
       "\n",
       "    .dataframe tbody tr th {\n",
       "        vertical-align: top;\n",
       "    }\n",
       "\n",
       "    .dataframe thead th {\n",
       "        text-align: right;\n",
       "    }\n",
       "</style>\n",
       "<table border=\"1\" class=\"dataframe\">\n",
       "  <thead>\n",
       "    <tr style=\"text-align: right;\">\n",
       "      <th></th>\n",
       "      <th>Year</th>\n",
       "      <th>State</th>\n",
       "      <th>Table_Data</th>\n",
       "      <th>High.Value</th>\n",
       "      <th>Low.Value</th>\n",
       "      <th>CPI.Average</th>\n",
       "      <th>High 2018</th>\n",
       "      <th>Low.2018</th>\n",
       "    </tr>\n",
       "  </thead>\n",
       "  <tbody>\n",
       "    <tr>\n",
       "      <th>0</th>\n",
       "      <td>1968</td>\n",
       "      <td>Alabama</td>\n",
       "      <td>NaN</td>\n",
       "      <td>0.00000</td>\n",
       "      <td>0.00000</td>\n",
       "      <td>34.783333</td>\n",
       "      <td>0.00</td>\n",
       "      <td>0.00</td>\n",
       "    </tr>\n",
       "    <tr>\n",
       "      <th>1</th>\n",
       "      <td>1968</td>\n",
       "      <td>Alaska</td>\n",
       "      <td>2.1</td>\n",
       "      <td>2.10000</td>\n",
       "      <td>2.10000</td>\n",
       "      <td>34.783333</td>\n",
       "      <td>15.12</td>\n",
       "      <td>15.12</td>\n",
       "    </tr>\n",
       "    <tr>\n",
       "      <th>2</th>\n",
       "      <td>1968</td>\n",
       "      <td>Arizona</td>\n",
       "      <td>18.72 - 26.40/wk(b)</td>\n",
       "      <td>0.66000</td>\n",
       "      <td>0.46800</td>\n",
       "      <td>34.783333</td>\n",
       "      <td>4.75</td>\n",
       "      <td>3.37</td>\n",
       "    </tr>\n",
       "    <tr>\n",
       "      <th>3</th>\n",
       "      <td>1968</td>\n",
       "      <td>Arkansas</td>\n",
       "      <td>1.25/day(b)</td>\n",
       "      <td>0.15625</td>\n",
       "      <td>0.15625</td>\n",
       "      <td>34.783333</td>\n",
       "      <td>1.12</td>\n",
       "      <td>1.12</td>\n",
       "    </tr>\n",
       "    <tr>\n",
       "      <th>4</th>\n",
       "      <td>1968</td>\n",
       "      <td>California</td>\n",
       "      <td>1.65(b)</td>\n",
       "      <td>1.65000</td>\n",
       "      <td>1.65000</td>\n",
       "      <td>34.783333</td>\n",
       "      <td>11.88</td>\n",
       "      <td>11.88</td>\n",
       "    </tr>\n",
       "    <tr>\n",
       "      <th>5</th>\n",
       "      <td>1968</td>\n",
       "      <td>Colorado</td>\n",
       "      <td>1.00 - 1.25(b)</td>\n",
       "      <td>1.25000</td>\n",
       "      <td>1.00000</td>\n",
       "      <td>34.783333</td>\n",
       "      <td>9.00</td>\n",
       "      <td>7.20</td>\n",
       "    </tr>\n",
       "  </tbody>\n",
       "</table>\n",
       "</div>"
      ],
      "text/plain": [
       "   Year       State           Table_Data  High.Value  Low.Value  CPI.Average  \\\n",
       "0  1968     Alabama                  NaN     0.00000    0.00000    34.783333   \n",
       "1  1968      Alaska                  2.1     2.10000    2.10000    34.783333   \n",
       "2  1968     Arizona  18.72 - 26.40/wk(b)     0.66000    0.46800    34.783333   \n",
       "3  1968    Arkansas          1.25/day(b)     0.15625    0.15625    34.783333   \n",
       "4  1968  California              1.65(b)     1.65000    1.65000    34.783333   \n",
       "5  1968    Colorado       1.00 - 1.25(b)     1.25000    1.00000    34.783333   \n",
       "\n",
       "   High 2018  Low.2018  \n",
       "0       0.00      0.00  \n",
       "1      15.12     15.12  \n",
       "2       4.75      3.37  \n",
       "3       1.12      1.12  \n",
       "4      11.88     11.88  \n",
       "5       9.00      7.20  "
      ]
     },
     "execution_count": 146,
     "metadata": {},
     "output_type": "execute_result"
    }
   ],
   "source": [
    "df"
   ]
  },
  {
   "cell_type": "markdown",
   "metadata": {},
   "source": [
    "### Exporting Data\n",
    "\n",
    "The syntax to export data follows a similar pattern and can be seen here:"
   ]
  },
  {
   "cell_type": "code",
   "execution_count": 147,
   "metadata": {},
   "outputs": [],
   "source": [
    "df.to_csv('Minimum Wage Data.csv')"
   ]
  },
  {
   "cell_type": "markdown",
   "metadata": {},
   "source": [
    "### Converting Data"
   ]
  },
  {
   "cell_type": "markdown",
   "metadata": {},
   "source": [
    "Often times, data already in a Python dataformat will need to be convereted to a Pandas object. The steps to convert an object follow:"
   ]
  },
  {
   "cell_type": "code",
   "execution_count": 148,
   "metadata": {},
   "outputs": [
    {
     "data": {
      "text/html": [
       "<div>\n",
       "<style scoped>\n",
       "    .dataframe tbody tr th:only-of-type {\n",
       "        vertical-align: middle;\n",
       "    }\n",
       "\n",
       "    .dataframe tbody tr th {\n",
       "        vertical-align: top;\n",
       "    }\n",
       "\n",
       "    .dataframe thead th {\n",
       "        text-align: right;\n",
       "    }\n",
       "</style>\n",
       "<table border=\"1\" class=\"dataframe\">\n",
       "  <thead>\n",
       "    <tr style=\"text-align: right;\">\n",
       "      <th></th>\n",
       "      <th>a</th>\n",
       "      <th>b</th>\n",
       "      <th>c</th>\n",
       "    </tr>\n",
       "  </thead>\n",
       "  <tbody>\n",
       "    <tr>\n",
       "      <th>0</th>\n",
       "      <td>1</td>\n",
       "      <td>2</td>\n",
       "      <td>3</td>\n",
       "    </tr>\n",
       "    <tr>\n",
       "      <th>1</th>\n",
       "      <td>4</td>\n",
       "      <td>5</td>\n",
       "      <td>6</td>\n",
       "    </tr>\n",
       "    <tr>\n",
       "      <th>2</th>\n",
       "      <td>7</td>\n",
       "      <td>8</td>\n",
       "      <td>9</td>\n",
       "    </tr>\n",
       "  </tbody>\n",
       "</table>\n",
       "</div>"
      ],
      "text/plain": [
       "   a  b  c\n",
       "0  1  2  3\n",
       "1  4  5  6\n",
       "2  7  8  9"
      ]
     },
     "execution_count": 148,
     "metadata": {},
     "output_type": "execute_result"
    }
   ],
   "source": [
    "# List\n",
    "my_list = [1,2,3,4,5,6,7,8,9]\n",
    "columns = ['a', 'b', 'c']\n",
    "\n",
    "\n",
    "pd.DataFrame(np.array(my_list).reshape(3,3), columns = columns)\n"
   ]
  },
  {
   "cell_type": "markdown",
   "metadata": {},
   "source": [
    "An import thing to note: pd.DataFrame has a multitude of options. The most import of which is what follows right after the first parathentical which is the data that is to be transformed. Here are transform the list [1,2,3,4,5,6,7,7,8,9] into an np.array with the shape of: \n",
    "\n",
    "    [[1,2,3],\n",
    "    [4,5,6], \n",
    "    [7.8.9]]\n",
    "    \n",
    "Then we transform the data to a pandas dataframe which gives us: \n",
    "\n",
    "    0\t1\t2\t3\n",
    "    1\t4\t5\t6\n",
    "    2\t7\t8\t9\n",
    "    \n",
    "    \n",
    "Finally, we add a list of columns name with the option columns = columns to get the final dataframe.\n",
    "\n",
    "\n",
    "        a\tb\tc\n",
    "    0\t1\t2\t3\n",
    "    1\t4\t5\t6\n",
    "    2\t7\t8\t9\n"
   ]
  },
  {
   "cell_type": "code",
   "execution_count": 149,
   "metadata": {},
   "outputs": [
    {
     "data": {
      "text/html": [
       "<div>\n",
       "<style scoped>\n",
       "    .dataframe tbody tr th:only-of-type {\n",
       "        vertical-align: middle;\n",
       "    }\n",
       "\n",
       "    .dataframe tbody tr th {\n",
       "        vertical-align: top;\n",
       "    }\n",
       "\n",
       "    .dataframe thead th {\n",
       "        text-align: right;\n",
       "    }\n",
       "</style>\n",
       "<table border=\"1\" class=\"dataframe\">\n",
       "  <thead>\n",
       "    <tr style=\"text-align: right;\">\n",
       "      <th></th>\n",
       "      <th>col_1</th>\n",
       "      <th>col_2</th>\n",
       "    </tr>\n",
       "  </thead>\n",
       "  <tbody>\n",
       "    <tr>\n",
       "      <th>0</th>\n",
       "      <td>3</td>\n",
       "      <td>a</td>\n",
       "    </tr>\n",
       "    <tr>\n",
       "      <th>1</th>\n",
       "      <td>2</td>\n",
       "      <td>b</td>\n",
       "    </tr>\n",
       "    <tr>\n",
       "      <th>2</th>\n",
       "      <td>1</td>\n",
       "      <td>c</td>\n",
       "    </tr>\n",
       "    <tr>\n",
       "      <th>3</th>\n",
       "      <td>0</td>\n",
       "      <td>d</td>\n",
       "    </tr>\n",
       "  </tbody>\n",
       "</table>\n",
       "</div>"
      ],
      "text/plain": [
       "   col_1 col_2\n",
       "0      3     a\n",
       "1      2     b\n",
       "2      1     c\n",
       "3      0     d"
      ]
     },
     "execution_count": 149,
     "metadata": {},
     "output_type": "execute_result"
    }
   ],
   "source": [
    "# Dictionary\n",
    "data = {'col_1': [3, 2, 1, 0], 'col_2': ['a', 'b', 'c', 'd']}\n",
    "pd.DataFrame.from_dict(data)"
   ]
  },
  {
   "cell_type": "markdown",
   "metadata": {},
   "source": [
    "## 3. Data Manipulation"
   ]
  },
  {
   "cell_type": "markdown",
   "metadata": {},
   "source": [
    "The first step to data analysis is often understanding and viewing the data."
   ]
  },
  {
   "cell_type": "markdown",
   "metadata": {},
   "source": [
    "### Understanding our data\n",
    "#### Viewing our data\n",
    "\n",
    "Simply typing either \"print(df)\" prints the DataFrame. But as we move into a big data enviroment, we will need a way to print subsets of our data. \n",
    "\n",
    "\n",
    "Pandas DataFrame has useful methods for this: including .head() and .tail()"
   ]
  },
  {
   "cell_type": "code",
   "execution_count": 150,
   "metadata": {},
   "outputs": [
    {
     "name": "stdout",
     "output_type": "stream",
     "text": [
      "   Year       State           Table_Data  High.Value  Low.Value  CPI.Average  \\\n",
      "0  1968     Alabama                  NaN     0.00000    0.00000    34.783333   \n",
      "1  1968      Alaska                  2.1     2.10000    2.10000    34.783333   \n",
      "2  1968     Arizona  18.72 - 26.40/wk(b)     0.66000    0.46800    34.783333   \n",
      "3  1968    Arkansas          1.25/day(b)     0.15625    0.15625    34.783333   \n",
      "4  1968  California              1.65(b)     1.65000    1.65000    34.783333   \n",
      "\n",
      "   High 2018  Low.2018  \n",
      "0       0.00      0.00  \n",
      "1      15.12     15.12  \n",
      "2       4.75      3.37  \n",
      "3       1.12      1.12  \n",
      "4      11.88     11.88  \n"
     ]
    }
   ],
   "source": [
    "print(df.head())"
   ]
  },
  {
   "cell_type": "markdown",
   "metadata": {},
   "source": [
    ".head() automatically prints out the first 5 observations. We can specify how many observations we want within the parathetnicals. "
   ]
  },
  {
   "cell_type": "code",
   "execution_count": 151,
   "metadata": {},
   "outputs": [
    {
     "name": "stdout",
     "output_type": "stream",
     "text": [
      "   Year    State Table_Data  High.Value  Low.Value  CPI.Average  High 2018  \\\n",
      "0  1968  Alabama        NaN         0.0        0.0    34.783333       0.00   \n",
      "1  1968   Alaska        2.1         2.1        2.1    34.783333      15.12   \n",
      "\n",
      "   Low.2018  \n",
      "0      0.00  \n",
      "1     15.12  \n"
     ]
    }
   ],
   "source": [
    "print(df.head(2))"
   ]
  },
  {
   "cell_type": "markdown",
   "metadata": {},
   "source": [
    "A similar method called .tail() exists, with the same specification abilities."
   ]
  },
  {
   "cell_type": "code",
   "execution_count": 152,
   "metadata": {},
   "outputs": [
    {
     "data": {
      "text/html": [
       "<div>\n",
       "<style scoped>\n",
       "    .dataframe tbody tr th:only-of-type {\n",
       "        vertical-align: middle;\n",
       "    }\n",
       "\n",
       "    .dataframe tbody tr th {\n",
       "        vertical-align: top;\n",
       "    }\n",
       "\n",
       "    .dataframe thead th {\n",
       "        text-align: right;\n",
       "    }\n",
       "</style>\n",
       "<table border=\"1\" class=\"dataframe\">\n",
       "  <thead>\n",
       "    <tr style=\"text-align: right;\">\n",
       "      <th></th>\n",
       "      <th>Year</th>\n",
       "      <th>State</th>\n",
       "      <th>Table_Data</th>\n",
       "      <th>High.Value</th>\n",
       "      <th>Low.Value</th>\n",
       "      <th>CPI.Average</th>\n",
       "      <th>High 2018</th>\n",
       "      <th>Low.2018</th>\n",
       "    </tr>\n",
       "  </thead>\n",
       "  <tbody>\n",
       "    <tr>\n",
       "      <th>4</th>\n",
       "      <td>1968</td>\n",
       "      <td>California</td>\n",
       "      <td>1.65(b)</td>\n",
       "      <td>1.65</td>\n",
       "      <td>1.65</td>\n",
       "      <td>34.783333</td>\n",
       "      <td>11.88</td>\n",
       "      <td>11.88</td>\n",
       "    </tr>\n",
       "    <tr>\n",
       "      <th>5</th>\n",
       "      <td>1968</td>\n",
       "      <td>Colorado</td>\n",
       "      <td>1.00 - 1.25(b)</td>\n",
       "      <td>1.25</td>\n",
       "      <td>1.00</td>\n",
       "      <td>34.783333</td>\n",
       "      <td>9.00</td>\n",
       "      <td>7.20</td>\n",
       "    </tr>\n",
       "  </tbody>\n",
       "</table>\n",
       "</div>"
      ],
      "text/plain": [
       "   Year       State      Table_Data  High.Value  Low.Value  CPI.Average  \\\n",
       "4  1968  California         1.65(b)        1.65       1.65    34.783333   \n",
       "5  1968    Colorado  1.00 - 1.25(b)        1.25       1.00    34.783333   \n",
       "\n",
       "   High 2018  Low.2018  \n",
       "4      11.88     11.88  \n",
       "5       9.00      7.20  "
      ]
     },
     "execution_count": 152,
     "metadata": {},
     "output_type": "execute_result"
    }
   ],
   "source": [
    "df.tail(2)"
   ]
  },
  {
   "cell_type": "markdown",
   "metadata": {},
   "source": [
    "It's also good to get general information on the dataframe from .info() and to understand the datatypes of each of the columns. \n",
    "\n",
    ".info() gives a variety of useful information and .dtypes prints out the data types for each column."
   ]
  },
  {
   "cell_type": "code",
   "execution_count": 153,
   "metadata": {},
   "outputs": [
    {
     "name": "stdout",
     "output_type": "stream",
     "text": [
      "<class 'pandas.core.frame.DataFrame'>\n",
      "RangeIndex: 6 entries, 0 to 5\n",
      "Data columns (total 8 columns):\n",
      "Year           6 non-null int64\n",
      "State          6 non-null object\n",
      "Table_Data     5 non-null object\n",
      "High.Value     6 non-null float64\n",
      "Low.Value      6 non-null float64\n",
      "CPI.Average    6 non-null float64\n",
      "High 2018      6 non-null float64\n",
      "Low.2018       6 non-null float64\n",
      "dtypes: float64(5), int64(1), object(2)\n",
      "memory usage: 464.0+ bytes\n"
     ]
    }
   ],
   "source": [
    "df.info()"
   ]
  },
  {
   "cell_type": "code",
   "execution_count": 154,
   "metadata": {},
   "outputs": [
    {
     "data": {
      "text/plain": [
       "Year             int64\n",
       "State           object\n",
       "Table_Data      object\n",
       "High.Value     float64\n",
       "Low.Value      float64\n",
       "CPI.Average    float64\n",
       "High 2018      float64\n",
       "Low.2018       float64\n",
       "dtype: object"
      ]
     },
     "execution_count": 154,
     "metadata": {},
     "output_type": "execute_result"
    }
   ],
   "source": [
    "df.dtypes"
   ]
  },
  {
   "cell_type": "markdown",
   "metadata": {},
   "source": [
    "We can also use .describe() to get a good understanding of basic summary statistics about our data. "
   ]
  },
  {
   "cell_type": "code",
   "execution_count": 155,
   "metadata": {},
   "outputs": [
    {
     "data": {
      "text/html": [
       "<div>\n",
       "<style scoped>\n",
       "    .dataframe tbody tr th:only-of-type {\n",
       "        vertical-align: middle;\n",
       "    }\n",
       "\n",
       "    .dataframe tbody tr th {\n",
       "        vertical-align: top;\n",
       "    }\n",
       "\n",
       "    .dataframe thead th {\n",
       "        text-align: right;\n",
       "    }\n",
       "</style>\n",
       "<table border=\"1\" class=\"dataframe\">\n",
       "  <thead>\n",
       "    <tr style=\"text-align: right;\">\n",
       "      <th></th>\n",
       "      <th>Year</th>\n",
       "      <th>High.Value</th>\n",
       "      <th>Low.Value</th>\n",
       "      <th>CPI.Average</th>\n",
       "      <th>High 2018</th>\n",
       "      <th>Low.2018</th>\n",
       "    </tr>\n",
       "  </thead>\n",
       "  <tbody>\n",
       "    <tr>\n",
       "      <th>count</th>\n",
       "      <td>6.0</td>\n",
       "      <td>6.000000</td>\n",
       "      <td>6.000000</td>\n",
       "      <td>6.000000</td>\n",
       "      <td>6.000000</td>\n",
       "      <td>6.000000</td>\n",
       "    </tr>\n",
       "    <tr>\n",
       "      <th>mean</th>\n",
       "      <td>1968.0</td>\n",
       "      <td>0.969375</td>\n",
       "      <td>0.895708</td>\n",
       "      <td>34.783333</td>\n",
       "      <td>6.978333</td>\n",
       "      <td>6.448333</td>\n",
       "    </tr>\n",
       "    <tr>\n",
       "      <th>std</th>\n",
       "      <td>0.0</td>\n",
       "      <td>0.838676</td>\n",
       "      <td>0.844059</td>\n",
       "      <td>0.000000</td>\n",
       "      <td>6.039584</td>\n",
       "      <td>6.078060</td>\n",
       "    </tr>\n",
       "    <tr>\n",
       "      <th>min</th>\n",
       "      <td>1968.0</td>\n",
       "      <td>0.000000</td>\n",
       "      <td>0.000000</td>\n",
       "      <td>34.783333</td>\n",
       "      <td>0.000000</td>\n",
       "      <td>0.000000</td>\n",
       "    </tr>\n",
       "    <tr>\n",
       "      <th>25%</th>\n",
       "      <td>1968.0</td>\n",
       "      <td>0.282188</td>\n",
       "      <td>0.234187</td>\n",
       "      <td>34.783333</td>\n",
       "      <td>2.027500</td>\n",
       "      <td>1.682500</td>\n",
       "    </tr>\n",
       "    <tr>\n",
       "      <th>50%</th>\n",
       "      <td>1968.0</td>\n",
       "      <td>0.955000</td>\n",
       "      <td>0.734000</td>\n",
       "      <td>34.783333</td>\n",
       "      <td>6.875000</td>\n",
       "      <td>5.285000</td>\n",
       "    </tr>\n",
       "    <tr>\n",
       "      <th>75%</th>\n",
       "      <td>1968.0</td>\n",
       "      <td>1.550000</td>\n",
       "      <td>1.487500</td>\n",
       "      <td>34.783333</td>\n",
       "      <td>11.160000</td>\n",
       "      <td>10.710000</td>\n",
       "    </tr>\n",
       "    <tr>\n",
       "      <th>max</th>\n",
       "      <td>1968.0</td>\n",
       "      <td>2.100000</td>\n",
       "      <td>2.100000</td>\n",
       "      <td>34.783333</td>\n",
       "      <td>15.120000</td>\n",
       "      <td>15.120000</td>\n",
       "    </tr>\n",
       "  </tbody>\n",
       "</table>\n",
       "</div>"
      ],
      "text/plain": [
       "         Year  High.Value  Low.Value  CPI.Average  High 2018   Low.2018\n",
       "count     6.0    6.000000   6.000000     6.000000   6.000000   6.000000\n",
       "mean   1968.0    0.969375   0.895708    34.783333   6.978333   6.448333\n",
       "std       0.0    0.838676   0.844059     0.000000   6.039584   6.078060\n",
       "min    1968.0    0.000000   0.000000    34.783333   0.000000   0.000000\n",
       "25%    1968.0    0.282188   0.234187    34.783333   2.027500   1.682500\n",
       "50%    1968.0    0.955000   0.734000    34.783333   6.875000   5.285000\n",
       "75%    1968.0    1.550000   1.487500    34.783333  11.160000  10.710000\n",
       "max    1968.0    2.100000   2.100000    34.783333  15.120000  15.120000"
      ]
     },
     "execution_count": 155,
     "metadata": {},
     "output_type": "execute_result"
    }
   ],
   "source": [
    "df.describe()"
   ]
  },
  {
   "cell_type": "markdown",
   "metadata": {},
   "source": [
    "We can also do our traditional slicing, to view pieces of our dataframe"
   ]
  },
  {
   "cell_type": "code",
   "execution_count": 156,
   "metadata": {},
   "outputs": [
    {
     "data": {
      "text/html": [
       "<div>\n",
       "<style scoped>\n",
       "    .dataframe tbody tr th:only-of-type {\n",
       "        vertical-align: middle;\n",
       "    }\n",
       "\n",
       "    .dataframe tbody tr th {\n",
       "        vertical-align: top;\n",
       "    }\n",
       "\n",
       "    .dataframe thead th {\n",
       "        text-align: right;\n",
       "    }\n",
       "</style>\n",
       "<table border=\"1\" class=\"dataframe\">\n",
       "  <thead>\n",
       "    <tr style=\"text-align: right;\">\n",
       "      <th></th>\n",
       "      <th>Year</th>\n",
       "      <th>State</th>\n",
       "      <th>Table_Data</th>\n",
       "      <th>High.Value</th>\n",
       "      <th>Low.Value</th>\n",
       "      <th>CPI.Average</th>\n",
       "      <th>High 2018</th>\n",
       "      <th>Low.2018</th>\n",
       "    </tr>\n",
       "  </thead>\n",
       "  <tbody>\n",
       "    <tr>\n",
       "      <th>1</th>\n",
       "      <td>1968</td>\n",
       "      <td>Alaska</td>\n",
       "      <td>2.1</td>\n",
       "      <td>2.10000</td>\n",
       "      <td>2.10000</td>\n",
       "      <td>34.783333</td>\n",
       "      <td>15.12</td>\n",
       "      <td>15.12</td>\n",
       "    </tr>\n",
       "    <tr>\n",
       "      <th>2</th>\n",
       "      <td>1968</td>\n",
       "      <td>Arizona</td>\n",
       "      <td>18.72 - 26.40/wk(b)</td>\n",
       "      <td>0.66000</td>\n",
       "      <td>0.46800</td>\n",
       "      <td>34.783333</td>\n",
       "      <td>4.75</td>\n",
       "      <td>3.37</td>\n",
       "    </tr>\n",
       "    <tr>\n",
       "      <th>3</th>\n",
       "      <td>1968</td>\n",
       "      <td>Arkansas</td>\n",
       "      <td>1.25/day(b)</td>\n",
       "      <td>0.15625</td>\n",
       "      <td>0.15625</td>\n",
       "      <td>34.783333</td>\n",
       "      <td>1.12</td>\n",
       "      <td>1.12</td>\n",
       "    </tr>\n",
       "  </tbody>\n",
       "</table>\n",
       "</div>"
      ],
      "text/plain": [
       "   Year     State           Table_Data  High.Value  Low.Value  CPI.Average  \\\n",
       "1  1968    Alaska                  2.1     2.10000    2.10000    34.783333   \n",
       "2  1968   Arizona  18.72 - 26.40/wk(b)     0.66000    0.46800    34.783333   \n",
       "3  1968  Arkansas          1.25/day(b)     0.15625    0.15625    34.783333   \n",
       "\n",
       "   High 2018  Low.2018  \n",
       "1      15.12     15.12  \n",
       "2       4.75      3.37  \n",
       "3       1.12      1.12  "
      ]
     },
     "execution_count": 156,
     "metadata": {},
     "output_type": "execute_result"
    }
   ],
   "source": [
    "df[1:4]"
   ]
  },
  {
   "cell_type": "markdown",
   "metadata": {},
   "source": [
    "You can also do all of these methods on a single series"
   ]
  },
  {
   "cell_type": "code",
   "execution_count": 157,
   "metadata": {},
   "outputs": [
    {
     "data": {
      "text/plain": [
       "0    1968\n",
       "1    1968\n",
       "2    1968\n",
       "3    1968\n",
       "4    1968\n",
       "Name: Year, dtype: int64"
      ]
     },
     "execution_count": 157,
     "metadata": {},
     "output_type": "execute_result"
    }
   ],
   "source": [
    "df['Year'].head()"
   ]
  },
  {
   "cell_type": "markdown",
   "metadata": {},
   "source": [
    "Or, you can do multiple at one time"
   ]
  },
  {
   "cell_type": "code",
   "execution_count": 158,
   "metadata": {},
   "outputs": [
    {
     "data": {
      "text/html": [
       "<div>\n",
       "<style scoped>\n",
       "    .dataframe tbody tr th:only-of-type {\n",
       "        vertical-align: middle;\n",
       "    }\n",
       "\n",
       "    .dataframe tbody tr th {\n",
       "        vertical-align: top;\n",
       "    }\n",
       "\n",
       "    .dataframe thead th {\n",
       "        text-align: right;\n",
       "    }\n",
       "</style>\n",
       "<table border=\"1\" class=\"dataframe\">\n",
       "  <thead>\n",
       "    <tr style=\"text-align: right;\">\n",
       "      <th></th>\n",
       "      <th>State</th>\n",
       "      <th>Table_Data</th>\n",
       "    </tr>\n",
       "  </thead>\n",
       "  <tbody>\n",
       "    <tr>\n",
       "      <th>0</th>\n",
       "      <td>Alabama</td>\n",
       "      <td>NaN</td>\n",
       "    </tr>\n",
       "    <tr>\n",
       "      <th>1</th>\n",
       "      <td>Alaska</td>\n",
       "      <td>2.1</td>\n",
       "    </tr>\n",
       "    <tr>\n",
       "      <th>2</th>\n",
       "      <td>Arizona</td>\n",
       "      <td>18.72 - 26.40/wk(b)</td>\n",
       "    </tr>\n",
       "    <tr>\n",
       "      <th>3</th>\n",
       "      <td>Arkansas</td>\n",
       "      <td>1.25/day(b)</td>\n",
       "    </tr>\n",
       "    <tr>\n",
       "      <th>4</th>\n",
       "      <td>California</td>\n",
       "      <td>1.65(b)</td>\n",
       "    </tr>\n",
       "  </tbody>\n",
       "</table>\n",
       "</div>"
      ],
      "text/plain": [
       "        State           Table_Data\n",
       "0     Alabama                  NaN\n",
       "1      Alaska                  2.1\n",
       "2     Arizona  18.72 - 26.40/wk(b)\n",
       "3    Arkansas          1.25/day(b)\n",
       "4  California              1.65(b)"
      ]
     },
     "execution_count": 158,
     "metadata": {},
     "output_type": "execute_result"
    }
   ],
   "source": [
    "(df[['State', 'Table_Data']].head())"
   ]
  },
  {
   "cell_type": "markdown",
   "metadata": {},
   "source": [
    "### Subsetting data"
   ]
  },
  {
   "cell_type": "markdown",
   "metadata": {},
   "source": [
    "Subsetting the data is useful when the data are large or when only a specificed subset is needed for analysis. Loading in a larger dataset for example:"
   ]
  },
  {
   "cell_type": "code",
   "execution_count": 159,
   "metadata": {},
   "outputs": [],
   "source": [
    "df = pd.read_excel(\"Minimum Wage Data.xlsx\")"
   ]
  },
  {
   "cell_type": "markdown",
   "metadata": {},
   "source": [
    "Viewing the size and columns of the data:"
   ]
  },
  {
   "cell_type": "code",
   "execution_count": 160,
   "metadata": {},
   "outputs": [
    {
     "name": "stdout",
     "output_type": "stream",
     "text": [
      "2750\n",
      "Index(['Year', 'State', 'Table_Data', 'High.Value', 'Low.Value', 'CPI.Average',\n",
      "       'High 2018', 'Low.2018'],\n",
      "      dtype='object')\n"
     ]
    }
   ],
   "source": [
    "print(len(df))\n",
    "print(df.columns)"
   ]
  },
  {
   "cell_type": "markdown",
   "metadata": {},
   "source": [
    "We have 8 variables: Year, State, Table_Data, High.Value, Low.Value, CPI.Average, High 2018, and Low 2018. Sometimes in our analysis we only want to keep certain years. For this, the traditional boolean logic mixed with Pandas slices the data into the segments we want."
   ]
  },
  {
   "cell_type": "code",
   "execution_count": 161,
   "metadata": {},
   "outputs": [
    {
     "name": "stdout",
     "output_type": "stream",
     "text": [
      "      Year    State Table_Data  High.Value  Low.Value  CPI.Average  High 2018  \\\n",
      "2640  2016  Alabama        ...        0.00       0.00   240.007167       0.00   \n",
      "2641  2016   Alaska       9.75        9.75       9.75   240.007167      10.17   \n",
      "2642  2016  Arizona       8.05        8.05       8.05   240.007167       8.40   \n",
      "\n",
      "      Low.2018  \n",
      "2640      0.00  \n",
      "2641     10.17  \n",
      "2642      8.40  \n"
     ]
    }
   ],
   "source": [
    "# Rows past 2015\n",
    "print(df[df.Year > 2015].head(3))"
   ]
  },
  {
   "cell_type": "markdown",
   "metadata": {},
   "source": [
    "Segmenting on multiple conditions is also desirable. Most programs allow for an \"AND\" operator and an \"OR\" operator. "
   ]
  },
  {
   "cell_type": "code",
   "execution_count": 162,
   "metadata": {},
   "outputs": [
    {
     "name": "stdout",
     "output_type": "stream",
     "text": [
      "      Year       State Table_Data  High.Value  Low.Value  CPI.Average  \\\n",
      "2314  2010  California          8         8.0        8.0     218.0555   \n",
      "\n",
      "      High 2018  Low.2018  \n",
      "2314       9.19      9.19  \n"
     ]
    }
   ],
   "source": [
    "# California AND 2010\n",
    "print(df[(df.Year == 2010) & (df.State == 'California')].head(3))"
   ]
  },
  {
   "cell_type": "code",
   "execution_count": 163,
   "metadata": {},
   "outputs": [
    {
     "name": "stdout",
     "output_type": "stream",
     "text": [
      "   Year    State           Table_Data  High.Value  Low.Value  CPI.Average  \\\n",
      "0  1968  Alabama                  NaN        0.00      0.000    34.783333   \n",
      "1  1968   Alaska                  2.1        2.10      2.100    34.783333   \n",
      "2  1968  Arizona  18.72 - 26.40/wk(b)        0.66      0.468    34.783333   \n",
      "\n",
      "   High 2018  Low.2018  \n",
      "0       0.00      0.00  \n",
      "1      15.12     15.12  \n",
      "2       4.75      3.37  \n"
     ]
    }
   ],
   "source": [
    "# Alabama OR before 2015\n",
    "print(df[(df.State == \"Alabama\") | (df.Year < 2015)].head(3))"
   ]
  },
  {
   "cell_type": "markdown",
   "metadata": {},
   "source": [
    "The traditional Python index slicers are also applicable for DataFrames with the .loc[] method."
   ]
  },
  {
   "cell_type": "code",
   "execution_count": 164,
   "metadata": {},
   "outputs": [
    {
     "name": "stdout",
     "output_type": "stream",
     "text": [
      "Year                       1969\n",
      "State              South Dakota\n",
      "Table_Data     17.00 - 20.00/wk\n",
      "High.Value                  0.5\n",
      "Low.Value                 0.425\n",
      "CPI.Average             36.6833\n",
      "High 2018                  3.41\n",
      "Low.2018                    2.9\n",
      "Name: 99, dtype: object\n",
      "\n",
      "\n",
      "     Year      State  Table_Data  High.Value  Low.Value  CPI.Average  \\\n",
      "1    1968     Alaska         2.1         2.1       2.10    34.783333   \n",
      "50   1968   Virginia         ...         0.0       0.00    34.783333   \n",
      "300  1973  Minnesota  .75 - 1.60         1.6       0.75    44.400000   \n",
      "\n",
      "     High 2018  Low.2018  \n",
      "1        15.12     15.12  \n",
      "50        0.00      0.00  \n",
      "300       9.02      4.23  \n"
     ]
    }
   ],
   "source": [
    "print(df.iloc[99])\n",
    "print('\\n')\n",
    "print(df.iloc[[1, 50, 300]])"
   ]
  },
  {
   "cell_type": "markdown",
   "metadata": {},
   "source": [
    "Often times, exporting summary stats in a different document type is the bet way to visualize the results and understand the data."
   ]
  },
  {
   "cell_type": "code",
   "execution_count": 205,
   "metadata": {},
   "outputs": [
    {
     "name": "stdout",
     "output_type": "stream",
     "text": [
      "           City   Number of weekly riders  Price per week  Population of city  \\\n",
      "count  27.000000                27.000000       27.000000        2.700000e+01   \n",
      "mean   14.000000            160026.074074       49.925926        1.680111e+06   \n",
      "std     7.937254             21301.097303       27.627921        6.780307e+04   \n",
      "min     1.000000            115696.000000       15.000000        1.590000e+06   \n",
      "25%     7.500000            149600.000000       27.500000        1.617500e+06   \n",
      "50%    14.000000            161600.000000       40.000000        1.695000e+06   \n",
      "75%    20.500000            176000.000000       75.000000        1.725000e+06   \n",
      "max    27.000000            192000.000000      102.000000        1.800000e+06   \n",
      "\n",
      "       Monthly income of riders  Average parking rates per month  \n",
      "count                 27.000000                        27.000000  \n",
      "mean               11063.259259                       107.037037  \n",
      "std                 3416.627944                        45.346089  \n",
      "min                 5800.000000                        50.000000  \n",
      "25%                 8400.000000                        75.000000  \n",
      "50%                11600.000000                       100.000000  \n",
      "75%                13888.000000                       140.000000  \n",
      "max                16200.000000                       200.000000  \n"
     ]
    }
   ],
   "source": [
    "# Export Summary Stats\n",
    "df.describe()\n",
    "print(df.describe())\n",
    "np.round(df.describe(), 2)\n",
    "np.round(df.describe(), 2).T\n",
    "df.describe().transpose().to_csv('summary stats.csv', sep=',')"
   ]
  },
  {
   "cell_type": "markdown",
   "metadata": {},
   "source": [
    "### Data Manipulation"
   ]
  },
  {
   "cell_type": "markdown",
   "metadata": {},
   "source": [
    "The standard way to create a new Pandas column or replace an old one is to call the Series (whether it exists or not) on the left hand side and set it equal to the expression that expresses that value you want to create. For example:"
   ]
  },
  {
   "cell_type": "code",
   "execution_count": 165,
   "metadata": {},
   "outputs": [
    {
     "name": "stdout",
     "output_type": "stream",
     "text": [
      "   Year       State           Table_Data  High.Value  Low.Value  CPI.Average  \\\n",
      "0  1968     Alabama                  NaN     0.00000    0.00000    34.783333   \n",
      "1  1968      Alaska                  2.1     2.10000    2.10000    34.783333   \n",
      "2  1968     Arizona  18.72 - 26.40/wk(b)     0.66000    0.46800    34.783333   \n",
      "3  1968    Arkansas          1.25/day(b)     0.15625    0.15625    34.783333   \n",
      "4  1968  California              1.65(b)     1.65000    1.65000    34.783333   \n",
      "\n",
      "   High 2018  Low.2018  7  \n",
      "0       0.00      0.00  7  \n",
      "1      15.12     15.12  7  \n",
      "2       4.75      3.37  7  \n",
      "3       1.12      1.12  7  \n",
      "4      11.88     11.88  7  \n"
     ]
    }
   ],
   "source": [
    "# Creating a new variable\n",
    "df['7'] = 7\n",
    "print(df.head())"
   ]
  },
  {
   "cell_type": "code",
   "execution_count": 166,
   "metadata": {},
   "outputs": [
    {
     "name": "stdout",
     "output_type": "stream",
     "text": [
      "   Year       State           Table_Data  High.Value  Low.Value  CPI.Average  \\\n",
      "0  1968     Alabama                  NaN     0.00000    0.00000    34.783333   \n",
      "1  1968      Alaska                  2.1     2.10000    2.10000    34.783333   \n",
      "2  1968     Arizona  18.72 - 26.40/wk(b)     0.66000    0.46800    34.783333   \n",
      "3  1968    Arkansas          1.25/day(b)     0.15625    0.15625    34.783333   \n",
      "4  1968  California              1.65(b)     1.65000    1.65000    34.783333   \n",
      "\n",
      "   High 2018  Low.2018  7  \n",
      "0       0.00      0.00  8  \n",
      "1      15.12     15.12  8  \n",
      "2       4.75      3.37  8  \n",
      "3       1.12      1.12  8  \n",
      "4      11.88     11.88  8  \n"
     ]
    }
   ],
   "source": [
    "# Replace an old variable\n",
    "df['7'] = 8\n",
    "print(df.head())"
   ]
  },
  {
   "cell_type": "code",
   "execution_count": 167,
   "metadata": {},
   "outputs": [
    {
     "name": "stdout",
     "output_type": "stream",
     "text": [
      "   Year       State           Table_Data  High.Value  Low.Value  CPI.Average  \\\n",
      "0  1968     Alabama                  NaN     0.00000    0.00000    34.783333   \n",
      "1  1968      Alaska                  2.1     2.10000    2.10000    34.783333   \n",
      "2  1968     Arizona  18.72 - 26.40/wk(b)     0.66000    0.46800    34.783333   \n",
      "3  1968    Arkansas          1.25/day(b)     0.15625    0.15625    34.783333   \n",
      "4  1968  California              1.65(b)     1.65000    1.65000    34.783333   \n",
      "\n",
      "   High 2018  Low.2018  7  \n",
      "0       0.00      0.00  8  \n",
      "1      15.12     15.12  8  \n",
      "2       4.75      3.37  8  \n",
      "3       1.12      1.12  8  \n",
      "4      11.88     11.88  8  \n",
      "\n",
      "\n",
      "   Date       State               Values  High.Value  Low.Value  CPI.Average  \\\n",
      "0  1968     Alabama                  NaN     0.00000    0.00000    34.783333   \n",
      "1  1968      Alaska                  2.1     2.10000    2.10000    34.783333   \n",
      "2  1968     Arizona  18.72 - 26.40/wk(b)     0.66000    0.46800    34.783333   \n",
      "3  1968    Arkansas          1.25/day(b)     0.15625    0.15625    34.783333   \n",
      "4  1968  California              1.65(b)     1.65000    1.65000    34.783333   \n",
      "\n",
      "   High 2018  Low.2018  7  \n",
      "0       0.00      0.00  8  \n",
      "1      15.12     15.12  8  \n",
      "2       4.75      3.37  8  \n",
      "3       1.12      1.12  8  \n",
      "4      11.88     11.88  8  \n"
     ]
    }
   ],
   "source": [
    "# Renaming Variables (Mass renaming)\n",
    "print(df.head())\n",
    "print(\"\\n\")\n",
    "print(df.rename(index=str, columns={\"Year\": \"Date\", \"Table_Data\": \"Values\"}).head())"
   ]
  },
  {
   "cell_type": "code",
   "execution_count": 168,
   "metadata": {},
   "outputs": [
    {
     "name": "stdout",
     "output_type": "stream",
     "text": [
      "   Year       State           Table_Data  High.Value  Low.Value  CPI.Average  \\\n",
      "0  1968     Alabama                  NaN     0.00000    0.00000    34.783333   \n",
      "1  1968      Alaska                  2.1     2.10000    2.10000    34.783333   \n",
      "2  1968     Arizona  18.72 - 26.40/wk(b)     0.66000    0.46800    34.783333   \n",
      "3  1968    Arkansas          1.25/day(b)     0.15625    0.15625    34.783333   \n",
      "4  1968  California              1.65(b)     1.65000    1.65000    34.783333   \n",
      "\n",
      "   High 2018  Low.2018  \n",
      "0       0.00      0.00  \n",
      "1      15.12     15.12  \n",
      "2       4.75      3.37  \n",
      "3       1.12      1.12  \n",
      "4      11.88     11.88  \n"
     ]
    }
   ],
   "source": [
    "# Dropping a variable\n",
    "df = df.drop(\"7\", axis=1)\n",
    "print(df.head())"
   ]
  },
  {
   "cell_type": "markdown",
   "metadata": {},
   "source": [
    "Basic math functions are easily applied in Pandas:"
   ]
  },
  {
   "cell_type": "code",
   "execution_count": 169,
   "metadata": {},
   "outputs": [
    {
     "name": "stdout",
     "output_type": "stream",
     "text": [
      "   Year       State           Table_Data  High.Value  Low.Value  CPI.Average  \\\n",
      "0  1968     Alabama                  NaN     0.00000    0.00000    34.783333   \n",
      "1  1968      Alaska                  2.1     2.10000    2.10000    34.783333   \n",
      "2  1968     Arizona  18.72 - 26.40/wk(b)     0.66000    0.46800    34.783333   \n",
      "3  1968    Arkansas          1.25/day(b)     0.15625    0.15625    34.783333   \n",
      "4  1968  California              1.65(b)     1.65000    1.65000    34.783333   \n",
      "\n",
      "   High 2018  Low.2018  Difference  High*2   Low*2  \n",
      "0       0.00      0.00      0.0000  0.0000  0.0000  \n",
      "1      15.12     15.12      4.2000  4.2000  4.2000  \n",
      "2       4.75      3.37      1.1280  1.3200  0.9360  \n",
      "3       1.12      1.12      0.3125  0.3125  0.3125  \n",
      "4      11.88     11.88      3.3000  3.3000  3.3000  \n"
     ]
    }
   ],
   "source": [
    "df['Difference'] = df['High.Value'] + df['Low.Value']\n",
    "df['High*2'] = df['High.Value']*2\n",
    "df['Low*2'] = df['Low.Value']*2\n",
    "print(df.head())"
   ]
  },
  {
   "cell_type": "markdown",
   "metadata": {},
   "source": [
    "More complex opeartions can be solved through the .map() method. In the example below, a function using sklearn's min/max scaler will be applied to a Pandas column:"
   ]
  },
  {
   "cell_type": "markdown",
   "metadata": {},
   "source": [
    ".map() could use a dictionary to change results. This could help clean code when replacing a large amount of values. Here we create an abbrev column for state abbreviations (we will create it and drop the variable after):"
   ]
  },
  {
   "cell_type": "code",
   "execution_count": 170,
   "metadata": {},
   "outputs": [],
   "source": [
    "# Using Data.map\n",
    "state_2 = {'OH': 'Ohio', 'Illinois': 'IL', 'California': 'CA', 'Texas': 'TX'}\n",
    "\n",
    "df['abbrev'] = df['State'].map(state_2)"
   ]
  },
  {
   "cell_type": "code",
   "execution_count": 171,
   "metadata": {},
   "outputs": [],
   "source": [
    "df.sort_values('abbrev', ascending=True).head()\n",
    "df = df.drop(\"abbrev\", axis=1)"
   ]
  },
  {
   "cell_type": "markdown",
   "metadata": {},
   "source": [
    "You can use .apply() to apply a function to a Series. You can either specify the function or use the lambda anonymous function:"
   ]
  },
  {
   "cell_type": "code",
   "execution_count": 172,
   "metadata": {},
   "outputs": [
    {
     "name": "stdout",
     "output_type": "stream",
     "text": [
      "0    1968\n",
      "1    1968\n",
      "2    1968\n",
      "3    1968\n",
      "4    1968\n",
      "Name: Year, dtype: int64\n",
      "\n",
      "\n",
      "0    1969\n",
      "1    1969\n",
      "2    1969\n",
      "3    1969\n",
      "4    1969\n",
      "Name: Year, dtype: int64\n"
     ]
    }
   ],
   "source": [
    "# Specfying a function\n",
    "def add(x):\n",
    "    x = x + 1\n",
    "    return x\n",
    "\n",
    "print(df['Year'].head())\n",
    "print(\"\\n\")\n",
    "print(df['Year'].apply(add).head())\n"
   ]
  },
  {
   "cell_type": "code",
   "execution_count": 173,
   "metadata": {},
   "outputs": [
    {
     "name": "stdout",
     "output_type": "stream",
     "text": [
      "0    1968\n",
      "1    1968\n",
      "2    1968\n",
      "3    1968\n",
      "4    1968\n",
      "Name: Year, dtype: int64\n",
      "\n",
      "\n",
      "0    1969\n",
      "1    1969\n",
      "2    1969\n",
      "3    1969\n",
      "4    1969\n",
      "Name: Year, dtype: int64\n"
     ]
    }
   ],
   "source": [
    "# Lambda Functions\n",
    "## You can skip the defining of a fucntion if its simple enough \n",
    "print(df['Year'].head())\n",
    "print(\"\\n\")\n",
    "print((df['Year'].apply(lambda x: x + 1).head()))"
   ]
  },
  {
   "cell_type": "markdown",
   "metadata": {},
   "source": [
    "Missing values are a huge part of data cleaning and something to always be mindful of. Pandas codes missing values as numpy NAN values. Let's look"
   ]
  },
  {
   "cell_type": "code",
   "execution_count": 174,
   "metadata": {
    "scrolled": false
   },
   "outputs": [
    {
     "name": "stdout",
     "output_type": "stream",
     "text": [
      "0                    NaN\n",
      "1                    2.1\n",
      "2    18.72 - 26.40/wk(b)\n",
      "3            1.25/day(b)\n",
      "4                1.65(b)\n",
      "5         1.00 - 1.25(b)\n",
      "6                    1.4\n",
      "7                   1.25\n",
      "8            1.25 - 1.40\n",
      "9          $1.15 & $1.60\n",
      "Name: Table_Data, dtype: object\n",
      "\n",
      "\n",
      "0    1968\n",
      "1    1968\n",
      "2    1968\n",
      "3    1968\n",
      "4    1968\n",
      "5    1968\n",
      "6    1968\n",
      "7    1968\n",
      "8    1968\n",
      "9    1968\n",
      "Name: Year, dtype: int64\n"
     ]
    }
   ],
   "source": [
    "print(df['Table_Data'].head(10))\n",
    "print(\"\\n\")\n",
    "print(df['Year'].head(10))"
   ]
  },
  {
   "cell_type": "code",
   "execution_count": 175,
   "metadata": {},
   "outputs": [
    {
     "name": "stdout",
     "output_type": "stream",
     "text": [
      "True\n",
      "False\n"
     ]
    }
   ],
   "source": [
    "# Managing Missing Values\n",
    "print(df['Table_Data'].isnull().values.any())\n",
    "print(df['Year'].isnull().values.any())"
   ]
  },
  {
   "cell_type": "markdown",
   "metadata": {},
   "source": [
    "We can also use .drop_duplicates(keep = \"first\") to drop all but the first observations of duplicates."
   ]
  },
  {
   "cell_type": "code",
   "execution_count": 176,
   "metadata": {},
   "outputs": [
    {
     "name": "stdout",
     "output_type": "stream",
     "text": [
      "   col_1 col_2\n",
      "0      3     a\n",
      "1      3     a\n",
      "2      3     a\n",
      "3      3     a\n",
      "\n",
      "\n",
      "   col_1 col_2\n",
      "3      3     a\n"
     ]
    }
   ],
   "source": [
    "# Check duplicates\n",
    "data = {'col_1': [3, 3, 3, 3], 'col_2': ['a', 'a', 'a', 'a']}\n",
    "data_dup = pd.DataFrame.from_dict(data)\n",
    "print(data_dup)\n",
    "\n",
    "print(\"\\n\")\n",
    "\n",
    "data_dup = data_dup.drop_duplicates(keep=\"last\")\n",
    "\n",
    "print(data_dup)"
   ]
  },
  {
   "cell_type": "markdown",
   "metadata": {},
   "source": [
    "Data can be reshaped using a variet of Pandas functions. Going from wide to long has a built in function:"
   ]
  },
  {
   "cell_type": "code",
   "execution_count": 177,
   "metadata": {},
   "outputs": [
    {
     "name": "stdout",
     "output_type": "stream",
     "text": [
      "   Year       State           Table_Data  High.Value  Low.Value  CPI.Average  \\\n",
      "0  1968     Alabama                  NaN     0.00000    0.00000    34.783333   \n",
      "1  1968      Alaska                  2.1     2.10000    2.10000    34.783333   \n",
      "2  1968     Arizona  18.72 - 26.40/wk(b)     0.66000    0.46800    34.783333   \n",
      "3  1968    Arkansas          1.25/day(b)     0.15625    0.15625    34.783333   \n",
      "4  1968  California              1.65(b)     1.65000    1.65000    34.783333   \n",
      "\n",
      "   High 2018  Low.2018  Difference  High*2   Low*2  \n",
      "0       0.00      0.00      0.0000  0.0000  0.0000  \n",
      "1      15.12     15.12      4.2000  4.2000  4.2000  \n",
      "2       4.75      3.37      1.1280  1.3200  0.9360  \n",
      "3       1.12      1.12      0.3125  0.3125  0.3125  \n",
      "4      11.88     11.88      3.3000  3.3000  3.3000  \n",
      "\n",
      "\n",
      "                                       az\n",
      "Unique Family Identifier Order age       \n",
      "1000                     1     1       28\n",
      "                               2     2342\n",
      "                         2     1       82\n",
      "                               2     2342\n",
      "                         3     1       23\n",
      "                               2    54645\n",
      "1001                     1     1      234\n",
      "                               2    56765\n",
      "                         2     1      234\n",
      "                               2    65765\n",
      "                         3     1      324\n",
      "                               2    65756\n",
      "1002                     1     1      546\n",
      "                               2     3453\n",
      "324                      2     1      546\n",
      "                               2    56756\n",
      "234                      3     1     5464\n",
      "                               2     3453\n"
     ]
    }
   ],
   "source": [
    "# Reshaping Data - Loading in a new dataset\n",
    "df_ex = pd.DataFrame({\n",
    "    'Unique Family Identifier': [1000, 1000, 1000, 1001, 1001, 1001, 1002, 324, 234],\n",
    "    'Order': [1, 2, 3, 1, 2, 3, 1, 2, 3], \n",
    "    'az1': [28, 82, 23, 234, 234, 324, 546, 546, 5464],\n",
    "    'az2': [2342, 2342, 54645, 56765, 65765, 65756, 3453, 56756, 3453]})\n",
    "\n",
    "\n",
    "reshape = pd.wide_to_long(df_ex, stubnames='az', i=['Unique Family Identifier', 'Order'], j='age')\n",
    "\n",
    "print(df.head())\n",
    "print(\"\\n\")\n",
    "print(reshape)"
   ]
  },
  {
   "cell_type": "markdown",
   "metadata": {},
   "source": [
    "Going from wide to long requires the use of unstack()"
   ]
  },
  {
   "cell_type": "code",
   "execution_count": 178,
   "metadata": {},
   "outputs": [
    {
     "name": "stdout",
     "output_type": "stream",
     "text": [
      "                                 az1    az2\n",
      "Unique Family Identifier Order             \n",
      "234                      3      5464   3453\n",
      "324                      2       546  56756\n",
      "1000                     1        28   2342\n",
      "                         2        82   2342\n",
      "                         3        23  54645\n"
     ]
    }
   ],
   "source": [
    "normal = reshape.unstack()\n",
    "normal.columns = normal.columns.map('{0[0]}{0[1]}'.format)\n",
    "normal.reset_index()\n",
    "print(normal.head())"
   ]
  },
  {
   "cell_type": "markdown",
   "metadata": {},
   "source": [
    "Merging data uses pd.merge(data_1, data_2, on = identifier): "
   ]
  },
  {
   "cell_type": "code",
   "execution_count": 179,
   "metadata": {},
   "outputs": [
    {
     "name": "stdout",
     "output_type": "stream",
     "text": [
      "   key left_value\n",
      "0    0          a\n",
      "1    1          b\n",
      "2    2          c\n",
      "3    3          d\n",
      "4    4          e\n",
      "\n",
      "\n",
      "   key right_value\n",
      "0    2           f\n",
      "1    3           g\n",
      "2    4           h\n",
      "3    5           i\n",
      "4    6           j\n"
     ]
    }
   ],
   "source": [
    "# Merging/Appending Data\n",
    "left_frame = pd.DataFrame({'key': range(5), \n",
    "                           'left_value': ['a', 'b', 'c', 'd', 'e']})\n",
    "right_frame = pd.DataFrame({'key': range(2, 7), \n",
    "                           'right_value': ['f', 'g', 'h', 'i', 'j']})\n",
    "print(left_frame)\n",
    "print('\\n')\n",
    "print(right_frame)"
   ]
  },
  {
   "cell_type": "code",
   "execution_count": 180,
   "metadata": {},
   "outputs": [
    {
     "data": {
      "text/html": [
       "<div>\n",
       "<style scoped>\n",
       "    .dataframe tbody tr th:only-of-type {\n",
       "        vertical-align: middle;\n",
       "    }\n",
       "\n",
       "    .dataframe tbody tr th {\n",
       "        vertical-align: top;\n",
       "    }\n",
       "\n",
       "    .dataframe thead th {\n",
       "        text-align: right;\n",
       "    }\n",
       "</style>\n",
       "<table border=\"1\" class=\"dataframe\">\n",
       "  <thead>\n",
       "    <tr style=\"text-align: right;\">\n",
       "      <th></th>\n",
       "      <th>key</th>\n",
       "      <th>left_value</th>\n",
       "      <th>right_value</th>\n",
       "    </tr>\n",
       "  </thead>\n",
       "  <tbody>\n",
       "    <tr>\n",
       "      <th>0</th>\n",
       "      <td>2</td>\n",
       "      <td>c</td>\n",
       "      <td>f</td>\n",
       "    </tr>\n",
       "    <tr>\n",
       "      <th>1</th>\n",
       "      <td>3</td>\n",
       "      <td>d</td>\n",
       "      <td>g</td>\n",
       "    </tr>\n",
       "    <tr>\n",
       "      <th>2</th>\n",
       "      <td>4</td>\n",
       "      <td>e</td>\n",
       "      <td>h</td>\n",
       "    </tr>\n",
       "  </tbody>\n",
       "</table>\n",
       "</div>"
      ],
      "text/plain": [
       "   key left_value right_value\n",
       "0    2          c           f\n",
       "1    3          d           g\n",
       "2    4          e           h"
      ]
     },
     "execution_count": 180,
     "metadata": {},
     "output_type": "execute_result"
    }
   ],
   "source": [
    "pd.merge(left_frame, right_frame, on='key', how='inner')"
   ]
  },
  {
   "cell_type": "code",
   "execution_count": 181,
   "metadata": {},
   "outputs": [
    {
     "data": {
      "text/html": [
       "<div>\n",
       "<style scoped>\n",
       "    .dataframe tbody tr th:only-of-type {\n",
       "        vertical-align: middle;\n",
       "    }\n",
       "\n",
       "    .dataframe tbody tr th {\n",
       "        vertical-align: top;\n",
       "    }\n",
       "\n",
       "    .dataframe thead th {\n",
       "        text-align: right;\n",
       "    }\n",
       "</style>\n",
       "<table border=\"1\" class=\"dataframe\">\n",
       "  <thead>\n",
       "    <tr style=\"text-align: right;\">\n",
       "      <th></th>\n",
       "      <th>key</th>\n",
       "      <th>left_value</th>\n",
       "      <th>right_value</th>\n",
       "    </tr>\n",
       "  </thead>\n",
       "  <tbody>\n",
       "    <tr>\n",
       "      <th>0</th>\n",
       "      <td>0</td>\n",
       "      <td>a</td>\n",
       "      <td>NaN</td>\n",
       "    </tr>\n",
       "    <tr>\n",
       "      <th>1</th>\n",
       "      <td>1</td>\n",
       "      <td>b</td>\n",
       "      <td>NaN</td>\n",
       "    </tr>\n",
       "    <tr>\n",
       "      <th>2</th>\n",
       "      <td>2</td>\n",
       "      <td>c</td>\n",
       "      <td>f</td>\n",
       "    </tr>\n",
       "    <tr>\n",
       "      <th>3</th>\n",
       "      <td>3</td>\n",
       "      <td>d</td>\n",
       "      <td>g</td>\n",
       "    </tr>\n",
       "    <tr>\n",
       "      <th>4</th>\n",
       "      <td>4</td>\n",
       "      <td>e</td>\n",
       "      <td>h</td>\n",
       "    </tr>\n",
       "  </tbody>\n",
       "</table>\n",
       "</div>"
      ],
      "text/plain": [
       "   key left_value right_value\n",
       "0    0          a         NaN\n",
       "1    1          b         NaN\n",
       "2    2          c           f\n",
       "3    3          d           g\n",
       "4    4          e           h"
      ]
     },
     "execution_count": 181,
     "metadata": {},
     "output_type": "execute_result"
    }
   ],
   "source": [
    "pd.merge(left_frame, right_frame, on='key', how='left')"
   ]
  },
  {
   "cell_type": "code",
   "execution_count": 182,
   "metadata": {},
   "outputs": [
    {
     "data": {
      "text/html": [
       "<div>\n",
       "<style scoped>\n",
       "    .dataframe tbody tr th:only-of-type {\n",
       "        vertical-align: middle;\n",
       "    }\n",
       "\n",
       "    .dataframe tbody tr th {\n",
       "        vertical-align: top;\n",
       "    }\n",
       "\n",
       "    .dataframe thead th {\n",
       "        text-align: right;\n",
       "    }\n",
       "</style>\n",
       "<table border=\"1\" class=\"dataframe\">\n",
       "  <thead>\n",
       "    <tr style=\"text-align: right;\">\n",
       "      <th></th>\n",
       "      <th>key</th>\n",
       "      <th>left_value</th>\n",
       "      <th>right_value</th>\n",
       "    </tr>\n",
       "  </thead>\n",
       "  <tbody>\n",
       "    <tr>\n",
       "      <th>0</th>\n",
       "      <td>2</td>\n",
       "      <td>c</td>\n",
       "      <td>f</td>\n",
       "    </tr>\n",
       "    <tr>\n",
       "      <th>1</th>\n",
       "      <td>3</td>\n",
       "      <td>d</td>\n",
       "      <td>g</td>\n",
       "    </tr>\n",
       "    <tr>\n",
       "      <th>2</th>\n",
       "      <td>4</td>\n",
       "      <td>e</td>\n",
       "      <td>h</td>\n",
       "    </tr>\n",
       "    <tr>\n",
       "      <th>3</th>\n",
       "      <td>5</td>\n",
       "      <td>NaN</td>\n",
       "      <td>i</td>\n",
       "    </tr>\n",
       "    <tr>\n",
       "      <th>4</th>\n",
       "      <td>6</td>\n",
       "      <td>NaN</td>\n",
       "      <td>j</td>\n",
       "    </tr>\n",
       "  </tbody>\n",
       "</table>\n",
       "</div>"
      ],
      "text/plain": [
       "   key left_value right_value\n",
       "0    2          c           f\n",
       "1    3          d           g\n",
       "2    4          e           h\n",
       "3    5        NaN           i\n",
       "4    6        NaN           j"
      ]
     },
     "execution_count": 182,
     "metadata": {},
     "output_type": "execute_result"
    }
   ],
   "source": [
    "pd.merge(left_frame, right_frame, on='key', how='right')"
   ]
  },
  {
   "cell_type": "code",
   "execution_count": 183,
   "metadata": {},
   "outputs": [
    {
     "name": "stderr",
     "output_type": "stream",
     "text": [
      "D:\\Users\\asimon\\AppData\\Local\\Continuum\\anaconda3\\lib\\site-packages\\ipykernel_launcher.py:4: FutureWarning: Sorting because non-concatenation axis is not aligned. A future version\n",
      "of pandas will change to not sort by default.\n",
      "\n",
      "To accept the future behavior, pass 'sort=True'.\n",
      "\n",
      "To retain the current behavior and silence the warning, pass sort=False\n",
      "\n",
      "  after removing the cwd from sys.path.\n"
     ]
    },
    {
     "data": {
      "text/html": [
       "<div>\n",
       "<style scoped>\n",
       "    .dataframe tbody tr th:only-of-type {\n",
       "        vertical-align: middle;\n",
       "    }\n",
       "\n",
       "    .dataframe tbody tr th {\n",
       "        vertical-align: top;\n",
       "    }\n",
       "\n",
       "    .dataframe thead th {\n",
       "        text-align: right;\n",
       "    }\n",
       "</style>\n",
       "<table border=\"1\" class=\"dataframe\">\n",
       "  <thead>\n",
       "    <tr style=\"text-align: right;\">\n",
       "      <th></th>\n",
       "      <th>key</th>\n",
       "      <th>left_value</th>\n",
       "      <th>key</th>\n",
       "      <th>right_value</th>\n",
       "    </tr>\n",
       "  </thead>\n",
       "  <tbody>\n",
       "    <tr>\n",
       "      <th>0</th>\n",
       "      <td>0</td>\n",
       "      <td>a</td>\n",
       "      <td>2</td>\n",
       "      <td>f</td>\n",
       "    </tr>\n",
       "    <tr>\n",
       "      <th>1</th>\n",
       "      <td>1</td>\n",
       "      <td>b</td>\n",
       "      <td>3</td>\n",
       "      <td>g</td>\n",
       "    </tr>\n",
       "    <tr>\n",
       "      <th>2</th>\n",
       "      <td>2</td>\n",
       "      <td>c</td>\n",
       "      <td>4</td>\n",
       "      <td>h</td>\n",
       "    </tr>\n",
       "    <tr>\n",
       "      <th>3</th>\n",
       "      <td>3</td>\n",
       "      <td>d</td>\n",
       "      <td>5</td>\n",
       "      <td>i</td>\n",
       "    </tr>\n",
       "    <tr>\n",
       "      <th>4</th>\n",
       "      <td>4</td>\n",
       "      <td>e</td>\n",
       "      <td>6</td>\n",
       "      <td>j</td>\n",
       "    </tr>\n",
       "  </tbody>\n",
       "</table>\n",
       "</div>"
      ],
      "text/plain": [
       "   key left_value  key right_value\n",
       "0    0          a    2           f\n",
       "1    1          b    3           g\n",
       "2    2          c    4           h\n",
       "3    3          d    5           i\n",
       "4    4          e    6           j"
      ]
     },
     "execution_count": 183,
     "metadata": {},
     "output_type": "execute_result"
    }
   ],
   "source": [
    "pd.merge(left_frame, right_frame, on='key', how='outer')\n",
    "\n",
    "\n",
    "pd.concat([left_frame, right_frame])\n",
    "pd.concat([left_frame, right_frame], axis=1)"
   ]
  },
  {
   "cell_type": "markdown",
   "metadata": {},
   "source": [
    "Collapsing data is accomplished by the .groupby() function:"
   ]
  },
  {
   "cell_type": "code",
   "execution_count": 189,
   "metadata": {},
   "outputs": [
    {
     "name": "stdout",
     "output_type": "stream",
     "text": [
      "      State  Table_Data  High.Value  Low.Value  CPI.Average  High 2018  \\\n",
      "Year                                                                     \n",
      "1968     55          53          54         54           55         54   \n",
      "1969     55          54          54         54           55         54   \n",
      "1970     55          54          54         54           55         54   \n",
      "1971     55          54          54         54           55         54   \n",
      "1972     55          54          54         54           55         54   \n",
      "\n",
      "      Low.2018  Difference  High*2  Low*2  \n",
      "Year                                       \n",
      "1968        54          54      54     54  \n",
      "1969        54          54      54     54  \n",
      "1970        54          54      54     54  \n",
      "1971        54          54      54     54  \n",
      "1972        54          54      54     54  \n",
      "\n",
      "\n",
      "Year\n",
      "2013    55\n",
      "2014    55\n",
      "2015    55\n",
      "2016    55\n",
      "2017    55\n",
      "dtype: int64\n"
     ]
    }
   ],
   "source": [
    "# Collapsing Data\n",
    "by_year = df.groupby('Year')\n",
    "print(by_year.count().head()) # NOT NULL records within each column\n",
    "print('\\n')\n",
    "print(by_year.size().tail()) # total records for each department"
   ]
  },
  {
   "cell_type": "code",
   "execution_count": 190,
   "metadata": {},
   "outputs": [
    {
     "name": "stdout",
     "output_type": "stream",
     "text": [
      "      High.Value  Low.Value  CPI.Average  High 2018  Low.2018  Difference  \\\n",
      "Year                                                                        \n",
      "1988      146.75     142.75  6504.208332     310.65    302.19      289.50   \n",
      "1989      146.75     142.75  6818.166669     296.49    288.41      289.50   \n",
      "1990      146.75     142.75  7186.208331     281.27    273.61      289.50   \n",
      "1991      179.20     175.00  7490.541668     329.52    321.80      354.20   \n",
      "1992      194.17     189.57  7717.416668     346.40    338.19      383.74   \n",
      "\n",
      "      High*2   Low*2  \n",
      "Year                  \n",
      "1988  293.50  285.50  \n",
      "1989  293.50  285.50  \n",
      "1990  293.50  285.50  \n",
      "1991  358.40  350.00  \n",
      "1992  388.34  379.14  \n",
      "\n",
      "\n",
      "      High.Value  Low.Value  CPI.Average  High 2018  Low.2018  Difference  \\\n",
      "Year                                                                        \n",
      "1988    2.668182   2.595455   118.258333   5.648182  5.494364    5.263636   \n",
      "1989    2.668182   2.595455   123.966667   5.390727  5.243818    5.263636   \n",
      "1990    2.668182   2.595455   130.658333   5.114000  4.974727    5.263636   \n",
      "1991    3.258182   3.181818   136.191667   5.991273  5.850909    6.440000   \n",
      "1992    3.530364   3.446727   140.316667   6.298182  6.148909    6.977091   \n",
      "\n",
      "        High*2     Low*2  \n",
      "Year                      \n",
      "1988  5.336364  5.190909  \n",
      "1989  5.336364  5.190909  \n",
      "1990  5.336364  5.190909  \n",
      "1991  6.516364  6.363636  \n",
      "1992  7.060727  6.893455  \n",
      "\n",
      "\n",
      "      High.Value  Low.Value  CPI.Average  High 2018  Low.2018  Difference  \\\n",
      "Year                                                                        \n",
      "1988        3.35       3.35   118.258333       7.09      7.09         6.7   \n",
      "1989        3.35       3.35   123.966667       6.77      6.77         6.7   \n",
      "1990        3.35       3.35   130.658333       6.42      6.42         6.7   \n",
      "1991        3.80       3.80   136.191667       6.99      6.99         7.6   \n",
      "1992        4.25       4.25   140.316667       7.58      7.58         8.5   \n",
      "\n",
      "      High*2  Low*2  \n",
      "Year                 \n",
      "1988     6.7    6.7  \n",
      "1989     6.7    6.7  \n",
      "1990     6.7    6.7  \n",
      "1991     7.6    7.6  \n",
      "1992     8.5    8.5  \n"
     ]
    }
   ],
   "source": [
    "print(by_year.sum()[20:25]) # total salaries of each department\n",
    "print('\\n')\n",
    "print(by_year.mean()[20:25]) # average salary of each department\n",
    "print('\\n')\n",
    "print(by_year.median()[20:25]) # take that, RDBMS!"
   ]
  },
  {
   "cell_type": "code",
   "execution_count": 191,
   "metadata": {},
   "outputs": [
    {
     "data": {
      "text/plain": [
       "Year\n",
       "2017    55\n",
       "1980    55\n",
       "1990    55\n",
       "1989    55\n",
       "1988    55\n",
       "Name: State, dtype: int64"
      ]
     },
     "execution_count": 191,
     "metadata": {},
     "output_type": "execute_result"
    }
   ],
   "source": [
    "by_year.State.nunique().sort_values(ascending=False)[:5]"
   ]
  }
 ],
 "metadata": {
  "kernelspec": {
   "display_name": "Python 3",
   "language": "python",
   "name": "python3"
  },
  "language_info": {
   "codemirror_mode": {
    "name": "ipython",
    "version": 3
   },
   "file_extension": ".py",
   "mimetype": "text/x-python",
   "name": "python",
   "nbconvert_exporter": "python",
   "pygments_lexer": "ipython3",
   "version": "3.6.5"
  }
 },
 "nbformat": 4,
 "nbformat_minor": 2
}
