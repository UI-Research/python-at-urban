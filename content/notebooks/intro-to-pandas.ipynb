{
 "cells": [
  {
   "cell_type": "markdown",
   "metadata": {},
   "source": [
    "# Pandas Guide\n",
    "\n",
    "\n",
    "### Table of Contents \n",
    "1. Understanding the Pandas\n",
    "    - What is Pandas? \n",
    "    - Components of Pandas\n",
    "        - DataFrame\n",
    "        - Series\n",
    "        - Index \n",
    "    - Importing Pandas\n",
    "2. Importing/Converting Data into Pandas\n",
    "    - Importing Data \n",
    "        - Stata File\n",
    "        - Excel \n",
    "        - SAS File\n",
    "        - JSON File\n",
    "        - Online File\n",
    "    - Converting Data from already existing data structure \n",
    "        - List\n",
    "        - Dictionary \n",
    "        - NP Array \n",
    "3. Data Analysis \n",
    "    - Understanding our data: Viewing, Subsetting, and Summary Statistics\n",
    "        - Data Viewing \n",
    "        - Subsetting data\n",
    "        - Summary Statistics\n",
    "    - Data Manipulation\n",
    "        - Creating a new variable\n",
    "        - Replacing a variable\n",
    "        - Renaming Variables\n",
    "        - Dropping Variables\n",
    "        - Simple Math to Create a new variable\n",
    "        - Complex Variable Modification with .Map()\n",
    "        - Using a Function\n",
    "        - Lambda Functions\n",
    "        - Missing Values\n",
    "        - Reshape Data\n",
    "        - Merging Data\n",
    "        - Append Data\n",
    "        - Collapsing Data\n",
    "5. Additional Resources\n",
    "   "
   ]
  },
  {
   "cell_type": "markdown",
   "metadata": {},
   "source": [
    "## 1. Understanding Pandas"
   ]
  },
  {
   "cell_type": "markdown",
   "metadata": {},
   "source": [
    "### What is Pandas?\n"
   ]
  },
  {
   "cell_type": "markdown",
   "metadata": {},
   "source": [
    "### Why Python for Data Analysis \n",
    "\n",
    "Python is an open-source general purpose programming language with bulit-in functions, clean and readable syntax, and an active community developing products to improve Python's abilities. Python's simple and easy-to-understand syntax makes the learning curve much less steep compared to most other statistical software packages and programming langauges. Python has made great strides in its data analysis capabilities in the past decade with new machine learning packages like SciKit-learn, data visualizations tools like Seaborn and Plotly, and text analysis packages like NTLK or Gensim. Python's multiple IDE options, like Spyder, PyCharm, or Juypter Notebook, also give users flexibility in how they share their work with others.\n",
    "\n",
    "### Pandas -  How to begin data analysis in Python \n",
    "\n",
    "While the built-in functions suffice for general programming, data analysis requires additional functions and objects. Pandas is a popular data analysis package that is simple to use the moment you start Python.\n",
    "\n",
    "The reason Pandas is popular for data science and analysis is that it introduces three useful objects that mirror similar data structures from other statistical packages and don't add complexity to the simple Pythonic syntax. These objects are:\n",
    "\n",
    "    1. The DataFrame\n",
    "    2. The Series\n",
    "    3. The Index\n",
    "\n",
    "The rest of this chapter goes as follows: The first section of this guide will cover the objects and how they function. The second section of this guide will show how one can import and convert data into the DataFrame object. The third section will cover the steps needed to understand and maniuplate your data before analysis. The fourth section covers regression analysis and intrepreting the results. And the final section covers outputting results either in the form of data visualization or summary statistic.\n",
    "\n",
    "This guide is not meant to be comprehensive, the most comprehensive documentation for Pandas is found (here)[https://pandas.pydata.org/pandas-docs/stable/pandas.pdf]. Documentation for any program is long and don't, often times, reflect the best practices a programming community has established. The purpose of this document is to inform a potential user of the functionality of Pandas and a general overview of how to accomplish basic data analysis tools."
   ]
  },
  {
   "cell_type": "markdown",
   "metadata": {},
   "source": [
    "### Importing Pandas\n",
    "Since Pandas is not native to Python, you will have to install it. Fortunately, Pandas has grown so much in popularity, that most downloads will contain Pandas, but you will still have to load the package. This code will do the trick:"
   ]
  },
  {
   "cell_type": "code",
   "execution_count": 1,
   "metadata": {},
   "outputs": [],
   "source": [
    "import pandas "
   ]
  },
  {
   "cell_type": "markdown",
   "metadata": {},
   "source": [
    "However, pandas is used often, so it might be easier to give pandas a \"nickname\" that is common practice. The Pandas community online usually loads pandas as \"pd\" for ease of access: "
   ]
  },
  {
   "cell_type": "code",
   "execution_count": 2,
   "metadata": {},
   "outputs": [],
   "source": [
    "import pandas as pd"
   ]
  },
  {
   "cell_type": "markdown",
   "metadata": {},
   "source": [
    "It's also useful to import a few other packages, mostly notably numpy."
   ]
  },
  {
   "cell_type": "code",
   "execution_count": 3,
   "metadata": {},
   "outputs": [],
   "source": [
    "import numpy as np"
   ]
  },
  {
   "cell_type": "markdown",
   "metadata": {},
   "source": [
    "### DataFrame"
   ]
  },
  {
   "cell_type": "markdown",
   "metadata": {},
   "source": [
    "The DataFrame is the main contribution of Pandas. The DataFrame is a 2-dimensional labeled structure with columns and rows. The columns and the rows represent one dimension each. The DataFrame is anaglous to the R and Stata DataFrame and the Excel spreadsheet. Or put in more technical terms, the DataFrame is a tabular datastructure. The code below defines a DataFrame and then prints it out to view:\n",
    "\n"
   ]
  },
  {
   "cell_type": "code",
   "execution_count": 4,
   "metadata": {},
   "outputs": [
    {
     "data": {
      "text/html": [
       "<div>\n",
       "<style scoped>\n",
       "    .dataframe tbody tr th:only-of-type {\n",
       "        vertical-align: middle;\n",
       "    }\n",
       "\n",
       "    .dataframe tbody tr th {\n",
       "        vertical-align: top;\n",
       "    }\n",
       "\n",
       "    .dataframe thead th {\n",
       "        text-align: right;\n",
       "    }\n",
       "</style>\n",
       "<table border=\"1\" class=\"dataframe\">\n",
       "  <thead>\n",
       "    <tr style=\"text-align: right;\">\n",
       "      <th></th>\n",
       "      <th>one</th>\n",
       "      <th>two</th>\n",
       "    </tr>\n",
       "  </thead>\n",
       "  <tbody>\n",
       "    <tr>\n",
       "      <th>0</th>\n",
       "      <td>1.0</td>\n",
       "      <td>4.0</td>\n",
       "    </tr>\n",
       "    <tr>\n",
       "      <th>1</th>\n",
       "      <td>2.0</td>\n",
       "      <td>3.0</td>\n",
       "    </tr>\n",
       "    <tr>\n",
       "      <th>2</th>\n",
       "      <td>3.0</td>\n",
       "      <td>2.0</td>\n",
       "    </tr>\n",
       "    <tr>\n",
       "      <th>3</th>\n",
       "      <td>4.0</td>\n",
       "      <td>1.0</td>\n",
       "    </tr>\n",
       "  </tbody>\n",
       "</table>\n",
       "</div>"
      ],
      "text/plain": [
       "   one  two\n",
       "0  1.0  4.0\n",
       "1  2.0  3.0\n",
       "2  3.0  2.0\n",
       "3  4.0  1.0"
      ]
     },
     "execution_count": 4,
     "metadata": {},
     "output_type": "execute_result"
    }
   ],
   "source": [
    "d = pd.DataFrame({'one': [1., 2., 3., 4.],\n",
    "     'two': [4., 3., 2., 1.]})\n",
    "\n",
    "d"
   ]
  },
  {
   "cell_type": "markdown",
   "metadata": {},
   "source": [
    "\n",
    "\"d\" is the name of our DataFrame and it has two columns, one and two, and four rows, 0-3. (Python is 0 indexed, meaning it counts from 0...1...2...and so on.)\n",
    "\n",
    "Each datapoint can be referenced through its Index (which corresponds to its row, the far most left value) and the column signifies what the value means. We can call a single Pandas column with this command:"
   ]
  },
  {
   "cell_type": "code",
   "execution_count": 5,
   "metadata": {},
   "outputs": [
    {
     "data": {
      "text/plain": [
       "0    1.0\n",
       "1    2.0\n",
       "2    3.0\n",
       "3    4.0\n",
       "Name: one, dtype: float64"
      ]
     },
     "execution_count": 5,
     "metadata": {},
     "output_type": "execute_result"
    }
   ],
   "source": [
    "(d['one'])"
   ]
  },
  {
   "cell_type": "markdown",
   "metadata": {},
   "source": [
    "The values on the left represent the Index we saw earlier. Notice: A Python's column's type is itself a Pandas object, the Series. More on this obect below.\n",
    "\n"
   ]
  },
  {
   "cell_type": "markdown",
   "metadata": {},
   "source": [
    "### Series\n",
    "A Series ia one-dimensional indexed array that can contain any Python data type. To create a Series you use the function: "
   ]
  },
  {
   "cell_type": "code",
   "execution_count": 6,
   "metadata": {},
   "outputs": [],
   "source": [
    "series_ex = pd.Series([1,2,3,4])"
   ]
  },
  {
   "cell_type": "markdown",
   "metadata": {},
   "source": [
    " A Series in Pandas is similar visually to a list. But there are key distinctions in how they opearte. As mentioned, Pandas is used for data analysis, so a Series has functions that allow for data analysis to be done easily, while a list would require either a for loop or list comprehension for the same operations. Example of this below:"
   ]
  },
  {
   "cell_type": "code",
   "execution_count": 7,
   "metadata": {
    "scrolled": true
   },
   "outputs": [
    {
     "name": "stdout",
     "output_type": "stream",
     "text": [
      "This is a Series multipled by two\n",
      "0    2\n",
      "1    4\n",
      "2    6\n",
      "3    8\n",
      "dtype: int64\n"
     ]
    }
   ],
   "source": [
    "series_ex = series_ex*2\n",
    "print(\"This is a Series multipled by two\")\n",
    "print(series_ex)"
   ]
  },
  {
   "cell_type": "code",
   "execution_count": 8,
   "metadata": {},
   "outputs": [
    {
     "name": "stdout",
     "output_type": "stream",
     "text": [
      "This is a List multipled by two\n",
      "[1, 2, 3, 4, 1, 2, 3, 4]\n"
     ]
    }
   ],
   "source": [
    "list = [1,2,3,4]\n",
    "list = list*2\n",
    "print(\"This is a List multipled by two\")\n",
    "print(list)"
   ]
  },
  {
   "cell_type": "markdown",
   "metadata": {},
   "source": [
    "### Index\n",
    "\n",
    "Both the Series and the DataFrame have an index that signifies order and allows for referencing specific points. The Index itself is an object - though by itself it holds little purpose. "
   ]
  },
  {
   "cell_type": "code",
   "execution_count": 9,
   "metadata": {},
   "outputs": [
    {
     "data": {
      "text/plain": [
       "Int64Index([2, 3, 5, 7, 11], dtype='int64')"
      ]
     },
     "execution_count": 9,
     "metadata": {},
     "output_type": "execute_result"
    }
   ],
   "source": [
    "ind = pd.Index([2, 3, 5, 7, 11])\n",
    "ind"
   ]
  },
  {
   "cell_type": "markdown",
   "metadata": {},
   "source": [
    "## 2. Importing Data"
   ]
  },
  {
   "cell_type": "markdown",
   "metadata": {},
   "source": [
    "Pandas has the ability to read and export multiple data format types: be it a csv, dta, sas file, json file, sql and many more. Almost all data reading will be in the format : pd.read_(NAME OF DATA FORMAT)('FILE_NAME'). Let's take a look at a few examples"
   ]
  },
  {
   "cell_type": "markdown",
   "metadata": {},
   "source": [
    "### Importing data"
   ]
  },
  {
   "cell_type": "markdown",
   "metadata": {},
   "source": [
    "#### Stata Files (DTA)"
   ]
  },
  {
   "cell_type": "code",
   "execution_count": 10,
   "metadata": {},
   "outputs": [
    {
     "data": {
      "text/html": [
       "<div>\n",
       "<style scoped>\n",
       "    .dataframe tbody tr th:only-of-type {\n",
       "        vertical-align: middle;\n",
       "    }\n",
       "\n",
       "    .dataframe tbody tr th {\n",
       "        vertical-align: top;\n",
       "    }\n",
       "\n",
       "    .dataframe thead th {\n",
       "        text-align: right;\n",
       "    }\n",
       "</style>\n",
       "<table border=\"1\" class=\"dataframe\">\n",
       "  <thead>\n",
       "    <tr style=\"text-align: right;\">\n",
       "      <th></th>\n",
       "      <th>state_abbv</th>\n",
       "      <th>ETO</th>\n",
       "      <th>ETW</th>\n",
       "      <th>ETOW</th>\n",
       "      <th>ET_cat</th>\n",
       "      <th>ET_Work_cat</th>\n",
       "      <th>ET_ET_Work_cat</th>\n",
       "    </tr>\n",
       "  </thead>\n",
       "  <tbody>\n",
       "    <tr>\n",
       "      <th>0</th>\n",
       "      <td>VA</td>\n",
       "      <td>2.0</td>\n",
       "      <td>62.5</td>\n",
       "      <td>64.5</td>\n",
       "      <td>0 - 5%</td>\n",
       "      <td>30% &lt;</td>\n",
       "      <td>30% &lt;</td>\n",
       "    </tr>\n",
       "    <tr>\n",
       "      <th>1</th>\n",
       "      <td>TN</td>\n",
       "      <td>5.5</td>\n",
       "      <td>20.8</td>\n",
       "      <td>26.3</td>\n",
       "      <td>5 - 10%</td>\n",
       "      <td>10 - 30%</td>\n",
       "      <td>20 - 30%</td>\n",
       "    </tr>\n",
       "    <tr>\n",
       "      <th>2</th>\n",
       "      <td>VT</td>\n",
       "      <td>19.9</td>\n",
       "      <td>0.7</td>\n",
       "      <td>20.6</td>\n",
       "      <td>15 - 20%</td>\n",
       "      <td>0 - 5%</td>\n",
       "      <td>20 - 30%</td>\n",
       "    </tr>\n",
       "    <tr>\n",
       "      <th>3</th>\n",
       "      <td>ID</td>\n",
       "      <td>6.0</td>\n",
       "      <td>11.4</td>\n",
       "      <td>17.4</td>\n",
       "      <td>5 - 10%</td>\n",
       "      <td>10 - 30%</td>\n",
       "      <td>10 - 20%</td>\n",
       "    </tr>\n",
       "    <tr>\n",
       "      <th>4</th>\n",
       "      <td>OH</td>\n",
       "      <td>1.9</td>\n",
       "      <td>15.0</td>\n",
       "      <td>16.9</td>\n",
       "      <td>0 - 5%</td>\n",
       "      <td>10 - 30%</td>\n",
       "      <td>10 - 20%</td>\n",
       "    </tr>\n",
       "  </tbody>\n",
       "</table>\n",
       "</div>"
      ],
      "text/plain": [
       "  state_abbv   ETO   ETW  ETOW    ET_cat ET_Work_cat ET_ET_Work_cat\n",
       "0         VA   2.0  62.5  64.5    0 - 5%       30% <          30% <\n",
       "1         TN   5.5  20.8  26.3   5 - 10%    10 - 30%       20 - 30%\n",
       "2         VT  19.9   0.7  20.6  15 - 20%      0 - 5%       20 - 30%\n",
       "3         ID   6.0  11.4  17.4   5 - 10%    10 - 30%       10 - 20%\n",
       "4         OH   1.9  15.0  16.9    0 - 5%    10 - 30%       10 - 20%"
      ]
     },
     "execution_count": 10,
     "metadata": {},
     "output_type": "execute_result"
    }
   ],
   "source": [
    "# Importing data from Stata \n",
    "pd.read_stata('data/State_ETO_short.dta')"
   ]
  },
  {
   "cell_type": "markdown",
   "metadata": {},
   "source": [
    "This is how we read in a DataFrame, but we still need to store and name it.This can be accomplished in one line:"
   ]
  },
  {
   "cell_type": "code",
   "execution_count": 11,
   "metadata": {},
   "outputs": [],
   "source": [
    "df = pd.read_stata('data/State_ETO_short.dta')"
   ]
  },
  {
   "cell_type": "markdown",
   "metadata": {},
   "source": [
    "Now, when we call \"df\", we'll get the DataFrame that corresponds to the data referenced in \"pd.read_stata('data/State_ETO.dta')\""
   ]
  },
  {
   "cell_type": "code",
   "execution_count": 12,
   "metadata": {},
   "outputs": [
    {
     "data": {
      "text/html": [
       "<div>\n",
       "<style scoped>\n",
       "    .dataframe tbody tr th:only-of-type {\n",
       "        vertical-align: middle;\n",
       "    }\n",
       "\n",
       "    .dataframe tbody tr th {\n",
       "        vertical-align: top;\n",
       "    }\n",
       "\n",
       "    .dataframe thead th {\n",
       "        text-align: right;\n",
       "    }\n",
       "</style>\n",
       "<table border=\"1\" class=\"dataframe\">\n",
       "  <thead>\n",
       "    <tr style=\"text-align: right;\">\n",
       "      <th></th>\n",
       "      <th>state_abbv</th>\n",
       "      <th>ETO</th>\n",
       "      <th>ETW</th>\n",
       "      <th>ETOW</th>\n",
       "      <th>ET_cat</th>\n",
       "      <th>ET_Work_cat</th>\n",
       "      <th>ET_ET_Work_cat</th>\n",
       "    </tr>\n",
       "  </thead>\n",
       "  <tbody>\n",
       "    <tr>\n",
       "      <th>0</th>\n",
       "      <td>VA</td>\n",
       "      <td>2.0</td>\n",
       "      <td>62.5</td>\n",
       "      <td>64.5</td>\n",
       "      <td>0 - 5%</td>\n",
       "      <td>30% &lt;</td>\n",
       "      <td>30% &lt;</td>\n",
       "    </tr>\n",
       "    <tr>\n",
       "      <th>1</th>\n",
       "      <td>TN</td>\n",
       "      <td>5.5</td>\n",
       "      <td>20.8</td>\n",
       "      <td>26.3</td>\n",
       "      <td>5 - 10%</td>\n",
       "      <td>10 - 30%</td>\n",
       "      <td>20 - 30%</td>\n",
       "    </tr>\n",
       "    <tr>\n",
       "      <th>2</th>\n",
       "      <td>VT</td>\n",
       "      <td>19.9</td>\n",
       "      <td>0.7</td>\n",
       "      <td>20.6</td>\n",
       "      <td>15 - 20%</td>\n",
       "      <td>0 - 5%</td>\n",
       "      <td>20 - 30%</td>\n",
       "    </tr>\n",
       "    <tr>\n",
       "      <th>3</th>\n",
       "      <td>ID</td>\n",
       "      <td>6.0</td>\n",
       "      <td>11.4</td>\n",
       "      <td>17.4</td>\n",
       "      <td>5 - 10%</td>\n",
       "      <td>10 - 30%</td>\n",
       "      <td>10 - 20%</td>\n",
       "    </tr>\n",
       "    <tr>\n",
       "      <th>4</th>\n",
       "      <td>OH</td>\n",
       "      <td>1.9</td>\n",
       "      <td>15.0</td>\n",
       "      <td>16.9</td>\n",
       "      <td>0 - 5%</td>\n",
       "      <td>10 - 30%</td>\n",
       "      <td>10 - 20%</td>\n",
       "    </tr>\n",
       "  </tbody>\n",
       "</table>\n",
       "</div>"
      ],
      "text/plain": [
       "  state_abbv   ETO   ETW  ETOW    ET_cat ET_Work_cat ET_ET_Work_cat\n",
       "0         VA   2.0  62.5  64.5    0 - 5%       30% <          30% <\n",
       "1         TN   5.5  20.8  26.3   5 - 10%    10 - 30%       20 - 30%\n",
       "2         VT  19.9   0.7  20.6  15 - 20%      0 - 5%       20 - 30%\n",
       "3         ID   6.0  11.4  17.4   5 - 10%    10 - 30%       10 - 20%\n",
       "4         OH   1.9  15.0  16.9    0 - 5%    10 - 30%       10 - 20%"
      ]
     },
     "execution_count": 12,
     "metadata": {},
     "output_type": "execute_result"
    }
   ],
   "source": [
    "df"
   ]
  },
  {
   "cell_type": "markdown",
   "metadata": {},
   "source": [
    "#### Excel Files (XLSX)"
   ]
  },
  {
   "cell_type": "code",
   "execution_count": 13,
   "metadata": {
    "scrolled": true
   },
   "outputs": [
    {
     "data": {
      "text/html": [
       "<div>\n",
       "<style scoped>\n",
       "    .dataframe tbody tr th:only-of-type {\n",
       "        vertical-align: middle;\n",
       "    }\n",
       "\n",
       "    .dataframe tbody tr th {\n",
       "        vertical-align: top;\n",
       "    }\n",
       "\n",
       "    .dataframe thead th {\n",
       "        text-align: right;\n",
       "    }\n",
       "</style>\n",
       "<table border=\"1\" class=\"dataframe\">\n",
       "  <thead>\n",
       "    <tr style=\"text-align: right;\">\n",
       "      <th></th>\n",
       "      <th>Year</th>\n",
       "      <th>State</th>\n",
       "      <th>Table_Data</th>\n",
       "      <th>High.Value</th>\n",
       "      <th>Low.Value</th>\n",
       "      <th>CPI.Average</th>\n",
       "      <th>High 2018</th>\n",
       "      <th>Low.2018</th>\n",
       "    </tr>\n",
       "  </thead>\n",
       "  <tbody>\n",
       "    <tr>\n",
       "      <th>0</th>\n",
       "      <td>1968</td>\n",
       "      <td>Alabama</td>\n",
       "      <td>NaN</td>\n",
       "      <td>0.00000</td>\n",
       "      <td>0.00000</td>\n",
       "      <td>34.783333</td>\n",
       "      <td>0.00</td>\n",
       "      <td>0.00</td>\n",
       "    </tr>\n",
       "    <tr>\n",
       "      <th>1</th>\n",
       "      <td>1968</td>\n",
       "      <td>Alaska</td>\n",
       "      <td>2.1</td>\n",
       "      <td>2.10000</td>\n",
       "      <td>2.10000</td>\n",
       "      <td>34.783333</td>\n",
       "      <td>15.12</td>\n",
       "      <td>15.12</td>\n",
       "    </tr>\n",
       "    <tr>\n",
       "      <th>2</th>\n",
       "      <td>1968</td>\n",
       "      <td>Arizona</td>\n",
       "      <td>18.72 - 26.40/wk(b)</td>\n",
       "      <td>0.66000</td>\n",
       "      <td>0.46800</td>\n",
       "      <td>34.783333</td>\n",
       "      <td>4.75</td>\n",
       "      <td>3.37</td>\n",
       "    </tr>\n",
       "    <tr>\n",
       "      <th>3</th>\n",
       "      <td>1968</td>\n",
       "      <td>Arkansas</td>\n",
       "      <td>1.25/day(b)</td>\n",
       "      <td>0.15625</td>\n",
       "      <td>0.15625</td>\n",
       "      <td>34.783333</td>\n",
       "      <td>1.12</td>\n",
       "      <td>1.12</td>\n",
       "    </tr>\n",
       "    <tr>\n",
       "      <th>4</th>\n",
       "      <td>1968</td>\n",
       "      <td>California</td>\n",
       "      <td>1.65(b)</td>\n",
       "      <td>1.65000</td>\n",
       "      <td>1.65000</td>\n",
       "      <td>34.783333</td>\n",
       "      <td>11.88</td>\n",
       "      <td>11.88</td>\n",
       "    </tr>\n",
       "    <tr>\n",
       "      <th>5</th>\n",
       "      <td>1968</td>\n",
       "      <td>Colorado</td>\n",
       "      <td>1.00 - 1.25(b)</td>\n",
       "      <td>1.25000</td>\n",
       "      <td>1.00000</td>\n",
       "      <td>34.783333</td>\n",
       "      <td>9.00</td>\n",
       "      <td>7.20</td>\n",
       "    </tr>\n",
       "  </tbody>\n",
       "</table>\n",
       "</div>"
      ],
      "text/plain": [
       "   Year       State           Table_Data  High.Value  Low.Value  CPI.Average  \\\n",
       "0  1968     Alabama                  NaN     0.00000    0.00000    34.783333   \n",
       "1  1968      Alaska                  2.1     2.10000    2.10000    34.783333   \n",
       "2  1968     Arizona  18.72 - 26.40/wk(b)     0.66000    0.46800    34.783333   \n",
       "3  1968    Arkansas          1.25/day(b)     0.15625    0.15625    34.783333   \n",
       "4  1968  California              1.65(b)     1.65000    1.65000    34.783333   \n",
       "5  1968    Colorado       1.00 - 1.25(b)     1.25000    1.00000    34.783333   \n",
       "\n",
       "   High 2018  Low.2018  \n",
       "0       0.00      0.00  \n",
       "1      15.12     15.12  \n",
       "2       4.75      3.37  \n",
       "3       1.12      1.12  \n",
       "4      11.88     11.88  \n",
       "5       9.00      7.20  "
      ]
     },
     "execution_count": 13,
     "metadata": {},
     "output_type": "execute_result"
    }
   ],
   "source": [
    "# Importing data from excel into pandas\n",
    "df = pd.read_excel('data/Minimum_Wage_Data_Short.xlsx')\n",
    "df"
   ]
  },
  {
   "cell_type": "markdown",
   "metadata": {},
   "source": [
    "#### Other data types\n",
    "Similar variants for uploading exists for each common data type - CSV, SAS, and so on."
   ]
  },
  {
   "cell_type": "markdown",
   "metadata": {},
   "source": [
    "### Exporting Data\n",
    "\n",
    "Exporting data is very simple as well and follow a pattern similar to exporting."
   ]
  },
  {
   "cell_type": "markdown",
   "metadata": {},
   "source": [
    "#### CSV"
   ]
  },
  {
   "cell_type": "code",
   "execution_count": 14,
   "metadata": {},
   "outputs": [],
   "source": [
    "df.to_csv('exports/Minimum_Wage_Data.csv')"
   ]
  },
  {
   "cell_type": "markdown",
   "metadata": {},
   "source": [
    "### Converting Data"
   ]
  },
  {
   "cell_type": "markdown",
   "metadata": {},
   "source": [
    "Now that we know how to load in data, it will be useful to examine ways to convert already existing data structures into DataFrames. "
   ]
  },
  {
   "cell_type": "markdown",
   "metadata": {},
   "source": [
    "#### List"
   ]
  },
  {
   "cell_type": "code",
   "execution_count": 15,
   "metadata": {},
   "outputs": [
    {
     "data": {
      "text/html": [
       "<div>\n",
       "<style scoped>\n",
       "    .dataframe tbody tr th:only-of-type {\n",
       "        vertical-align: middle;\n",
       "    }\n",
       "\n",
       "    .dataframe tbody tr th {\n",
       "        vertical-align: top;\n",
       "    }\n",
       "\n",
       "    .dataframe thead th {\n",
       "        text-align: right;\n",
       "    }\n",
       "</style>\n",
       "<table border=\"1\" class=\"dataframe\">\n",
       "  <thead>\n",
       "    <tr style=\"text-align: right;\">\n",
       "      <th></th>\n",
       "      <th>a</th>\n",
       "      <th>b</th>\n",
       "      <th>c</th>\n",
       "    </tr>\n",
       "  </thead>\n",
       "  <tbody>\n",
       "    <tr>\n",
       "      <th>0</th>\n",
       "      <td>1</td>\n",
       "      <td>2</td>\n",
       "      <td>3</td>\n",
       "    </tr>\n",
       "    <tr>\n",
       "      <th>1</th>\n",
       "      <td>4</td>\n",
       "      <td>5</td>\n",
       "      <td>6</td>\n",
       "    </tr>\n",
       "    <tr>\n",
       "      <th>2</th>\n",
       "      <td>7</td>\n",
       "      <td>8</td>\n",
       "      <td>9</td>\n",
       "    </tr>\n",
       "  </tbody>\n",
       "</table>\n",
       "</div>"
      ],
      "text/plain": [
       "   a  b  c\n",
       "0  1  2  3\n",
       "1  4  5  6\n",
       "2  7  8  9"
      ]
     },
     "execution_count": 15,
     "metadata": {},
     "output_type": "execute_result"
    }
   ],
   "source": [
    "my_list = [1,2,3,4,5,6,7,8,9]\n",
    "columns = ['a', 'b', 'c']\n",
    "\n",
    "pd.DataFrame(np.array(my_list).reshape(3,3), columns = columns)"
   ]
  },
  {
   "cell_type": "markdown",
   "metadata": {},
   "source": [
    "An important thing to note: pd.DataFrame has a multitude of options. The most import of which is what follows right after the first parentheses which is the data that is to be transformed. Here are transform the list [1,2,3,4,5,6,7,7,8,9] into an np.array with the shape of: \n",
    "\n",
    "    [[1,2,3],\n",
    "    [4,5,6], \n",
    "    [7.8.9]]\n",
    "    \n",
    "Then we transform the data to a pandas dataframe which gives us: \n",
    "\n",
    "    0\t1\t2\t3\n",
    "    1\t4\t5\t6\n",
    "    2\t7\t8\t9\n",
    "    \n",
    "    \n",
    "Finally, we add a list of column name with the option columns = columns to get the final dataframe.\n",
    "\n",
    "\n",
    "        a\tb\tc\n",
    "    0\t1\t2\t3\n",
    "    1\t4\t5\t6\n",
    "    2\t7\t8\t9\n"
   ]
  },
  {
   "cell_type": "markdown",
   "metadata": {},
   "source": [
    "#### Dictionary"
   ]
  },
  {
   "cell_type": "code",
   "execution_count": 16,
   "metadata": {},
   "outputs": [
    {
     "data": {
      "text/html": [
       "<div>\n",
       "<style scoped>\n",
       "    .dataframe tbody tr th:only-of-type {\n",
       "        vertical-align: middle;\n",
       "    }\n",
       "\n",
       "    .dataframe tbody tr th {\n",
       "        vertical-align: top;\n",
       "    }\n",
       "\n",
       "    .dataframe thead th {\n",
       "        text-align: right;\n",
       "    }\n",
       "</style>\n",
       "<table border=\"1\" class=\"dataframe\">\n",
       "  <thead>\n",
       "    <tr style=\"text-align: right;\">\n",
       "      <th></th>\n",
       "      <th>col_1</th>\n",
       "      <th>col_2</th>\n",
       "    </tr>\n",
       "  </thead>\n",
       "  <tbody>\n",
       "    <tr>\n",
       "      <th>0</th>\n",
       "      <td>3</td>\n",
       "      <td>a</td>\n",
       "    </tr>\n",
       "    <tr>\n",
       "      <th>1</th>\n",
       "      <td>2</td>\n",
       "      <td>b</td>\n",
       "    </tr>\n",
       "    <tr>\n",
       "      <th>2</th>\n",
       "      <td>1</td>\n",
       "      <td>c</td>\n",
       "    </tr>\n",
       "    <tr>\n",
       "      <th>3</th>\n",
       "      <td>0</td>\n",
       "      <td>d</td>\n",
       "    </tr>\n",
       "  </tbody>\n",
       "</table>\n",
       "</div>"
      ],
      "text/plain": [
       "   col_1 col_2\n",
       "0      3     a\n",
       "1      2     b\n",
       "2      1     c\n",
       "3      0     d"
      ]
     },
     "execution_count": 16,
     "metadata": {},
     "output_type": "execute_result"
    }
   ],
   "source": [
    "data = {'col_1': [3, 2, 1, 0], 'col_2': ['a', 'b', 'c', 'd']}\n",
    "pd.DataFrame.from_dict(data)"
   ]
  },
  {
   "cell_type": "markdown",
   "metadata": {},
   "source": [
    "#### Numpy Array"
   ]
  },
  {
   "cell_type": "code",
   "execution_count": 17,
   "metadata": {},
   "outputs": [
    {
     "data": {
      "text/html": [
       "<div>\n",
       "<style scoped>\n",
       "    .dataframe tbody tr th:only-of-type {\n",
       "        vertical-align: middle;\n",
       "    }\n",
       "\n",
       "    .dataframe tbody tr th {\n",
       "        vertical-align: top;\n",
       "    }\n",
       "\n",
       "    .dataframe thead th {\n",
       "        text-align: right;\n",
       "    }\n",
       "</style>\n",
       "<table border=\"1\" class=\"dataframe\">\n",
       "  <thead>\n",
       "    <tr style=\"text-align: right;\">\n",
       "      <th></th>\n",
       "      <th>Col1</th>\n",
       "      <th>Col2</th>\n",
       "      <th>Col3</th>\n",
       "    </tr>\n",
       "  </thead>\n",
       "  <tbody>\n",
       "    <tr>\n",
       "      <th>Row1</th>\n",
       "      <td>0</td>\n",
       "      <td>0.0</td>\n",
       "      <td>0.0</td>\n",
       "    </tr>\n",
       "    <tr>\n",
       "      <th>Row2</th>\n",
       "      <td>0</td>\n",
       "      <td>0.0</td>\n",
       "      <td>0.0</td>\n",
       "    </tr>\n",
       "    <tr>\n",
       "      <th>Row3</th>\n",
       "      <td>0</td>\n",
       "      <td>0.0</td>\n",
       "      <td>0.0</td>\n",
       "    </tr>\n",
       "    <tr>\n",
       "      <th>Row4</th>\n",
       "      <td>0</td>\n",
       "      <td>0.0</td>\n",
       "      <td>0.0</td>\n",
       "    </tr>\n",
       "    <tr>\n",
       "      <th>Row5</th>\n",
       "      <td>0</td>\n",
       "      <td>0.0</td>\n",
       "      <td>0.0</td>\n",
       "    </tr>\n",
       "  </tbody>\n",
       "</table>\n",
       "</div>"
      ],
      "text/plain": [
       "      Col1  Col2  Col3\n",
       "Row1     0   0.0   0.0\n",
       "Row2     0   0.0   0.0\n",
       "Row3     0   0.0   0.0\n",
       "Row4     0   0.0   0.0\n",
       "Row5     0   0.0   0.0"
      ]
     },
     "execution_count": 17,
     "metadata": {},
     "output_type": "execute_result"
    }
   ],
   "source": [
    "dtype = [('Col1','int32'), ('Col2','float32'), ('Col3','float32')]\n",
    "values = np.zeros(5, dtype=dtype)\n",
    "index = ['Row'+str(i) for i in range(1, len(values)+1)]\n",
    "\n",
    "pd.DataFrame(values, index=index).head()"
   ]
  },
  {
   "cell_type": "markdown",
   "metadata": {},
   "source": [
    "### 3. Data Viewing"
   ]
  },
  {
   "cell_type": "markdown",
   "metadata": {},
   "source": [
    "Now that we know how to load in our DataFrame, we will try to view and manipulate our data before our analysis is run. "
   ]
  },
  {
   "cell_type": "markdown",
   "metadata": {},
   "source": [
    "### Understanding our data: Viewing, Subsetting, and Summary Statistics\n",
    "\n"
   ]
  },
  {
   "cell_type": "markdown",
   "metadata": {},
   "source": [
    "#### Data Viewing "
   ]
  },
  {
   "cell_type": "markdown",
   "metadata": {},
   "source": [
    "We know that we can view our data by simply printing the dataframe, but what if our data is too large?\n",
    "\n",
    ".head() prints out the first 5 rows. (inside the parathetnicals you can specify the first N observations you want to see)"
   ]
  },
  {
   "cell_type": "code",
   "execution_count": 18,
   "metadata": {},
   "outputs": [
    {
     "data": {
      "text/html": [
       "<div>\n",
       "<style scoped>\n",
       "    .dataframe tbody tr th:only-of-type {\n",
       "        vertical-align: middle;\n",
       "    }\n",
       "\n",
       "    .dataframe tbody tr th {\n",
       "        vertical-align: top;\n",
       "    }\n",
       "\n",
       "    .dataframe thead th {\n",
       "        text-align: right;\n",
       "    }\n",
       "</style>\n",
       "<table border=\"1\" class=\"dataframe\">\n",
       "  <thead>\n",
       "    <tr style=\"text-align: right;\">\n",
       "      <th></th>\n",
       "      <th>Year</th>\n",
       "      <th>State</th>\n",
       "      <th>Table_Data</th>\n",
       "      <th>High.Value</th>\n",
       "      <th>Low.Value</th>\n",
       "      <th>CPI.Average</th>\n",
       "      <th>High 2018</th>\n",
       "      <th>Low.2018</th>\n",
       "    </tr>\n",
       "  </thead>\n",
       "  <tbody>\n",
       "    <tr>\n",
       "      <th>0</th>\n",
       "      <td>1968</td>\n",
       "      <td>Alabama</td>\n",
       "      <td>NaN</td>\n",
       "      <td>0.00000</td>\n",
       "      <td>0.00000</td>\n",
       "      <td>34.783333</td>\n",
       "      <td>0.00</td>\n",
       "      <td>0.00</td>\n",
       "    </tr>\n",
       "    <tr>\n",
       "      <th>1</th>\n",
       "      <td>1968</td>\n",
       "      <td>Alaska</td>\n",
       "      <td>2.1</td>\n",
       "      <td>2.10000</td>\n",
       "      <td>2.10000</td>\n",
       "      <td>34.783333</td>\n",
       "      <td>15.12</td>\n",
       "      <td>15.12</td>\n",
       "    </tr>\n",
       "    <tr>\n",
       "      <th>2</th>\n",
       "      <td>1968</td>\n",
       "      <td>Arizona</td>\n",
       "      <td>18.72 - 26.40/wk(b)</td>\n",
       "      <td>0.66000</td>\n",
       "      <td>0.46800</td>\n",
       "      <td>34.783333</td>\n",
       "      <td>4.75</td>\n",
       "      <td>3.37</td>\n",
       "    </tr>\n",
       "    <tr>\n",
       "      <th>3</th>\n",
       "      <td>1968</td>\n",
       "      <td>Arkansas</td>\n",
       "      <td>1.25/day(b)</td>\n",
       "      <td>0.15625</td>\n",
       "      <td>0.15625</td>\n",
       "      <td>34.783333</td>\n",
       "      <td>1.12</td>\n",
       "      <td>1.12</td>\n",
       "    </tr>\n",
       "    <tr>\n",
       "      <th>4</th>\n",
       "      <td>1968</td>\n",
       "      <td>California</td>\n",
       "      <td>1.65(b)</td>\n",
       "      <td>1.65000</td>\n",
       "      <td>1.65000</td>\n",
       "      <td>34.783333</td>\n",
       "      <td>11.88</td>\n",
       "      <td>11.88</td>\n",
       "    </tr>\n",
       "  </tbody>\n",
       "</table>\n",
       "</div>"
      ],
      "text/plain": [
       "   Year       State           Table_Data  High.Value  Low.Value  CPI.Average  \\\n",
       "0  1968     Alabama                  NaN     0.00000    0.00000    34.783333   \n",
       "1  1968      Alaska                  2.1     2.10000    2.10000    34.783333   \n",
       "2  1968     Arizona  18.72 - 26.40/wk(b)     0.66000    0.46800    34.783333   \n",
       "3  1968    Arkansas          1.25/day(b)     0.15625    0.15625    34.783333   \n",
       "4  1968  California              1.65(b)     1.65000    1.65000    34.783333   \n",
       "\n",
       "   High 2018  Low.2018  \n",
       "0       0.00      0.00  \n",
       "1      15.12     15.12  \n",
       "2       4.75      3.37  \n",
       "3       1.12      1.12  \n",
       "4      11.88     11.88  "
      ]
     },
     "execution_count": 18,
     "metadata": {},
     "output_type": "execute_result"
    }
   ],
   "source": [
    "df.head()"
   ]
  },
  {
   "cell_type": "code",
   "execution_count": 19,
   "metadata": {},
   "outputs": [
    {
     "data": {
      "text/html": [
       "<div>\n",
       "<style scoped>\n",
       "    .dataframe tbody tr th:only-of-type {\n",
       "        vertical-align: middle;\n",
       "    }\n",
       "\n",
       "    .dataframe tbody tr th {\n",
       "        vertical-align: top;\n",
       "    }\n",
       "\n",
       "    .dataframe thead th {\n",
       "        text-align: right;\n",
       "    }\n",
       "</style>\n",
       "<table border=\"1\" class=\"dataframe\">\n",
       "  <thead>\n",
       "    <tr style=\"text-align: right;\">\n",
       "      <th></th>\n",
       "      <th>Year</th>\n",
       "      <th>State</th>\n",
       "      <th>Table_Data</th>\n",
       "      <th>High.Value</th>\n",
       "      <th>Low.Value</th>\n",
       "      <th>CPI.Average</th>\n",
       "      <th>High 2018</th>\n",
       "      <th>Low.2018</th>\n",
       "    </tr>\n",
       "  </thead>\n",
       "  <tbody>\n",
       "    <tr>\n",
       "      <th>0</th>\n",
       "      <td>1968</td>\n",
       "      <td>Alabama</td>\n",
       "      <td>NaN</td>\n",
       "      <td>0.0</td>\n",
       "      <td>0.0</td>\n",
       "      <td>34.783333</td>\n",
       "      <td>0.00</td>\n",
       "      <td>0.00</td>\n",
       "    </tr>\n",
       "    <tr>\n",
       "      <th>1</th>\n",
       "      <td>1968</td>\n",
       "      <td>Alaska</td>\n",
       "      <td>2.1</td>\n",
       "      <td>2.1</td>\n",
       "      <td>2.1</td>\n",
       "      <td>34.783333</td>\n",
       "      <td>15.12</td>\n",
       "      <td>15.12</td>\n",
       "    </tr>\n",
       "  </tbody>\n",
       "</table>\n",
       "</div>"
      ],
      "text/plain": [
       "   Year    State Table_Data  High.Value  Low.Value  CPI.Average  High 2018  \\\n",
       "0  1968  Alabama        NaN         0.0        0.0    34.783333       0.00   \n",
       "1  1968   Alaska        2.1         2.1        2.1    34.783333      15.12   \n",
       "\n",
       "   Low.2018  \n",
       "0      0.00  \n",
       "1     15.12  "
      ]
     },
     "execution_count": 19,
     "metadata": {},
     "output_type": "execute_result"
    }
   ],
   "source": [
    "df.head(2)"
   ]
  },
  {
   "cell_type": "markdown",
   "metadata": {},
   "source": [
    "You can also do all of these methods on a single series"
   ]
  },
  {
   "cell_type": "code",
   "execution_count": 20,
   "metadata": {},
   "outputs": [
    {
     "data": {
      "text/plain": [
       "0    1968\n",
       "1    1968\n",
       "2    1968\n",
       "3    1968\n",
       "4    1968\n",
       "Name: Year, dtype: int64"
      ]
     },
     "execution_count": 20,
     "metadata": {},
     "output_type": "execute_result"
    }
   ],
   "source": [
    "df['Year'].head()"
   ]
  },
  {
   "cell_type": "markdown",
   "metadata": {},
   "source": [
    "Or, you can do multiple at one time"
   ]
  },
  {
   "cell_type": "code",
   "execution_count": 21,
   "metadata": {},
   "outputs": [
    {
     "data": {
      "text/html": [
       "<div>\n",
       "<style scoped>\n",
       "    .dataframe tbody tr th:only-of-type {\n",
       "        vertical-align: middle;\n",
       "    }\n",
       "\n",
       "    .dataframe tbody tr th {\n",
       "        vertical-align: top;\n",
       "    }\n",
       "\n",
       "    .dataframe thead th {\n",
       "        text-align: right;\n",
       "    }\n",
       "</style>\n",
       "<table border=\"1\" class=\"dataframe\">\n",
       "  <thead>\n",
       "    <tr style=\"text-align: right;\">\n",
       "      <th></th>\n",
       "      <th>State</th>\n",
       "      <th>Table_Data</th>\n",
       "    </tr>\n",
       "  </thead>\n",
       "  <tbody>\n",
       "    <tr>\n",
       "      <th>0</th>\n",
       "      <td>Alabama</td>\n",
       "      <td>NaN</td>\n",
       "    </tr>\n",
       "    <tr>\n",
       "      <th>1</th>\n",
       "      <td>Alaska</td>\n",
       "      <td>2.1</td>\n",
       "    </tr>\n",
       "    <tr>\n",
       "      <th>2</th>\n",
       "      <td>Arizona</td>\n",
       "      <td>18.72 - 26.40/wk(b)</td>\n",
       "    </tr>\n",
       "    <tr>\n",
       "      <th>3</th>\n",
       "      <td>Arkansas</td>\n",
       "      <td>1.25/day(b)</td>\n",
       "    </tr>\n",
       "    <tr>\n",
       "      <th>4</th>\n",
       "      <td>California</td>\n",
       "      <td>1.65(b)</td>\n",
       "    </tr>\n",
       "  </tbody>\n",
       "</table>\n",
       "</div>"
      ],
      "text/plain": [
       "        State           Table_Data\n",
       "0     Alabama                  NaN\n",
       "1      Alaska                  2.1\n",
       "2     Arizona  18.72 - 26.40/wk(b)\n",
       "3    Arkansas          1.25/day(b)\n",
       "4  California              1.65(b)"
      ]
     },
     "execution_count": 21,
     "metadata": {},
     "output_type": "execute_result"
    }
   ],
   "source": [
    "df[['State', 'Table_Data']].head()"
   ]
  },
  {
   "cell_type": "markdown",
   "metadata": {},
   "source": [
    "It's also good to view general information on the dataframe from .info() and to understand the datatypes of each of the columns"
   ]
  },
  {
   "cell_type": "code",
   "execution_count": 22,
   "metadata": {},
   "outputs": [
    {
     "name": "stdout",
     "output_type": "stream",
     "text": [
      "<class 'pandas.core.frame.DataFrame'>\n",
      "RangeIndex: 6 entries, 0 to 5\n",
      "Data columns (total 8 columns):\n",
      "Year           6 non-null int64\n",
      "State          6 non-null object\n",
      "Table_Data     5 non-null object\n",
      "High.Value     6 non-null float64\n",
      "Low.Value      6 non-null float64\n",
      "CPI.Average    6 non-null float64\n",
      "High 2018      6 non-null float64\n",
      "Low.2018       6 non-null float64\n",
      "dtypes: float64(5), int64(1), object(2)\n",
      "memory usage: 464.0+ bytes\n"
     ]
    }
   ],
   "source": [
    "df.info()"
   ]
  },
  {
   "cell_type": "code",
   "execution_count": 23,
   "metadata": {},
   "outputs": [
    {
     "data": {
      "text/plain": [
       "Year             int64\n",
       "State           object\n",
       "Table_Data      object\n",
       "High.Value     float64\n",
       "Low.Value      float64\n",
       "CPI.Average    float64\n",
       "High 2018      float64\n",
       "Low.2018       float64\n",
       "dtype: object"
      ]
     },
     "execution_count": 23,
     "metadata": {},
     "output_type": "execute_result"
    }
   ],
   "source": [
    "df.dtypes"
   ]
  },
  {
   "cell_type": "markdown",
   "metadata": {},
   "source": [
    "Similar to our use of head, we can use tail to examine the last few data points"
   ]
  },
  {
   "cell_type": "code",
   "execution_count": 24,
   "metadata": {},
   "outputs": [
    {
     "data": {
      "text/html": [
       "<div>\n",
       "<style scoped>\n",
       "    .dataframe tbody tr th:only-of-type {\n",
       "        vertical-align: middle;\n",
       "    }\n",
       "\n",
       "    .dataframe tbody tr th {\n",
       "        vertical-align: top;\n",
       "    }\n",
       "\n",
       "    .dataframe thead th {\n",
       "        text-align: right;\n",
       "    }\n",
       "</style>\n",
       "<table border=\"1\" class=\"dataframe\">\n",
       "  <thead>\n",
       "    <tr style=\"text-align: right;\">\n",
       "      <th></th>\n",
       "      <th>Year</th>\n",
       "      <th>State</th>\n",
       "      <th>Table_Data</th>\n",
       "      <th>High.Value</th>\n",
       "      <th>Low.Value</th>\n",
       "      <th>CPI.Average</th>\n",
       "      <th>High 2018</th>\n",
       "      <th>Low.2018</th>\n",
       "    </tr>\n",
       "  </thead>\n",
       "  <tbody>\n",
       "    <tr>\n",
       "      <th>4</th>\n",
       "      <td>1968</td>\n",
       "      <td>California</td>\n",
       "      <td>1.65(b)</td>\n",
       "      <td>1.65</td>\n",
       "      <td>1.65</td>\n",
       "      <td>34.783333</td>\n",
       "      <td>11.88</td>\n",
       "      <td>11.88</td>\n",
       "    </tr>\n",
       "    <tr>\n",
       "      <th>5</th>\n",
       "      <td>1968</td>\n",
       "      <td>Colorado</td>\n",
       "      <td>1.00 - 1.25(b)</td>\n",
       "      <td>1.25</td>\n",
       "      <td>1.00</td>\n",
       "      <td>34.783333</td>\n",
       "      <td>9.00</td>\n",
       "      <td>7.20</td>\n",
       "    </tr>\n",
       "  </tbody>\n",
       "</table>\n",
       "</div>"
      ],
      "text/plain": [
       "   Year       State      Table_Data  High.Value  Low.Value  CPI.Average  \\\n",
       "4  1968  California         1.65(b)        1.65       1.65    34.783333   \n",
       "5  1968    Colorado  1.00 - 1.25(b)        1.25       1.00    34.783333   \n",
       "\n",
       "   High 2018  Low.2018  \n",
       "4      11.88     11.88  \n",
       "5       9.00      7.20  "
      ]
     },
     "execution_count": 24,
     "metadata": {},
     "output_type": "execute_result"
    }
   ],
   "source": [
    "df.tail(2)"
   ]
  },
  {
   "cell_type": "markdown",
   "metadata": {},
   "source": [
    "#### Subsetting data"
   ]
  },
  {
   "cell_type": "markdown",
   "metadata": {},
   "source": [
    "We can do traditional slicing through the index [start, end]. This will subset by rows. \n",
    "\n",
    "We can also do subsetting by the series df[['columns_we_want_1, 'columsn_we_want_2']]. This will subset by columns."
   ]
  },
  {
   "cell_type": "markdown",
   "metadata": {},
   "source": [
    "Slicing by the index is similar to slicing any Python object by its index."
   ]
  },
  {
   "cell_type": "markdown",
   "metadata": {},
   "source": [
    "##### Slicing the data by rows"
   ]
  },
  {
   "cell_type": "code",
   "execution_count": 25,
   "metadata": {},
   "outputs": [
    {
     "data": {
      "text/html": [
       "<div>\n",
       "<style scoped>\n",
       "    .dataframe tbody tr th:only-of-type {\n",
       "        vertical-align: middle;\n",
       "    }\n",
       "\n",
       "    .dataframe tbody tr th {\n",
       "        vertical-align: top;\n",
       "    }\n",
       "\n",
       "    .dataframe thead th {\n",
       "        text-align: right;\n",
       "    }\n",
       "</style>\n",
       "<table border=\"1\" class=\"dataframe\">\n",
       "  <thead>\n",
       "    <tr style=\"text-align: right;\">\n",
       "      <th></th>\n",
       "      <th>Year</th>\n",
       "      <th>State</th>\n",
       "      <th>Table_Data</th>\n",
       "      <th>High.Value</th>\n",
       "      <th>Low.Value</th>\n",
       "      <th>CPI.Average</th>\n",
       "      <th>High 2018</th>\n",
       "      <th>Low.2018</th>\n",
       "    </tr>\n",
       "  </thead>\n",
       "  <tbody>\n",
       "    <tr>\n",
       "      <th>1</th>\n",
       "      <td>1968</td>\n",
       "      <td>Alaska</td>\n",
       "      <td>2.1</td>\n",
       "      <td>2.10000</td>\n",
       "      <td>2.10000</td>\n",
       "      <td>34.783333</td>\n",
       "      <td>15.12</td>\n",
       "      <td>15.12</td>\n",
       "    </tr>\n",
       "    <tr>\n",
       "      <th>2</th>\n",
       "      <td>1968</td>\n",
       "      <td>Arizona</td>\n",
       "      <td>18.72 - 26.40/wk(b)</td>\n",
       "      <td>0.66000</td>\n",
       "      <td>0.46800</td>\n",
       "      <td>34.783333</td>\n",
       "      <td>4.75</td>\n",
       "      <td>3.37</td>\n",
       "    </tr>\n",
       "    <tr>\n",
       "      <th>3</th>\n",
       "      <td>1968</td>\n",
       "      <td>Arkansas</td>\n",
       "      <td>1.25/day(b)</td>\n",
       "      <td>0.15625</td>\n",
       "      <td>0.15625</td>\n",
       "      <td>34.783333</td>\n",
       "      <td>1.12</td>\n",
       "      <td>1.12</td>\n",
       "    </tr>\n",
       "  </tbody>\n",
       "</table>\n",
       "</div>"
      ],
      "text/plain": [
       "   Year     State           Table_Data  High.Value  Low.Value  CPI.Average  \\\n",
       "1  1968    Alaska                  2.1     2.10000    2.10000    34.783333   \n",
       "2  1968   Arizona  18.72 - 26.40/wk(b)     0.66000    0.46800    34.783333   \n",
       "3  1968  Arkansas          1.25/day(b)     0.15625    0.15625    34.783333   \n",
       "\n",
       "   High 2018  Low.2018  \n",
       "1      15.12     15.12  \n",
       "2       4.75      3.37  \n",
       "3       1.12      1.12  "
      ]
     },
     "execution_count": 25,
     "metadata": {},
     "output_type": "execute_result"
    }
   ],
   "source": [
    "df[1:4]"
   ]
  },
  {
   "cell_type": "markdown",
   "metadata": {},
   "source": [
    "Can also store in a variable to reference later"
   ]
  },
  {
   "cell_type": "markdown",
   "metadata": {},
   "source": [
    "Subsetting by columns just refers to calling a specific series - as seen earlier. "
   ]
  },
  {
   "cell_type": "markdown",
   "metadata": {},
   "source": [
    "##### Slicing the data by columns"
   ]
  },
  {
   "cell_type": "code",
   "execution_count": 26,
   "metadata": {},
   "outputs": [
    {
     "data": {
      "text/html": [
       "<div>\n",
       "<style scoped>\n",
       "    .dataframe tbody tr th:only-of-type {\n",
       "        vertical-align: middle;\n",
       "    }\n",
       "\n",
       "    .dataframe tbody tr th {\n",
       "        vertical-align: top;\n",
       "    }\n",
       "\n",
       "    .dataframe thead th {\n",
       "        text-align: right;\n",
       "    }\n",
       "</style>\n",
       "<table border=\"1\" class=\"dataframe\">\n",
       "  <thead>\n",
       "    <tr style=\"text-align: right;\">\n",
       "      <th></th>\n",
       "      <th>State</th>\n",
       "      <th>Table_Data</th>\n",
       "    </tr>\n",
       "  </thead>\n",
       "  <tbody>\n",
       "    <tr>\n",
       "      <th>0</th>\n",
       "      <td>Alabama</td>\n",
       "      <td>NaN</td>\n",
       "    </tr>\n",
       "    <tr>\n",
       "      <th>1</th>\n",
       "      <td>Alaska</td>\n",
       "      <td>2.1</td>\n",
       "    </tr>\n",
       "    <tr>\n",
       "      <th>2</th>\n",
       "      <td>Arizona</td>\n",
       "      <td>18.72 - 26.40/wk(b)</td>\n",
       "    </tr>\n",
       "    <tr>\n",
       "      <th>3</th>\n",
       "      <td>Arkansas</td>\n",
       "      <td>1.25/day(b)</td>\n",
       "    </tr>\n",
       "    <tr>\n",
       "      <th>4</th>\n",
       "      <td>California</td>\n",
       "      <td>1.65(b)</td>\n",
       "    </tr>\n",
       "  </tbody>\n",
       "</table>\n",
       "</div>"
      ],
      "text/plain": [
       "        State           Table_Data\n",
       "0     Alabama                  NaN\n",
       "1      Alaska                  2.1\n",
       "2     Arizona  18.72 - 26.40/wk(b)\n",
       "3    Arkansas          1.25/day(b)\n",
       "4  California              1.65(b)"
      ]
     },
     "execution_count": 26,
     "metadata": {},
     "output_type": "execute_result"
    }
   ],
   "source": [
    "columns_you_want = ['State', 'Table_Data'] \n",
    "df[columns_you_want].head()"
   ]
  },
  {
   "cell_type": "markdown",
   "metadata": {},
   "source": [
    "Let's bring in a larger dataset for this analysis to be meaningful. This will be a panel dataset of states, so there will be 50 rows for every year "
   ]
  },
  {
   "cell_type": "code",
   "execution_count": 27,
   "metadata": {},
   "outputs": [],
   "source": [
    "df = pd.read_excel(\"data/Minimum_Wage_Data.xlsx\")"
   ]
  },
  {
   "cell_type": "code",
   "execution_count": 28,
   "metadata": {},
   "outputs": [
    {
     "name": "stdout",
     "output_type": "stream",
     "text": [
      "This is the first five observations \n",
      "\n",
      "   Year       State\n",
      "0  1968     Alabama\n",
      "1  1968      Alaska\n",
      "2  1968     Arizona\n",
      "3  1968    Arkansas\n",
      "4  1968  California\n",
      "\n",
      "\n",
      "This is the last five observations \n",
      "\n",
      "      Year          State\n",
      "2745  2017       Virginia\n",
      "2746  2017     Washington\n",
      "2747  2017  West Virginia\n",
      "2748  2017      Wisconsin\n",
      "2749  2017        Wyoming\n"
     ]
    }
   ],
   "source": [
    "print(\"This is the first five observations \\n\")\n",
    "print(df[['Year', 'State']].head(5))\n",
    "print(\"\\n\")\n",
    "\n",
    "print(\"This is the last five observations \\n\")\n",
    "print(df[['Year', 'State']].tail(5))"
   ]
  },
  {
   "cell_type": "markdown",
   "metadata": {},
   "source": [
    "Viewing the size and columns of the data:"
   ]
  },
  {
   "cell_type": "code",
   "execution_count": 29,
   "metadata": {},
   "outputs": [
    {
     "name": "stdout",
     "output_type": "stream",
     "text": [
      "2750\n",
      "Index(['Year', 'State', 'Table_Data', 'High.Value', 'Low.Value', 'CPI.Average',\n",
      "       'High 2018', 'Low.2018'],\n",
      "      dtype='object')\n"
     ]
    }
   ],
   "source": [
    "print(len(df))\n",
    "print(df.columns)"
   ]
  },
  {
   "cell_type": "markdown",
   "metadata": {},
   "source": [
    "We have 8 variables: Year, State, Table_Data, High.Value, Low.Value, CPI.Average, High 2018, and Low 2018. Sometimes in our analysis we only want to keep certain years. For this, the traditional boolean logic mixed with Pandas slices the data into the segments we want."
   ]
  },
  {
   "cell_type": "markdown",
   "metadata": {},
   "source": [
    "#### Slicing based on conditions"
   ]
  },
  {
   "cell_type": "code",
   "execution_count": 30,
   "metadata": {},
   "outputs": [
    {
     "name": "stdout",
     "output_type": "stream",
     "text": [
      "      Year    State Table_Data  High.Value  Low.Value  CPI.Average  High 2018  \\\n",
      "2640  2016  Alabama        ...        0.00       0.00   240.007167       0.00   \n",
      "2641  2016   Alaska       9.75        9.75       9.75   240.007167      10.17   \n",
      "2642  2016  Arizona       8.05        8.05       8.05   240.007167       8.40   \n",
      "\n",
      "      Low.2018  \n",
      "2640      0.00  \n",
      "2641     10.17  \n",
      "2642      8.40  \n"
     ]
    }
   ],
   "source": [
    "# Rows past 2015\n",
    "print(df[df.Year > 2015].head(3))"
   ]
  },
  {
   "cell_type": "markdown",
   "metadata": {},
   "source": [
    "Segmenting on multiple conditions is also desirable. Most programs allow for an \"AND\" operator and an \"OR\" operator."
   ]
  },
  {
   "cell_type": "code",
   "execution_count": 31,
   "metadata": {},
   "outputs": [
    {
     "name": "stdout",
     "output_type": "stream",
     "text": [
      "      Year       State Table_Data  High.Value  Low.Value  CPI.Average  \\\n",
      "2314  2010  California          8         8.0        8.0     218.0555   \n",
      "\n",
      "      High 2018  Low.2018  \n",
      "2314       9.19      9.19  \n",
      "\n",
      "\n"
     ]
    }
   ],
   "source": [
    "# California AND 2010\n",
    "print(df[(df.Year == 2010) & (df.State == 'California')].head(3))\n",
    "print('\\n')"
   ]
  },
  {
   "cell_type": "code",
   "execution_count": 32,
   "metadata": {},
   "outputs": [
    {
     "name": "stdout",
     "output_type": "stream",
     "text": [
      "   Year    State           Table_Data  High.Value  Low.Value  CPI.Average  \\\n",
      "0  1968  Alabama                  NaN        0.00      0.000    34.783333   \n",
      "1  1968   Alaska                  2.1        2.10      2.100    34.783333   \n",
      "2  1968  Arizona  18.72 - 26.40/wk(b)        0.66      0.468    34.783333   \n",
      "\n",
      "   High 2018  Low.2018  \n",
      "0       0.00      0.00  \n",
      "1      15.12     15.12  \n",
      "2       4.75      3.37  \n"
     ]
    }
   ],
   "source": [
    "# Alabama OR before 2015\n",
    "print(df[(df.State == \"Alabama\") | (df.Year < 2015)].head(3))"
   ]
  },
  {
   "cell_type": "markdown",
   "metadata": {},
   "source": [
    "The traditional Python index slicers are also applicable for DataFrames with the .loc[] method."
   ]
  },
  {
   "cell_type": "code",
   "execution_count": 33,
   "metadata": {},
   "outputs": [
    {
     "name": "stdout",
     "output_type": "stream",
     "text": [
      "Year                       1969\n",
      "State              South Dakota\n",
      "Table_Data     17.00 - 20.00/wk\n",
      "High.Value                  0.5\n",
      "Low.Value                 0.425\n",
      "CPI.Average             36.6833\n",
      "High 2018                  3.41\n",
      "Low.2018                    2.9\n",
      "Name: 99, dtype: object\n",
      "\n",
      "\n",
      "     Year      State  Table_Data  High.Value  Low.Value  CPI.Average  \\\n",
      "1    1968     Alaska         2.1         2.1       2.10    34.783333   \n",
      "50   1968   Virginia         ...         0.0       0.00    34.783333   \n",
      "300  1973  Minnesota  .75 - 1.60         1.6       0.75    44.400000   \n",
      "\n",
      "     High 2018  Low.2018  \n",
      "1        15.12     15.12  \n",
      "50        0.00      0.00  \n",
      "300       9.02      4.23  \n"
     ]
    }
   ],
   "source": [
    "print(df.iloc[99])\n",
    "print('\\n')\n",
    "print(df.iloc[[1, 50, 300]])"
   ]
  },
  {
   "cell_type": "code",
   "execution_count": 34,
   "metadata": {},
   "outputs": [
    {
     "name": "stdout",
     "output_type": "stream",
     "text": [
      "Year                1969\n",
      "State          Tennessee\n",
      "Table_Data           ...\n",
      "High.Value             0\n",
      "Low.Value              0\n",
      "CPI.Average      36.6833\n",
      "High 2018              0\n",
      "Low.2018               0\n",
      "Name: 100, dtype: object\n",
      "\n",
      "\n",
      "     Year        State           Table_Data  High.Value  Low.Value  \\\n",
      "2    1968      Arizona  18.72 - 26.40/wk(b)        0.66      0.468   \n",
      "51   1968   Washington                  1.6        1.60      1.600   \n",
      "301  1973  Mississippi                  ...        0.00      0.000   \n",
      "\n",
      "     CPI.Average  High 2018  Low.2018  \n",
      "2      34.783333       4.75      3.37  \n",
      "51     34.783333      11.52     11.52  \n",
      "301    44.400000       0.00      0.00  \n"
     ]
    }
   ],
   "source": [
    "print(df.loc[100])\n",
    "print('\\n')\n",
    "print(df.loc[[2, 51, 301]])"
   ]
  },
  {
   "cell_type": "markdown",
   "metadata": {},
   "source": [
    "#### Summary Statistics\n",
    "Often times, exporting summary stats in a different document type is the bet way to visualize the results and understand the data."
   ]
  },
  {
   "cell_type": "code",
   "execution_count": 35,
   "metadata": {},
   "outputs": [
    {
     "name": "stdout",
     "output_type": "stream",
     "text": [
      "              Year   High.Value    Low.Value  CPI.Average    High 2018  \\\n",
      "count  2750.000000  2739.000000  2739.000000  2750.000000  2739.000000   \n",
      "mean   1992.500000     3.653761     3.533555   138.828983     6.441486   \n",
      "std      14.433494     2.560308     2.539424    65.823807     3.025140   \n",
      "min    1968.000000     0.000000     0.000000    34.783333     0.000000   \n",
      "25%    1980.000000     1.600000     1.600000    82.408333     5.980000   \n",
      "50%    1992.500000     3.350000     3.350000   142.387500     7.370000   \n",
      "75%    2005.000000     5.150000     5.150000   195.291667     8.280000   \n",
      "max    2017.000000    11.500000    11.500000   245.119583    15.120000   \n",
      "\n",
      "          Low.2018  \n",
      "count  2739.000000  \n",
      "mean      6.200252  \n",
      "std       3.017818  \n",
      "min       0.000000  \n",
      "25%       5.230000  \n",
      "50%       7.170000  \n",
      "75%       8.070000  \n",
      "max      15.120000  \n"
     ]
    }
   ],
   "source": [
    "df.describe()\n",
    "print(df.describe())\n",
    "np.round(df.describe(), 2)\n",
    "np.round(df.describe(), 2).T\n",
    "df.describe().transpose().to_csv('summary_stats.csv', sep=',')"
   ]
  },
  {
   "cell_type": "markdown",
   "metadata": {},
   "source": [
    "### Data Manipulation"
   ]
  },
  {
   "cell_type": "markdown",
   "metadata": {},
   "source": [
    "The standard way to create a new Pandas column or replace an old one is to call the Series (whether it exists or not) on the left hand side and set it equal to the expression that expresses that value you want to create. For example:\n",
    "\n"
   ]
  },
  {
   "cell_type": "markdown",
   "metadata": {},
   "source": [
    "#### Creating a new variable"
   ]
  },
  {
   "cell_type": "code",
   "execution_count": 36,
   "metadata": {},
   "outputs": [
    {
     "name": "stdout",
     "output_type": "stream",
     "text": [
      "   Year       State           Table_Data  High.Value  Low.Value  CPI.Average  \\\n",
      "0  1968     Alabama                  NaN     0.00000    0.00000    34.783333   \n",
      "1  1968      Alaska                  2.1     2.10000    2.10000    34.783333   \n",
      "2  1968     Arizona  18.72 - 26.40/wk(b)     0.66000    0.46800    34.783333   \n",
      "3  1968    Arkansas          1.25/day(b)     0.15625    0.15625    34.783333   \n",
      "4  1968  California              1.65(b)     1.65000    1.65000    34.783333   \n",
      "\n",
      "   High 2018  Low.2018  7  \n",
      "0       0.00      0.00  7  \n",
      "1      15.12     15.12  7  \n",
      "2       4.75      3.37  7  \n",
      "3       1.12      1.12  7  \n",
      "4      11.88     11.88  7  \n"
     ]
    }
   ],
   "source": [
    "df['7'] = 7\n",
    "print(df.head())"
   ]
  },
  {
   "cell_type": "markdown",
   "metadata": {},
   "source": [
    "Or, we can replace an old variable in a similar way:"
   ]
  },
  {
   "cell_type": "markdown",
   "metadata": {},
   "source": [
    "#### Replacing a variable"
   ]
  },
  {
   "cell_type": "code",
   "execution_count": 37,
   "metadata": {},
   "outputs": [
    {
     "name": "stdout",
     "output_type": "stream",
     "text": [
      "   Year       State           Table_Data  High.Value  Low.Value  CPI.Average  \\\n",
      "0  1968     Alabama                  NaN     0.00000    0.00000    34.783333   \n",
      "1  1968      Alaska                  2.1     2.10000    2.10000    34.783333   \n",
      "2  1968     Arizona  18.72 - 26.40/wk(b)     0.66000    0.46800    34.783333   \n",
      "3  1968    Arkansas          1.25/day(b)     0.15625    0.15625    34.783333   \n",
      "4  1968  California              1.65(b)     1.65000    1.65000    34.783333   \n",
      "\n",
      "   High 2018  Low.2018  7  \n",
      "0       0.00      0.00  8  \n",
      "1      15.12     15.12  8  \n",
      "2       4.75      3.37  8  \n",
      "3       1.12      1.12  8  \n",
      "4      11.88     11.88  8  \n"
     ]
    }
   ],
   "source": [
    "df['7'] = 8\n",
    "print(df.head())"
   ]
  },
  {
   "cell_type": "markdown",
   "metadata": {},
   "source": [
    "We can also rename variables. In this case we will rename \"Year\" to \"Date\" and \"Table_Data\" to \"Values.\""
   ]
  },
  {
   "cell_type": "markdown",
   "metadata": {},
   "source": [
    "#### Renaming Variables"
   ]
  },
  {
   "cell_type": "code",
   "execution_count": 38,
   "metadata": {},
   "outputs": [
    {
     "name": "stdout",
     "output_type": "stream",
     "text": [
      "   Year       State           Table_Data  High.Value  Low.Value  CPI.Average  \\\n",
      "0  1968     Alabama                  NaN     0.00000    0.00000    34.783333   \n",
      "1  1968      Alaska                  2.1     2.10000    2.10000    34.783333   \n",
      "2  1968     Arizona  18.72 - 26.40/wk(b)     0.66000    0.46800    34.783333   \n",
      "3  1968    Arkansas          1.25/day(b)     0.15625    0.15625    34.783333   \n",
      "4  1968  California              1.65(b)     1.65000    1.65000    34.783333   \n",
      "\n",
      "   High 2018  Low.2018  7  \n",
      "0       0.00      0.00  8  \n",
      "1      15.12     15.12  8  \n",
      "2       4.75      3.37  8  \n",
      "3       1.12      1.12  8  \n",
      "4      11.88     11.88  8  \n",
      "\n",
      "\n",
      "   Date       State               Values  High.Value  Low.Value  CPI.Average  \\\n",
      "0  1968     Alabama                  NaN     0.00000    0.00000    34.783333   \n",
      "1  1968      Alaska                  2.1     2.10000    2.10000    34.783333   \n",
      "2  1968     Arizona  18.72 - 26.40/wk(b)     0.66000    0.46800    34.783333   \n",
      "3  1968    Arkansas          1.25/day(b)     0.15625    0.15625    34.783333   \n",
      "4  1968  California              1.65(b)     1.65000    1.65000    34.783333   \n",
      "\n",
      "   High 2018  Low.2018  7  \n",
      "0       0.00      0.00  8  \n",
      "1      15.12     15.12  8  \n",
      "2       4.75      3.37  8  \n",
      "3       1.12      1.12  8  \n",
      "4      11.88     11.88  8  \n"
     ]
    }
   ],
   "source": [
    "print(df.head())\n",
    "print(\"\\n\")\n",
    "print(df.rename(index=str, columns={\"Year\": \"Date\", \"Table_Data\": \"Values\"}).head())"
   ]
  },
  {
   "cell_type": "markdown",
   "metadata": {},
   "source": [
    "#### Dropping Variables\n",
    "We can also drop a variable with df.drop(): "
   ]
  },
  {
   "cell_type": "code",
   "execution_count": 39,
   "metadata": {},
   "outputs": [
    {
     "name": "stdout",
     "output_type": "stream",
     "text": [
      "   Year       State           Table_Data  High.Value  Low.Value  CPI.Average  \\\n",
      "0  1968     Alabama                  NaN     0.00000    0.00000    34.783333   \n",
      "1  1968      Alaska                  2.1     2.10000    2.10000    34.783333   \n",
      "2  1968     Arizona  18.72 - 26.40/wk(b)     0.66000    0.46800    34.783333   \n",
      "3  1968    Arkansas          1.25/day(b)     0.15625    0.15625    34.783333   \n",
      "4  1968  California              1.65(b)     1.65000    1.65000    34.783333   \n",
      "\n",
      "   High 2018  Low.2018  \n",
      "0       0.00      0.00  \n",
      "1      15.12     15.12  \n",
      "2       4.75      3.37  \n",
      "3       1.12      1.12  \n",
      "4      11.88     11.88  \n"
     ]
    }
   ],
   "source": [
    "# Dropping a variable\n",
    "df = df.drop(\"7\", axis=1)\n",
    "print(df.head())"
   ]
  },
  {
   "cell_type": "markdown",
   "metadata": {},
   "source": [
    "#### Simple Math to Create a New Variable\n",
    "Basic math functions are easily applied in Pandas:"
   ]
  },
  {
   "cell_type": "code",
   "execution_count": 40,
   "metadata": {},
   "outputs": [
    {
     "name": "stdout",
     "output_type": "stream",
     "text": [
      "   Year       State           Table_Data  High.Value  Low.Value  CPI.Average  \\\n",
      "0  1968     Alabama                  NaN     0.00000    0.00000    34.783333   \n",
      "1  1968      Alaska                  2.1     2.10000    2.10000    34.783333   \n",
      "2  1968     Arizona  18.72 - 26.40/wk(b)     0.66000    0.46800    34.783333   \n",
      "3  1968    Arkansas          1.25/day(b)     0.15625    0.15625    34.783333   \n",
      "4  1968  California              1.65(b)     1.65000    1.65000    34.783333   \n",
      "\n",
      "   High 2018  Low.2018  Difference  High*2   Low*2  \n",
      "0       0.00      0.00       0.000  0.0000  0.0000  \n",
      "1      15.12     15.12       0.000  4.2000  4.2000  \n",
      "2       4.75      3.37       0.192  1.3200  0.9360  \n",
      "3       1.12      1.12       0.000  0.3125  0.3125  \n",
      "4      11.88     11.88       0.000  3.3000  3.3000  \n"
     ]
    }
   ],
   "source": [
    "df['Difference'] = df['High.Value'] - df['Low.Value']\n",
    "df['High*2'] = df['High.Value']*2\n",
    "df['Low*2'] = df['Low.Value']*2\n",
    "print(df.head())"
   ]
  },
  {
   "cell_type": "markdown",
   "metadata": {},
   "source": [
    "#### Complex Variable Modification with .Map()\n",
    "\n",
    "More complex operations can be solved through the .map() method. In the example below, a function using sklearn's min/max scaler will be applied to a Pandas column:\n",
    "\n",
    ".map() could use a dictionary to change results. This could help clean code when replacing a large amount of values. Here we create an abbrev column for state abbreviations (we will create it and drop the variable after)"
   ]
  },
  {
   "cell_type": "code",
   "execution_count": 41,
   "metadata": {},
   "outputs": [],
   "source": [
    "# Using Data.map\n",
    "state_2 = {'OH': 'Ohio', 'Illinois': 'IL', 'California': 'CA', 'Texas': 'TX'}\n",
    "\n",
    "df['abbrev'] = df['State'].map(state_2)"
   ]
  },
  {
   "cell_type": "code",
   "execution_count": 42,
   "metadata": {},
   "outputs": [],
   "source": [
    "df.sort_values('abbrev', ascending=True).head()\n",
    "df = df.drop(\"abbrev\", axis=1)"
   ]
  },
  {
   "cell_type": "markdown",
   "metadata": {},
   "source": [
    "#### Using a Function\n",
    "\n",
    "You can use .apply() to apply a function to a Series. You can either specify the function or use the lambda anonymous function:"
   ]
  },
  {
   "cell_type": "markdown",
   "metadata": {},
   "source": [
    "Specfying a function:\n"
   ]
  },
  {
   "cell_type": "code",
   "execution_count": 43,
   "metadata": {},
   "outputs": [
    {
     "name": "stdout",
     "output_type": "stream",
     "text": [
      "0    1968\n",
      "1    1968\n",
      "2    1968\n",
      "3    1968\n",
      "4    1968\n",
      "Name: Year, dtype: int64\n",
      "\n",
      "\n",
      "0    1969\n",
      "1    1969\n",
      "2    1969\n",
      "3    1969\n",
      "4    1969\n",
      "Name: Year, dtype: int64\n"
     ]
    }
   ],
   "source": [
    "def add(x):\n",
    "    x = x + 1\n",
    "    return x\n",
    "\n",
    "print(df['Year'].head())\n",
    "print(\"\\n\")\n",
    "print(df['Year'].apply(add).head())"
   ]
  },
  {
   "cell_type": "markdown",
   "metadata": {},
   "source": [
    "#### Lambda Functions\n",
    "Lambda Functions (Skipping defining a function if the function is simple enough):"
   ]
  },
  {
   "cell_type": "code",
   "execution_count": 44,
   "metadata": {},
   "outputs": [
    {
     "name": "stdout",
     "output_type": "stream",
     "text": [
      "0    1968\n",
      "1    1968\n",
      "2    1968\n",
      "3    1968\n",
      "4    1968\n",
      "Name: Year, dtype: int64\n",
      "\n",
      "\n",
      "0    1969\n",
      "1    1969\n",
      "2    1969\n",
      "3    1969\n",
      "4    1969\n",
      "Name: Year, dtype: int64\n"
     ]
    }
   ],
   "source": [
    "print(df['Year'].head())\n",
    "print(\"\\n\")\n",
    "print((df['Year'].apply(lambda x: x + 1).head()))"
   ]
  },
  {
   "cell_type": "markdown",
   "metadata": {},
   "source": [
    "#### Missing Values"
   ]
  },
  {
   "cell_type": "markdown",
   "metadata": {},
   "source": [
    "Missing values are a huge part of data cleaning and something to always be mindful of. Pandas codes missing values as numpy NAN values. Let's look\n",
    "\n"
   ]
  },
  {
   "cell_type": "code",
   "execution_count": 45,
   "metadata": {},
   "outputs": [
    {
     "name": "stdout",
     "output_type": "stream",
     "text": [
      "0                    NaN\n",
      "1                    2.1\n",
      "2    18.72 - 26.40/wk(b)\n",
      "3            1.25/day(b)\n",
      "4                1.65(b)\n",
      "5         1.00 - 1.25(b)\n",
      "6                    1.4\n",
      "7                   1.25\n",
      "8            1.25 - 1.40\n",
      "9          $1.15 & $1.60\n",
      "Name: Table_Data, dtype: object\n",
      "\n",
      "\n",
      "0    1968\n",
      "1    1968\n",
      "2    1968\n",
      "3    1968\n",
      "4    1968\n",
      "5    1968\n",
      "6    1968\n",
      "7    1968\n",
      "8    1968\n",
      "9    1968\n",
      "Name: Year, dtype: int64\n"
     ]
    }
   ],
   "source": [
    "print(df['Table_Data'].head(10))\n",
    "print(\"\\n\")\n",
    "print(df['Year'].head(10))"
   ]
  },
  {
   "cell_type": "markdown",
   "metadata": {},
   "source": [
    "Discovering missing values is  important: "
   ]
  },
  {
   "cell_type": "code",
   "execution_count": 46,
   "metadata": {},
   "outputs": [
    {
     "name": "stdout",
     "output_type": "stream",
     "text": [
      "True\n",
      "False\n"
     ]
    }
   ],
   "source": [
    "print(df['Table_Data'].isnull().values.any())\n",
    "print(df['Year'].isnull().values.any())"
   ]
  },
  {
   "cell_type": "markdown",
   "metadata": {},
   "source": [
    "We can also use .drop_duplicates(keep = \"first\") to drop all but the first observations of duplicates.\n",
    "\n"
   ]
  },
  {
   "cell_type": "code",
   "execution_count": 47,
   "metadata": {},
   "outputs": [
    {
     "name": "stdout",
     "output_type": "stream",
     "text": [
      "   col_1 col_2\n",
      "0      3     a\n",
      "1      3     a\n",
      "2      3     a\n",
      "3      3     a\n",
      "\n",
      "\n",
      "   col_1 col_2\n",
      "3      3     a\n"
     ]
    }
   ],
   "source": [
    "data = {'col_1': [3, 3, 3, 3], 'col_2': ['a', 'a', 'a', 'a']}\n",
    "data_dup = pd.DataFrame.from_dict(data)\n",
    "print(data_dup)\n",
    "\n",
    "print(\"\\n\")\n",
    "\n",
    "data_dup = data_dup.drop_duplicates(keep=\"last\")\n",
    "\n",
    "print(data_dup)"
   ]
  },
  {
   "cell_type": "markdown",
   "metadata": {},
   "source": [
    "#### Reshape Data\n",
    "\n",
    "Data can be reshaped using a variety of Pandas functions. Going from wide to long has a built in function. We will load in a new dataset for this:"
   ]
  },
  {
   "cell_type": "code",
   "execution_count": 48,
   "metadata": {},
   "outputs": [
    {
     "name": "stdout",
     "output_type": "stream",
     "text": [
      "   Year       State           Table_Data  High.Value  Low.Value  CPI.Average  \\\n",
      "0  1968     Alabama                  NaN     0.00000    0.00000    34.783333   \n",
      "1  1968      Alaska                  2.1     2.10000    2.10000    34.783333   \n",
      "2  1968     Arizona  18.72 - 26.40/wk(b)     0.66000    0.46800    34.783333   \n",
      "3  1968    Arkansas          1.25/day(b)     0.15625    0.15625    34.783333   \n",
      "4  1968  California              1.65(b)     1.65000    1.65000    34.783333   \n",
      "\n",
      "   High 2018  Low.2018  Difference  High*2   Low*2  \n",
      "0       0.00      0.00       0.000  0.0000  0.0000  \n",
      "1      15.12     15.12       0.000  4.2000  4.2000  \n",
      "2       4.75      3.37       0.192  1.3200  0.9360  \n",
      "3       1.12      1.12       0.000  0.3125  0.3125  \n",
      "4      11.88     11.88       0.000  3.3000  3.3000  \n",
      "\n",
      "\n",
      "                                       az\n",
      "Unique Family Identifier Order age       \n",
      "1000                     1     1       28\n",
      "                               2     2342\n",
      "                         2     1       82\n",
      "                               2     2342\n",
      "                         3     1       23\n",
      "                               2    54645\n",
      "1001                     1     1      234\n",
      "                               2    56765\n",
      "                         2     1      234\n",
      "                               2    65765\n",
      "                         3     1      324\n",
      "                               2    65756\n",
      "1002                     1     1      546\n",
      "                               2     3453\n",
      "324                      2     1      546\n",
      "                               2    56756\n",
      "234                      3     1     5464\n",
      "                               2     3453\n"
     ]
    }
   ],
   "source": [
    "df_ex = pd.DataFrame({\n",
    "    'Unique Family Identifier': [1000, 1000, 1000, 1001, 1001, 1001, 1002, 324, 234],\n",
    "    'Order': [1, 2, 3, 1, 2, 3, 1, 2, 3], \n",
    "    'az1': [28, 82, 23, 234, 234, 324, 546, 546, 5464],\n",
    "    'az2': [2342, 2342, 54645, 56765, 65765, 65756, 3453, 56756, 3453]})\n",
    "\n",
    "\n",
    "reshape = pd.wide_to_long(df_ex, stubnames='az', i=['Unique Family Identifier', 'Order'], j='age')\n",
    "\n",
    "print(df.head())\n",
    "print(\"\\n\")\n",
    "print(reshape)"
   ]
  },
  {
   "cell_type": "markdown",
   "metadata": {},
   "source": [
    "Going from wide to long requires the use of unstack()"
   ]
  },
  {
   "cell_type": "code",
   "execution_count": 49,
   "metadata": {},
   "outputs": [
    {
     "name": "stdout",
     "output_type": "stream",
     "text": [
      "                                 az1    az2\n",
      "Unique Family Identifier Order             \n",
      "234                      3      5464   3453\n",
      "324                      2       546  56756\n",
      "1000                     1        28   2342\n",
      "                         2        82   2342\n",
      "                         3        23  54645\n"
     ]
    }
   ],
   "source": [
    "normal = reshape.unstack()\n",
    "normal.columns = normal.columns.map('{0[0]}{0[1]}'.format)\n",
    "normal.reset_index()\n",
    "print(normal.head())"
   ]
  },
  {
   "cell_type": "markdown",
   "metadata": {},
   "source": [
    "#### Merging Data\n",
    "\n",
    "Merging data uses pd.merge(data_1, data_2, on = identifier):"
   ]
  },
  {
   "cell_type": "code",
   "execution_count": 50,
   "metadata": {},
   "outputs": [
    {
     "name": "stdout",
     "output_type": "stream",
     "text": [
      "   key left_value\n",
      "0    0          a\n",
      "1    1          b\n",
      "2    2          c\n",
      "3    3          d\n",
      "4    4          e\n",
      "\n",
      "\n",
      "   key right_value\n",
      "0    2           f\n",
      "1    3           g\n",
      "2    4           h\n",
      "3    5           i\n",
      "4    6           j\n"
     ]
    }
   ],
   "source": [
    "left_frame = pd.DataFrame({'key': range(5), \n",
    "                           'left_value': ['a', 'b', 'c', 'd', 'e']})\n",
    "right_frame = pd.DataFrame({'key': range(2, 7), \n",
    "                           'right_value': ['f', 'g', 'h', 'i', 'j']})\n",
    "print(left_frame)\n",
    "print('\\n')\n",
    "print(right_frame)"
   ]
  },
  {
   "cell_type": "code",
   "execution_count": 51,
   "metadata": {},
   "outputs": [
    {
     "data": {
      "text/html": [
       "<div>\n",
       "<style scoped>\n",
       "    .dataframe tbody tr th:only-of-type {\n",
       "        vertical-align: middle;\n",
       "    }\n",
       "\n",
       "    .dataframe tbody tr th {\n",
       "        vertical-align: top;\n",
       "    }\n",
       "\n",
       "    .dataframe thead th {\n",
       "        text-align: right;\n",
       "    }\n",
       "</style>\n",
       "<table border=\"1\" class=\"dataframe\">\n",
       "  <thead>\n",
       "    <tr style=\"text-align: right;\">\n",
       "      <th></th>\n",
       "      <th>key</th>\n",
       "      <th>left_value</th>\n",
       "      <th>right_value</th>\n",
       "    </tr>\n",
       "  </thead>\n",
       "  <tbody>\n",
       "    <tr>\n",
       "      <th>0</th>\n",
       "      <td>2</td>\n",
       "      <td>c</td>\n",
       "      <td>f</td>\n",
       "    </tr>\n",
       "    <tr>\n",
       "      <th>1</th>\n",
       "      <td>3</td>\n",
       "      <td>d</td>\n",
       "      <td>g</td>\n",
       "    </tr>\n",
       "    <tr>\n",
       "      <th>2</th>\n",
       "      <td>4</td>\n",
       "      <td>e</td>\n",
       "      <td>h</td>\n",
       "    </tr>\n",
       "  </tbody>\n",
       "</table>\n",
       "</div>"
      ],
      "text/plain": [
       "   key left_value right_value\n",
       "0    2          c           f\n",
       "1    3          d           g\n",
       "2    4          e           h"
      ]
     },
     "execution_count": 51,
     "metadata": {},
     "output_type": "execute_result"
    }
   ],
   "source": [
    "pd.merge(left_frame, right_frame, on='key', how='inner')"
   ]
  },
  {
   "cell_type": "code",
   "execution_count": 52,
   "metadata": {},
   "outputs": [
    {
     "data": {
      "text/html": [
       "<div>\n",
       "<style scoped>\n",
       "    .dataframe tbody tr th:only-of-type {\n",
       "        vertical-align: middle;\n",
       "    }\n",
       "\n",
       "    .dataframe tbody tr th {\n",
       "        vertical-align: top;\n",
       "    }\n",
       "\n",
       "    .dataframe thead th {\n",
       "        text-align: right;\n",
       "    }\n",
       "</style>\n",
       "<table border=\"1\" class=\"dataframe\">\n",
       "  <thead>\n",
       "    <tr style=\"text-align: right;\">\n",
       "      <th></th>\n",
       "      <th>key</th>\n",
       "      <th>left_value</th>\n",
       "      <th>right_value</th>\n",
       "    </tr>\n",
       "  </thead>\n",
       "  <tbody>\n",
       "    <tr>\n",
       "      <th>0</th>\n",
       "      <td>0</td>\n",
       "      <td>a</td>\n",
       "      <td>NaN</td>\n",
       "    </tr>\n",
       "    <tr>\n",
       "      <th>1</th>\n",
       "      <td>1</td>\n",
       "      <td>b</td>\n",
       "      <td>NaN</td>\n",
       "    </tr>\n",
       "    <tr>\n",
       "      <th>2</th>\n",
       "      <td>2</td>\n",
       "      <td>c</td>\n",
       "      <td>f</td>\n",
       "    </tr>\n",
       "    <tr>\n",
       "      <th>3</th>\n",
       "      <td>3</td>\n",
       "      <td>d</td>\n",
       "      <td>g</td>\n",
       "    </tr>\n",
       "    <tr>\n",
       "      <th>4</th>\n",
       "      <td>4</td>\n",
       "      <td>e</td>\n",
       "      <td>h</td>\n",
       "    </tr>\n",
       "  </tbody>\n",
       "</table>\n",
       "</div>"
      ],
      "text/plain": [
       "   key left_value right_value\n",
       "0    0          a         NaN\n",
       "1    1          b         NaN\n",
       "2    2          c           f\n",
       "3    3          d           g\n",
       "4    4          e           h"
      ]
     },
     "execution_count": 52,
     "metadata": {},
     "output_type": "execute_result"
    }
   ],
   "source": [
    "pd.merge(left_frame, right_frame, on='key', how='left')"
   ]
  },
  {
   "cell_type": "code",
   "execution_count": 53,
   "metadata": {},
   "outputs": [
    {
     "data": {
      "text/html": [
       "<div>\n",
       "<style scoped>\n",
       "    .dataframe tbody tr th:only-of-type {\n",
       "        vertical-align: middle;\n",
       "    }\n",
       "\n",
       "    .dataframe tbody tr th {\n",
       "        vertical-align: top;\n",
       "    }\n",
       "\n",
       "    .dataframe thead th {\n",
       "        text-align: right;\n",
       "    }\n",
       "</style>\n",
       "<table border=\"1\" class=\"dataframe\">\n",
       "  <thead>\n",
       "    <tr style=\"text-align: right;\">\n",
       "      <th></th>\n",
       "      <th>key</th>\n",
       "      <th>left_value</th>\n",
       "      <th>right_value</th>\n",
       "    </tr>\n",
       "  </thead>\n",
       "  <tbody>\n",
       "    <tr>\n",
       "      <th>0</th>\n",
       "      <td>2</td>\n",
       "      <td>c</td>\n",
       "      <td>f</td>\n",
       "    </tr>\n",
       "    <tr>\n",
       "      <th>1</th>\n",
       "      <td>3</td>\n",
       "      <td>d</td>\n",
       "      <td>g</td>\n",
       "    </tr>\n",
       "    <tr>\n",
       "      <th>2</th>\n",
       "      <td>4</td>\n",
       "      <td>e</td>\n",
       "      <td>h</td>\n",
       "    </tr>\n",
       "    <tr>\n",
       "      <th>3</th>\n",
       "      <td>5</td>\n",
       "      <td>NaN</td>\n",
       "      <td>i</td>\n",
       "    </tr>\n",
       "    <tr>\n",
       "      <th>4</th>\n",
       "      <td>6</td>\n",
       "      <td>NaN</td>\n",
       "      <td>j</td>\n",
       "    </tr>\n",
       "  </tbody>\n",
       "</table>\n",
       "</div>"
      ],
      "text/plain": [
       "   key left_value right_value\n",
       "0    2          c           f\n",
       "1    3          d           g\n",
       "2    4          e           h\n",
       "3    5        NaN           i\n",
       "4    6        NaN           j"
      ]
     },
     "execution_count": 53,
     "metadata": {},
     "output_type": "execute_result"
    }
   ],
   "source": [
    "pd.merge(left_frame, right_frame, on='key', how='right')"
   ]
  },
  {
   "cell_type": "markdown",
   "metadata": {},
   "source": [
    "#### Append Data"
   ]
  },
  {
   "cell_type": "code",
   "execution_count": 54,
   "metadata": {},
   "outputs": [
    {
     "data": {
      "text/html": [
       "<div>\n",
       "<style scoped>\n",
       "    .dataframe tbody tr th:only-of-type {\n",
       "        vertical-align: middle;\n",
       "    }\n",
       "\n",
       "    .dataframe tbody tr th {\n",
       "        vertical-align: top;\n",
       "    }\n",
       "\n",
       "    .dataframe thead th {\n",
       "        text-align: right;\n",
       "    }\n",
       "</style>\n",
       "<table border=\"1\" class=\"dataframe\">\n",
       "  <thead>\n",
       "    <tr style=\"text-align: right;\">\n",
       "      <th></th>\n",
       "      <th>key</th>\n",
       "      <th>left_value</th>\n",
       "      <th>right_value</th>\n",
       "    </tr>\n",
       "  </thead>\n",
       "  <tbody>\n",
       "    <tr>\n",
       "      <th>0</th>\n",
       "      <td>0</td>\n",
       "      <td>a</td>\n",
       "      <td>NaN</td>\n",
       "    </tr>\n",
       "    <tr>\n",
       "      <th>1</th>\n",
       "      <td>1</td>\n",
       "      <td>b</td>\n",
       "      <td>NaN</td>\n",
       "    </tr>\n",
       "    <tr>\n",
       "      <th>2</th>\n",
       "      <td>2</td>\n",
       "      <td>c</td>\n",
       "      <td>NaN</td>\n",
       "    </tr>\n",
       "    <tr>\n",
       "      <th>3</th>\n",
       "      <td>3</td>\n",
       "      <td>d</td>\n",
       "      <td>NaN</td>\n",
       "    </tr>\n",
       "    <tr>\n",
       "      <th>4</th>\n",
       "      <td>4</td>\n",
       "      <td>e</td>\n",
       "      <td>NaN</td>\n",
       "    </tr>\n",
       "    <tr>\n",
       "      <th>0</th>\n",
       "      <td>2</td>\n",
       "      <td>NaN</td>\n",
       "      <td>f</td>\n",
       "    </tr>\n",
       "    <tr>\n",
       "      <th>1</th>\n",
       "      <td>3</td>\n",
       "      <td>NaN</td>\n",
       "      <td>g</td>\n",
       "    </tr>\n",
       "    <tr>\n",
       "      <th>2</th>\n",
       "      <td>4</td>\n",
       "      <td>NaN</td>\n",
       "      <td>h</td>\n",
       "    </tr>\n",
       "    <tr>\n",
       "      <th>3</th>\n",
       "      <td>5</td>\n",
       "      <td>NaN</td>\n",
       "      <td>i</td>\n",
       "    </tr>\n",
       "    <tr>\n",
       "      <th>4</th>\n",
       "      <td>6</td>\n",
       "      <td>NaN</td>\n",
       "      <td>j</td>\n",
       "    </tr>\n",
       "  </tbody>\n",
       "</table>\n",
       "</div>"
      ],
      "text/plain": [
       "   key left_value right_value\n",
       "0    0          a         NaN\n",
       "1    1          b         NaN\n",
       "2    2          c         NaN\n",
       "3    3          d         NaN\n",
       "4    4          e         NaN\n",
       "0    2        NaN           f\n",
       "1    3        NaN           g\n",
       "2    4        NaN           h\n",
       "3    5        NaN           i\n",
       "4    6        NaN           j"
      ]
     },
     "execution_count": 54,
     "metadata": {},
     "output_type": "execute_result"
    }
   ],
   "source": [
    "pd.concat([left_frame, right_frame], sort='True')"
   ]
  },
  {
   "cell_type": "markdown",
   "metadata": {},
   "source": [
    "#### Collapsing Data"
   ]
  },
  {
   "cell_type": "markdown",
   "metadata": {},
   "source": [
    "Collapsing data is accomplished by the .groupby() function. We will collapse by Year. "
   ]
  },
  {
   "cell_type": "code",
   "execution_count": 55,
   "metadata": {
    "scrolled": true
   },
   "outputs": [
    {
     "name": "stdout",
     "output_type": "stream",
     "text": [
      "      State  Table_Data  High.Value  Low.Value  CPI.Average  High 2018  \\\n",
      "Year                                                                     \n",
      "1968     55          53          54         54           55         54   \n",
      "1969     55          54          54         54           55         54   \n",
      "1970     55          54          54         54           55         54   \n",
      "1971     55          54          54         54           55         54   \n",
      "1972     55          54          54         54           55         54   \n",
      "\n",
      "      Low.2018  Difference  High*2  Low*2  \n",
      "Year                                       \n",
      "1968        54          54      54     54  \n",
      "1969        54          54      54     54  \n",
      "1970        54          54      54     54  \n",
      "1971        54          54      54     54  \n",
      "1972        54          54      54     54  \n"
     ]
    }
   ],
   "source": [
    "by_year = df.groupby('Year')\n",
    "print(by_year.count().head()) # NOT NULL records within each column"
   ]
  },
  {
   "cell_type": "markdown",
   "metadata": {},
   "source": [
    "Note: This only generates counts for each year. If we want averages, sums or any other summary statistics we have to specify that: "
   ]
  },
  {
   "cell_type": "code",
   "execution_count": 56,
   "metadata": {},
   "outputs": [
    {
     "name": "stdout",
     "output_type": "stream",
     "text": [
      "      High.Value  Low.Value  CPI.Average  High 2018  Low.2018  Difference  \\\n",
      "Year                                                                        \n",
      "1988      146.75     142.75  6504.208332     310.65    302.19         4.0   \n",
      "1989      146.75     142.75  6818.166669     296.49    288.41         4.0   \n",
      "1990      146.75     142.75  7186.208331     281.27    273.61         4.0   \n",
      "1991      179.20     175.00  7490.541668     329.52    321.80         4.2   \n",
      "1992      194.17     189.57  7717.416668     346.40    338.19         4.6   \n",
      "\n",
      "      High*2   Low*2  \n",
      "Year                  \n",
      "1988  293.50  285.50  \n",
      "1989  293.50  285.50  \n",
      "1990  293.50  285.50  \n",
      "1991  358.40  350.00  \n",
      "1992  388.34  379.14  \n",
      "\n",
      "\n",
      "      High.Value  Low.Value  CPI.Average  High 2018  Low.2018  Difference  \\\n",
      "Year                                                                        \n",
      "1988    2.668182   2.595455   118.258333   5.648182  5.494364    0.072727   \n",
      "1989    2.668182   2.595455   123.966667   5.390727  5.243818    0.072727   \n",
      "1990    2.668182   2.595455   130.658333   5.114000  4.974727    0.072727   \n",
      "1991    3.258182   3.181818   136.191667   5.991273  5.850909    0.076364   \n",
      "1992    3.530364   3.446727   140.316667   6.298182  6.148909    0.083636   \n",
      "\n",
      "        High*2     Low*2  \n",
      "Year                      \n",
      "1988  5.336364  5.190909  \n",
      "1989  5.336364  5.190909  \n",
      "1990  5.336364  5.190909  \n",
      "1991  6.516364  6.363636  \n",
      "1992  7.060727  6.893455  \n",
      "\n",
      "\n",
      "      High.Value  Low.Value  CPI.Average  High 2018  Low.2018  Difference  \\\n",
      "Year                                                                        \n",
      "1988        3.35       3.35   118.258333       7.09      7.09         0.0   \n",
      "1989        3.35       3.35   123.966667       6.77      6.77         0.0   \n",
      "1990        3.35       3.35   130.658333       6.42      6.42         0.0   \n",
      "1991        3.80       3.80   136.191667       6.99      6.99         0.0   \n",
      "1992        4.25       4.25   140.316667       7.58      7.58         0.0   \n",
      "\n",
      "      High*2  Low*2  \n",
      "Year                 \n",
      "1988     6.7    6.7  \n",
      "1989     6.7    6.7  \n",
      "1990     6.7    6.7  \n",
      "1991     7.6    7.6  \n",
      "1992     8.5    8.5  \n"
     ]
    }
   ],
   "source": [
    "print(by_year.sum()[20:25])\n",
    "print('\\n')\n",
    "print(by_year.mean()[20:25]) \n",
    "print('\\n')\n",
    "print(by_year.median()[20:25]) "
   ]
  },
  {
   "cell_type": "markdown",
   "metadata": {},
   "source": [
    "# Additional Resources\n",
    "Resources: \n",
    "1. https://plot.ly/python/\n",
    "2. https://nbviewer.jupyter.org/github/QuantEcon/QuantEcon.notebooks/blob/master/pandas_and_matplotlib.ipynb\n",
    "3. https://cheatsheets.quantecon.org/stats-cheatsheet.html\n",
    "4. https://nbviewer.jupyter.org/github/QuantEcon/QuantEcon.notebooks/blob/master/sci_python_quickstart.ipynb\n",
    "5. https://cheatsheets.quantecon.org/\n",
    "6. https://seaborn.pydata.org/ \n",
    "7. https://data36.com/pandas-tutorial-1-basics-reading-data-files-dataframes-data-selection/ \n",
    "8. https://www.analyticsvidhya.com/blog/2016/01/12-pandas-techniques-python-data-manipulation/\n",
    "9. https://paulovasconcellos.com.br/28-useful-pandas-functions-you-might-not-know-de42c59db085\n",
    "10. https://realpython.com/python-pandas-tricks/\n",
    "11. https://dataconomy.com/2015/03/14-best-python-pandas-features/"
   ]
  }
 ],
 "metadata": {
  "kernelspec": {
   "display_name": "Python 3",
   "language": "python",
   "name": "python3"
  },
  "language_info": {
   "codemirror_mode": {
    "name": "ipython",
    "version": 3
   },
   "file_extension": ".py",
   "mimetype": "text/x-python",
   "name": "python",
   "nbconvert_exporter": "python",
   "pygments_lexer": "ipython3",
   "version": "3.7.3"
  }
 },
 "nbformat": 4,
 "nbformat_minor": 2
}
