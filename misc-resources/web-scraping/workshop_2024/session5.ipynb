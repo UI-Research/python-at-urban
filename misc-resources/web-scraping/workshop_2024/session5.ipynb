{
 "cells": [
  {
   "cell_type": "raw",
   "metadata": {},
   "source": [
    "---\n",
    "title: \"Session 5\"\n",
    "editor: visual\n",
    "---"
   ]
  },
  {
   "cell_type": "markdown",
   "metadata": {},
   "source": [
    "# Welcome to the Real World \n",
    "\n",
    "Okay, but what happens when its not a nice clean training example? In today's lesson, we'll go over some of the ways that web scraping can get messy and work around solutions. \n",
    "\n",
    "**TO ADD**\n",
    "    - time.sleep()\n",
    "    - skip_county function get to work (flatten json)\n",
    "    - get run_entire_loop to work "
   ]
  },
  {
   "cell_type": "code",
   "execution_count": 2,
   "metadata": {},
   "outputs": [],
   "source": [
    "from utils_session5 import *"
   ]
  },
  {
   "cell_type": "markdown",
   "metadata": {},
   "source": [
    "## Changes between loops\n",
    "\n",
    "In an ideal world, each time we loop through our variables, the web page will stay the same. However, sometimes new elements show up on the page based on the state/county/variable you want. In our KFF premium plan example, when a zip code covers multiple counties, an additional county dropdown menu will show up so you can select which county you want data for.\n",
    "\n",
    "![IL counties](images/il-counties.png)\n",
    "\n",
    "Since there are ~40,000 zip codes in the US, we only have one zip code in our data for each county. This means that when there are multiple counties associated with a zip code, we need to make sure we select the correct one we want, or else we'll have error in our data! This is where the trusty `try: except:` statement comes in handy.\n"
   ]
  },
  {
   "cell_type": "markdown",
   "metadata": {},
   "source": [
    "## `Try` your best\n",
    "The `try` statement in Python is used for catching \"exceptions\" (i.e. errors). It is a way to prevent expected errors from crashing your code. The way it is structured is as follows:\n",
    "\n",
    "```python\n",
    "try:\n",
    "    # code that might raise an error\n",
    "except:\n",
    "    # what to do if an error is raised\n",
    "```"
   ]
  },
  {
   "cell_type": "markdown",
   "metadata": {},
   "source": [
    "Here are a couple of simple examples. In the first, we set a value for x and then try to divide 10 by x. In cases where division is possible, we simply want to print out the result. But if x is 0, we want to print out a message saying that division by zero is not possible. There is a specific kind of exception that is raised when you try to divide by zero, called `ZeroDivisionError`. We can catch this specific error by adding it to the `except` statement."
   ]
  },
  {
   "cell_type": "code",
   "execution_count": 3,
   "metadata": {},
   "outputs": [
    {
     "name": "stdout",
     "output_type": "stream",
     "text": [
      "10.0\n"
     ]
    }
   ],
   "source": [
    "x = 1\n",
    "\n",
    "try:\n",
    "    print(10 / x)\n",
    "except ZeroDivisionError:\n",
    "    print(\"You can't divide by zero!\")"
   ]
  },
  {
   "cell_type": "markdown",
   "metadata": {},
   "source": [
    "Other common types of errors in Python that could be used in this structure include NameError, TypeError, and ValueError. You can catch these errors by specifying the type of error in the except block.\n",
    "\n",
    "- NameError: Raised when a variable name is not found\n",
    "- TypeError: Raised when an operation or function is applied to an object of an inappropriate type\n",
    "- ValueError: Raised when a built-in operation or function receives an argument that has the right type but an inappropriate value. (For instance, if you create a function that should only take in an integer, and a user supplies a character)."
   ]
  },
  {
   "cell_type": "markdown",
   "metadata": {},
   "source": [
    "One other way we might use try and except is when we want to ignore *any* kind of error. This is logic you should be think twice about, as it can hide even errors that you may not have anticipated. But it is powerful in cases where you are expecting a certain kind of error, know it won't crash your program, and want to specifically ignore it and move on.\n",
    "\n",
    "Let's come back to our county example from above. In cases where there is a county dropdown because the zip code might correspond to multiple counties, we want to run the `select_dropdown` option. However, if there is no county dropdown, this would raise an exception that we want to simply ignore and move on from. The code below shows how we can do that with a `pass` statement, that literally means \"do nothing\"."
   ]
  },
  {
   "cell_type": "code",
   "execution_count": 8,
   "metadata": {},
   "outputs": [],
   "source": [
    "# 1. Select state dropdown\n",
    "select_dropdown(identifier='//*[@id=\"state-dd\"]', driver = driver,value='il')\n",
    "# 2. Enter zip code\n",
    "enter_text(identifier='//*[@id=\"zip-wrapper\"]/div/input',  driver = driver,text = '62401') # Try 60022 to see example with no county dropdown!\n",
    "county='Shelby'\n",
    "try:\n",
    "    # select county when given the option\n",
    "    select_dropdown(identifier='//*[@id=\"locale-inner\"]/select',  driver = driver, option = county)\n",
    "\n",
    "except:\n",
    "    # The dropdown element is not present, proceed with the next steps\n",
    "    pass"
   ]
  },
  {
   "cell_type": "markdown",
   "metadata": {},
   "source": [
    "\n",
    "Additionally, a bigger curve ball was that New York and Vermont each have completely different pages, where you can only select which members of the family are enrolling in the marketplace. This was something I only figured out as the code was running and I noticed that it was getting stuck on those states because the options I was telling `selenium` to select weren't available. For this case, I checked-in with the project team to see how they wanted me to proceed and ended up creating a seperate, slgihtly tailored script that would scrape the available values for those two states. \n",
    "\n",
    "![NY example](images/ny-example.png)"
   ]
  },
  {
   "cell_type": "markdown",
   "metadata": {},
   "source": [
    "## ABORT MISSION\n",
    "\n",
    "Oh no! Our code stopped running! \n",
    "\n",
    "How can we create safety nets within the code so that when something stops running (say you're computer went to sleep) the code automatically keeps running from where we left of? \n",
    "\n",
    "A few important things that we need to handle are: \n",
    "\n",
    "1) keeping track of how many iterations we've already done to know where to start if the code gets interrupted\n",
    "2) skipping to the correct spot in the list that we're iterating over when we start again (in this case the right county)\n",
    "3) continuing to add values to the dictionary on top of what we've already scraped\n",
    "\n",
    "\n",
    "To address the firt point, we'll create a counter variable that we set to 0 at the start of running the code. We'll then increment the value of the counter each time we go through a county in our dataset. \n",
    "\n",
    "To address the second point, we need to think through how to get back to the state/county/zip code that we were on. To do this, we'll write a function that skips ahead `n` items in our state/county/zip code JSON file. We can use this to start where we left off if the counter is > 0, otherwise it'll just read in the whole file. "
   ]
  },
  {
   "cell_type": "code",
   "execution_count": 42,
   "metadata": {},
   "outputs": [
    {
     "data": {
      "text/plain": [
       "[['il', 'Marion', '62801'],\n",
       " ['il', 'Kane', '60109'],\n",
       " ['ok', 'Pawnee', '74020'],\n",
       " ['ks', 'Harvey', '67020'],\n",
       " ['mo', 'Buchanan', '64401'],\n",
       " ['ga', 'Dooly', '31007'],\n",
       " ['sc', 'Abbeville', '29620'],\n",
       " ['co', 'Kit Carson', '80805'],\n",
       " ['md', 'Wicomico', '21801']]"
      ]
     },
     "execution_count": 42,
     "metadata": {},
     "output_type": "execute_result"
    }
   ],
   "source": [
    "# Helper function to access the nth county in the state_counties_zipcodes\n",
    "# dictionary if the counter is not 0\n",
    "def skip_counties(counter):\n",
    "    ###--- Get list of all state and zip codes ---###\n",
    "\n",
    "    # skip to relevant county\n",
    "    if counter != 0: \n",
    "        # open JSON with state, county, and zip data\n",
    "        with open('data/zip_data_small.json') as file:\n",
    "            # Read and parse JSON from the current position\n",
    "            state_counties_zipcodes_temp = json.load(file)\n",
    "            # initialize empyt list\n",
    "            state_counties_zipcodes = []\n",
    "            # turn into a flat list\n",
    "            for k,v in state_counties_zipcodes_temp.items():\n",
    "                for k1, v1 in v.items():\n",
    "                    state_counties_zipcodes.append([k, k1, v1])\n",
    "            \n",
    "            state_counties_zipcodes = skip_list[counter:]\n",
    "\n",
    "\n",
    "                \n",
    "    # if it's the first iteration and counter is 0, read in the full json without skipping anything\n",
    "    else: \n",
    "\n",
    "       # open JSON with state, county, and zip data\n",
    "        with open('data/zip_data_small.json') as file:\n",
    "            # Read and parse JSON from the current position\n",
    "            state_counties_zipcodes_temp = json.load(file)\n",
    "            # initialize empyt list\n",
    "            state_counties_zipcodes = []\n",
    "            # turn into a flat list\n",
    "            for k,v in state_counties_zipcodes_temp.items():\n",
    "                for k1, v1 in v.items():\n",
    "                    state_counties_zipcodes.append([k, k1, v1])\n",
    "            \n",
    "    return(state_counties_zipcodes)"
   ]
  },
  {
   "cell_type": "markdown",
   "metadata": {},
   "source": [
    "\n",
    "Now we're going to take the nested loop code that we wrote in session 4 and turn it into a function. The value add of turning it into a function is that we can have a counter value as the input. \n",
    "\n",
    "### TASK 2\n",
    "\n",
    "1) Turn the code below into a function called `run_entire_loop` that takes a counter value as the input and returns a counter and the output file name\n",
    "\n",
    "2) Within the function, if the counter isn't at 0 (meaning that we're not at the beginning of the loop), we'll want to read in the `output.json` file and assign it to `premium_val_dict`. This lets us keep adding to the list of values that we've already scraped. Write code (or pseudo code) where you think this belongs\n",
    "\n",
    "3) Call the `skip_counties` function that we defined above to skip to the correct row from where we left off\n",
    "\n",
    "4) Increase the value of counter when we loop through each county and print the value that we're on to the console\n",
    "\n",
    "*NOTE: The code below is already indented to work if you add the function definition to the top row*"
   ]
  },
  {
   "cell_type": "code",
   "execution_count": null,
   "metadata": {},
   "outputs": [],
   "source": [
    "    \n",
    "    url = \"https://www.kff.org/interactive/subsidy-calculator/\"\n",
    "    service = Service(executable_path=ChromeDriverManager().install())\n",
    "   \n",
    "    driver = webdriver.Chrome(service=service)\n",
    "    driver.get(url)\n",
    "    \n",
    "    # NOTE: STILL NEED TO SAVE VALUES TO DICT\n",
    "    premium_val_dict = {} # initialize empty dictionary to capture the scraped values\n",
    "    # Set THRESHOLD at number of values you already have scraped + 1\n",
    "    age_values = [14, 17, 20, 19, 39] # indexes for 14, 20, 40, and 60 years\n",
    "\n",
    " \n",
    "    \n",
    "    \n",
    "\n",
    " \n",
    " \n",
    "    for i in range(len(state_counties_zipcodes)):\n",
    "        # set the state as the top key in the dictionary\n",
    "        state_dict = premium_val_dict.setdefault(state_counties_zipcodes[i][0], {})\n",
    "        # initialize empty list to store premium plan values \n",
    "        premium_val_list = []\n",
    "        # increment counter\n",
    "    \n",
    "        # print counter\n",
    "      \n",
    "        # setup top half of page\n",
    "        setup_page(state = state_counties_zipcodes[i][0], zipcode = state_counties_zipcodes[i][2], driver = driver)\n",
    "        \n",
    "        for age in age_values:\n",
    "                # scrape plan value\n",
    "                number = scrape_data(age = age, driver = driver)\n",
    "                # for each zipcode, create a list of all of the premium plan costs for each age\n",
    "                # this will be saved with the zipcode key in the dictionary\n",
    "                premium_val_list.append(number)\n",
    "               \n",
    "        # at the end of looping through all ages in the zip code add premium values to dictionary\n",
    "        state_dict[state_counties_zipcodes[i][1]] = premium_val_list\n",
    "\n",
    "        # Save the dictionary as a JSON file at the end of each loop\n",
    "        output_filename = f'output.json'\n",
    "        with open(output_filename, 'w') as json_file:\n",
    "            json.dump(premium_val_dict, json_file, indent=2)  # 'indent' for pretty formatting (optional)\n",
    "   \n",
    "\n",
    " "
   ]
  },
  {
   "cell_type": "markdown",
   "metadata": {},
   "source": [
    "### Solution"
   ]
  },
  {
   "cell_type": "code",
   "execution_count": 52,
   "metadata": {},
   "outputs": [],
   "source": [
    "def run_entire_loop(counter):\n",
    "    \n",
    "    url = \"https://www.kff.org/interactive/subsidy-calculator/\"\n",
    "    service = Service(executable_path=ChromeDriverManager().install())\n",
    "   \n",
    "    driver = webdriver.Chrome(service=service)\n",
    "    driver.get(url)\n",
    "    \n",
    "    # NOTE: STILL NEED TO SAVE VALUES TO DICT\n",
    "    premium_val_dict = {} # initialize empty dictionary to capture the scraped values\n",
    "    # Set THRESHOLD at number of values you already have scraped + 1\n",
    "    age_values = [14, 17, 20, 19, 39] # indexes for 14, 20, 40, and 60 years\n",
    "\n",
    "    # Read the JSON file\n",
    "    if counter != 0:\n",
    "        with open(f'output.json', 'r') as file:\n",
    "            premium_val_dict = json.load(file)\n",
    "\n",
    "    # if counter is not 0, skip to correct spot in \n",
    "    # state_counties_zipcodes dictionary\n",
    "    state_counties_zipcodes = skip_counties(counter)\n",
    " \n",
    " \n",
    "    for i in range(len(state_counties_zipcodes)):\n",
    "        # set the state as the top key in the dictionary\n",
    "        state_dict = premium_val_dict.setdefault(state_counties_zipcodes[i][0], {})\n",
    "        # initialize empty list to store premium plan values \n",
    "        premium_val_list = []\n",
    "        # increment counter\n",
    "        counter += 1\n",
    "        # print counter\n",
    "        print(counter)\n",
    "        # setup top half of page\n",
    "        setup_page(state = state_counties_zipcodes[i][0], zipcode = state_counties_zipcodes[i][2], driver = driver)\n",
    "        for age in age_values:\n",
    "                \n",
    "                # scrape plan value\n",
    "                number = scrape_data(age = age, driver = driver)\n",
    "\n",
    "                # for each zipcode, create a list of all of the premium plan costs for each age\n",
    "                # this will be saved with the zipcode key in the dictionary\n",
    "                premium_val_list.append(number)\n",
    "               \n",
    "        # at the end of looping through all ages in the zip code add premium values to dictionary\n",
    "        state_dict[state_counties_zipcodes[i][1]] = premium_val_list\n",
    "\n",
    "        # Save the dictionary as a JSON file at the end of each loop\n",
    "        output_filename = f'output.json'\n",
    "        with open(output_filename, 'w') as json_file:\n",
    "            json.dump(premium_val_dict, json_file, indent=2)  # 'indent' for pretty formatting (optional)\n",
    "    \n",
    "    return(counter)\n",
    "   "
   ]
  },
  {
   "cell_type": "markdown",
   "metadata": {},
   "source": [
    "## Putting it all together "
   ]
  },
  {
   "cell_type": "code",
   "execution_count": 54,
   "metadata": {},
   "outputs": [
    {
     "name": "stdout",
     "output_type": "stream",
     "text": [
      "10\n",
      "State = md, zip Code =21801\n",
      "age = 14\n",
      "Found data download button now clicking it\n",
      "Now scraping data\n",
      "207.0\n",
      "age = 17\n",
      "Found data download button now clicking it\n",
      "Now scraping data\n",
      "239.0\n",
      "age = 20\n",
      "Found data download button now clicking it\n",
      "Now scraping data\n",
      "262.0\n",
      "age = 19\n",
      "Found data download button now clicking it\n",
      "Now scraping data\n",
      "346.0\n",
      "age = 39\n",
      "Found data download button now clicking it\n",
      "Now scraping data\n",
      "734.0\n"
     ]
    }
   ],
   "source": [
    "if __name__ == '__main__':\n",
    "    \n",
    "   counter = 9\n",
    "   \n",
    "   run_entire_loop(counter)\n",
    "      "
   ]
  },
  {
   "cell_type": "markdown",
   "metadata": {},
   "source": [
    "## So Long, Farewell \n",
    "\n",
    "Hopefully you had fun these past few weeks and learned some new skills, it's been an absolute delight to have you all in class! \n",
    "\n",
    "Remember: \n",
    "\n",
    "1) Understanding how to **think** about web scraping challenges is the most important step. It's all about the logic! \n",
    "\n",
    "2) When in doubt, break down the task to small steps\n",
    "\n",
    "3) It's going to take longer than you think, and there's going to be more bugs than you expect! \n",
    "\n",
    "4) Do quality checks throughout and and at the end! \n",
    "    - I didn't realize that when I was scraping values that had a comma, the first digit was getting dropped\n",
    "    - I assigned one zip code to every county, in about 30 counties, the zip code I assigned didn't have data, but a different one did so I had to manually assign those values to the state data frame \n",
    "    - Make sure to clear text boxes between iterations! "
   ]
  },
  {
   "cell_type": "code",
   "execution_count": null,
   "metadata": {},
   "outputs": [],
   "source": []
  }
 ],
 "metadata": {
  "kernelspec": {
   "display_name": "urban",
   "language": "python",
   "name": "python3"
  },
  "language_info": {
   "codemirror_mode": {
    "name": "ipython",
    "version": 3
   },
   "file_extension": ".py",
   "mimetype": "text/x-python",
   "name": "python",
   "nbconvert_exporter": "python",
   "pygments_lexer": "ipython3",
   "version": "3.10.8"
  }
 },
 "nbformat": 4,
 "nbformat_minor": 2
}
