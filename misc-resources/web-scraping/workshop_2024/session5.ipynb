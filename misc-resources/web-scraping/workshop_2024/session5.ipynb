{
 "cells": [
  {
   "cell_type": "raw",
   "metadata": {},
   "source": [
    "---\n",
    "title: \"Session 5\"\n",
    "editor: visual\n",
    "---"
   ]
  },
  {
   "cell_type": "markdown",
   "metadata": {},
   "source": [
    "# Welcome to the Real World \n",
    "\n",
    "Okay, but what happens when its not a nice clean training example? In today's lesson, we'll go over some of the ways that web scraping can get messy and work around solutions. \n",
    "\n",
    "- Thinking through how any one pass through your loop might be different than others\n",
    "    - Does the webpage layout look different for certain options?\n",
    "    - Show example for Philadelphia County UJS - there are no evictions available for just that county: https://ujsportal.pacourts.us/\n",
    "- Error handling to deal with slow websites or edge cases\n",
    "    - try/except logic\n",
    "    - time.sleep()\n",
    "- Picking up where you leave off by adding function arguments\n",
    "- Workshop\n",
    "    - Build upon session 4 example by adding error handling and pickup-where-you-left-off functionality"
   ]
  },
  {
   "cell_type": "code",
   "execution_count": 5,
   "metadata": {},
   "outputs": [],
   "source": [
    "from utils import *\n",
    "# Setup\n",
    "# Launch driver\n",
    "url = \"https://www.kff.org/interactive/subsidy-calculator/\"\n",
    "service = Service(executable_path=ChromeDriverManager().install())\n",
    "driver = webdriver.Chrome(service=service)\n",
    "driver.get(url)"
   ]
  },
  {
   "cell_type": "markdown",
   "metadata": {},
   "source": [
    "## Changes between loops\n",
    "\n",
    "In an ideal world, each time we loop through our variables, the web page will stay the same. However, sometimes new elements show up on the page based on the state/county/variable you want. In our KFF premium plan example, when a zip code covers multiple counties, an additional county dropdown menu will show up so you can select which county you want data for.\n",
    "\n",
    "![IL counties](images/il-counties.png)\n",
    "\n",
    "Since there are ~40,000 zip codes in the US, we only have one zip code in our data for each county. This means that when there are multiple counties associated with a zip code, we need to make sure we select the correct one we want, or else we'll have error in our data! This is where the trusty `try: except:` statement comes in handy.\n"
   ]
  },
  {
   "cell_type": "markdown",
   "metadata": {},
   "source": [
    "## `Try` your best\n",
    "The `try` statement in Python is used for catching \"exceptions\" (i.e. errors). It is a way to prevent expected errors from crashing your code. The way it is structured is as follows:\n",
    "\n",
    "```python\n",
    "try:\n",
    "    # code that might raise an error\n",
    "except:\n",
    "    # what to do if an error is raised\n",
    "```"
   ]
  },
  {
   "cell_type": "markdown",
   "metadata": {},
   "source": [
    "Here are a couple of simple examples. In the first, we set a value for x and then try to divide 10 by x. In cases where division is possible, we simply want to print out the result. But if x is 0, we want to print out a message saying that division by zero is not possible. There is a specific kind of exception that is raised when you try to divide by zero, called `ZeroDivisionError`. We can catch this specific error by adding it to the `except` statement."
   ]
  },
  {
   "cell_type": "code",
   "execution_count": 3,
   "metadata": {},
   "outputs": [
    {
     "name": "stdout",
     "output_type": "stream",
     "text": [
      "10.0\n"
     ]
    }
   ],
   "source": [
    "x = 1\n",
    "\n",
    "try:\n",
    "    print(10 / x)\n",
    "except ZeroDivisionError:\n",
    "    print(\"You can't divide by zero!\")"
   ]
  },
  {
   "cell_type": "markdown",
   "metadata": {},
   "source": [
    "Other common types of errors in Python that could be used in this structure include NameError, TypeError, and ValueError. You can catch these errors by specifying the type of error in the except block.\n",
    "\n",
    "- NameError: Raised when a variable name is not found\n",
    "- TypeError: Raised when an operation or function is applied to an object of an inappropriate type\n",
    "- ValueError: Raised when a built-in operation or function receives an argument that has the right type but an inappropriate value. (For instance, if you create a function that should only take in an integer, and a user supplies a character)."
   ]
  },
  {
   "cell_type": "markdown",
   "metadata": {},
   "source": [
    "One other way we might use try and except is when we want to ignore *any* kind of error. This is logic you should be think twice about, as it can hide even errors that you may not have anticipated. But it is powerful in cases where you are expecting a certain kind of error, know it won't crash your program, and want to specifically ignore it and move on.\n",
    "\n",
    "Let's come back to our county example from above. In cases where there is a county dropdown because the zip code might correspond to multiple counties, we want to run the `select_dropdown` option. However, if there is no county dropdown, this would raise an exception that we want to simply ignore and move on from. The code below shows how we can do that with a `pass` statement, that literally means \"do nothing\"."
   ]
  },
  {
   "cell_type": "code",
   "execution_count": 8,
   "metadata": {},
   "outputs": [],
   "source": [
    "# 1. Select state dropdown\n",
    "select_dropdown(identifier='//*[@id=\"state-dd\"]', driver = driver,value='il')\n",
    "# 2. Enter zip code\n",
    "enter_text(identifier='//*[@id=\"zip-wrapper\"]/div/input',  driver = driver,text = '62401') # Try 60022 to see example with no county dropdown!\n",
    "county='Shelby'\n",
    "try:\n",
    "    # select county when given the option\n",
    "    select_dropdown(identifier='//*[@id=\"locale-inner\"]/select',  driver = driver, option = county)\n",
    "\n",
    "except:\n",
    "    # The dropdown element is not present, proceed with the next steps\n",
    "    pass"
   ]
  },
  {
   "cell_type": "markdown",
   "metadata": {},
   "source": [
    "\n",
    "Additionally, a bigger curve ball was that New York and Vermont each have completely different pages, where you can only select which members of the family are enrolling in the marketplace. This was something I only figured out as the code was running and I noticed that it was getting stuck on those states because the options I was telling `selenium` to select weren't available. For this case, I checked-in with the project team to see how they wanted me to proceed and ended up creating a seperate, slgihtly tailored script that would scrape the available values for those two states. \n",
    "\n",
    "![NY example](images/ny-example.png)"
   ]
  },
  {
   "cell_type": "markdown",
   "metadata": {},
   "source": [
    "## ABORT MISSION\n",
    "\n",
    "Oh no! Our code stopped running! \n",
    "\n",
    "How can we create safety nets within the code so that when something stops running (say you're computer went to sleep) the code automatically keeps running from where we left of? \n",
    "\n",
    "First, we need to think through how to get back to the state/county/zip code that we were on. To do this, it'll be helpful to have a counter running along with our code to tell us what number we're on. "
   ]
  },
  {
   "cell_type": "code",
   "execution_count": null,
   "metadata": {},
   "outputs": [],
   "source": [
    "# Helper function to access the nth county in the state_counties_zipcodes\n",
    "# dictionary if the counter is not 0\n",
    "def skip_counties(n):\n",
    "    ###--- Get list of all state and zip codes ---###\n",
    "\n",
    "    # Assuming you have a CSV file with columns 'State' and 'ZIP Code'\n",
    "    csv_file_path = 'data/tate.csv'\n",
    "\n",
    "    # read into a dataframe\n",
    "    if n != 0: \n",
    "        raw_csv = pd.read_csv(csv_file_path, skiprows=lambda x: x > 0 and x <= n, dtype={'zipcode': str})\n",
    "        # filter out new york because the page is different\n",
    "        raw_csv = raw_csv[~raw_csv['state_abbr'].isin(['ny', 'vt'])]\n",
    "    else: \n",
    "       raw_csv = pd.read_csv(csv_file_path, dtype={'zipcode': str})\n",
    "       # filter out new york because the page is different \n",
    "       raw_csv = raw_csv[~raw_csv['state_abbr'].isin(['ny', 'vt'])]\n",
    "    # Create a nested dictionary\n",
    "    state_counties_zipcodes = {}\n",
    "\n",
    "    for index, row in raw_csv.iterrows():\n",
    "        state = row['state_abbr']\n",
    "        county = row['county']\n",
    "        zipcode = row['zipcode']\n",
    "\n",
    "        if state not in state_counties_zipcodes:\n",
    "            state_counties_zipcodes[state] = {}\n",
    "\n",
    "        state_counties_zipcodes[state][county] = zipcode\n",
    "    return(state_counties_zipcodes)\n"
   ]
  },
  {
   "cell_type": "raw",
   "metadata": {},
   "source": []
  }
 ],
 "metadata": {
  "kernelspec": {
   "display_name": "urban",
   "language": "python",
   "name": "python3"
  },
  "language_info": {
   "codemirror_mode": {
    "name": "ipython",
    "version": 3
   },
   "file_extension": ".py",
   "mimetype": "text/x-python",
   "name": "python",
   "nbconvert_exporter": "python",
   "pygments_lexer": "ipython3",
   "version": "3.9.7"
  }
 },
 "nbformat": 4,
 "nbformat_minor": 2
}
