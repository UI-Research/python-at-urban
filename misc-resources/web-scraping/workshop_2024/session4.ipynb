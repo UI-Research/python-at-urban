{
  "cells": [
    {
      "cell_type": "raw",
      "id": "1c431184",
      "metadata": {},
      "source": [
        "---\n",
        "title: \"Session 4\"\n",
        "editor: visual\n",
        "---"
      ]
    },
    {
      "cell_type": "markdown",
      "id": "cb66f374",
      "metadata": {},
      "source": [
        "# Loops, Lists, and other Pythonic things!\n",
        "Now that we know how to set up the page how we want it and scrape the text that we're interested in we need to think through how to loop through each of the different combinations of variables that we're interested in. This is where things get interesting! I like to think of it as a puzzle, and we need to figure out the right order and combination of how things fit together to get it to run. \n",
        "\n",
        "Let's start with a quick review of some Python objects and syntax - and a reminder that deeper dives on all these concepts can be found in our Intro to Python series: https://ui-research.github.io/python-at-urban/content/intro-to-python.html"
      ]
    },
    {
      "cell_type": "code",
      "execution_count": 1,
      "id": "fedcbaca",
      "metadata": {},
      "outputs": [
        {
          "name": "stdout",
          "output_type": "stream",
          "text": [
            "[3, 5, 7, 9, 11, 13]\n",
            "{'a': 3, 'b': 5, 'c': 7, 'd': 9, 'e': 11, 'f': 13}\n"
          ]
        }
      ],
      "source": [
        "# Lists contain a collection of values.\n",
        "my_list = [3, 5, 7, 9, 11]\n",
        "# Dictionaries contain a collection of key, value pairs. The keys should be strings or numbers, while the values can be any data type, even lists or dictionaries themselves.\n",
        "my_dict = {'a': 3, 'b': 5, 'c': 7, 'd': 9, 'e': 11}\n",
        "# In a web scraping context, these will be helpful objects for storing data as we loop through various web page objects and append the text we extract. We can add new values like this:\n",
        "my_list.append(13)\n",
        "my_dict['f'] = 13\n",
        "\n",
        "print(my_list)\n",
        "print(my_dict)"
      ]
    },
    {
      "cell_type": "markdown",
      "id": "37b1e897",
      "metadata": {},
      "source": [
        "Loops allow you to iterate over all values in some sort of collection (e.g. a list). There are two main types of loops in Python: for loops and while loops.\n",
        "\n",
        "For loops are probably more common for this sort of application, because we have a fixed number of iterations, but while loops can be nice when you have an indefinite number. Just be careful that the condition eventually evaluates to False, or you'll have an infinite loop!\n",
        "\n",
        "Finally, as you'll see below, loops can be nested within each other, meaning that you can have a loop within a loop. In this case, for *every* iteration of the outer loop, the inner loop would run through *all* of its iterations."
      ]
    },
    {
      "cell_type": "code",
      "execution_count": 2,
      "id": "f2e4d0a4",
      "metadata": {},
      "outputs": [
        {
          "name": "stdout",
          "output_type": "stream",
          "text": [
            "4\n",
            "6\n",
            "8\n",
            "10\n",
            "12\n",
            "14\n",
            "4\n",
            "6\n",
            "8\n",
            "10\n",
            "12\n",
            "14\n",
            "1 a\n",
            "1 b\n",
            "1 c\n",
            "2 a\n",
            "2 b\n",
            "2 c\n",
            "3 a\n",
            "3 b\n",
            "3 c\n"
          ]
        }
      ],
      "source": [
        "# Loops allow you to iterate over all values in some sort of collection (e.g. a list). There are two main types of loops in Python: for loops and while loops.\n",
        "for item in my_list:\n",
        "    print(item + 1)\n",
        "\n",
        "# Example while loop\n",
        "i = 0\n",
        "while i < len(my_list):\n",
        "    print(my_list[i] + 1)\n",
        "    i += 1\n",
        "\n",
        "# Nested for loop\n",
        "list1 = [1, 2, 3]\n",
        "list2 = ['a', 'b', 'c']\n",
        "\n",
        "for i in list1:\n",
        "    for j in list2:\n",
        "        print(i, j)"
      ]
    },
    {
      "cell_type": "markdown",
      "id": "605e50f6",
      "metadata": {},
      "source": [
        "Last week, we learned how to set up the page how we want it and scrape the text that we're interested in. Now we need to think through how to loop through each of the different combinations of variables that we're interested in. This is where things get interesting! Think of it like a puzzle, and we need to figure out the right order and combination of how things fit together to get it to run. \n",
        "\n",
        "At this stage in the web scraping process, rather than diving straight into the code, we're going to focus on pseudo code to learn how to ** *think* ** about approaching the problem. Once you know what you want to do conceptually, the syntax is something you can either look to past examples for or look to Google/Stack Overflow for. As we introduced on week 1, concept > syntax.\n",
        "\n",
        "First, try to break the problem down into which pieces we want to change at the same time, and which we want to stay consistent. As a reminder, the project team we're working with needs the cost of the Silver Plan Premium for each county for people aged 14, 20, 40, and 60. \n",
        "\n",
        "### TASK 1 \n",
        "\n",
        "**Looking at the web page, what values need to change *every* time we want to scrape a new value, and what values only need to be set *some* of the times we want to scrape the page?**\n",
        "\n",
        "\n",
        "![Full page](images/full-page.png)"
      ]
    },
    {
      "cell_type": "markdown",
      "id": "0ecc2346",
      "metadata": {},
      "source": [
        "\n",
        "### TASK 1 SOLUTION\n",
        "\n",
        "<details>\n",
        "\n",
        "STATE only needs to change once we've gone through each of the ZIP CODE/COUNTY pairs in the state. And AGE changes four times for each zip code/county pair.\n",
        "\n",
        "Now that we've thought through this hierarchy, we have the three levels of nested `for` loops that we need!! \n",
        "</details\n"
      ]
    },
    {
      "cell_type": "markdown",
      "id": "4475261f",
      "metadata": {},
      "source": [
        "\n",
        "### Functional Programming\n",
        "\n",
        "\n",
        "We'll use functions to apply the code we wrote in Session 3 to our nested for loops. Some values only need to be set when the county changes, while others need to be set every time we want to get a new premium value for different ages. Therefore, we can split the `selenium` code we wrote yesterday into two functions. "
      ]
    },
    {
      "cell_type": "code",
      "execution_count": 3,
      "id": "b58719e7",
      "metadata": {},
      "outputs": [],
      "source": [
        "# Import functions saved in utils.py\n",
        "from utils import *"
      ]
    },
    {
      "cell_type": "markdown",
      "id": "53fdee49",
      "metadata": {},
      "source": [
        "### TASK 2\n",
        "\n",
        "**Fill in the following function with `selenium` code from yesterday for the sections of the page that only need to be updated when the county changes**"
      ]
    },
    {
      "cell_type": "code",
      "execution_count": 4,
      "id": "f09491bc",
      "metadata": {},
      "outputs": [],
      "source": [
        "def setup_page(state, driver, zipcode):\n",
        "    '''\n",
        "     This functions sets up the initial page conditions that don't need to change with each iteration through the age groups \n",
        "\n",
        "     Inputs: \n",
        "        zipcode is input to the dropdown menus on the website. \n",
        "            Each time this function is called below, it is for a different cut of the data.\n",
        "        counter (int): Counts how many times this function has been called in the script below\n",
        "        driver: Specify the driver with the web page we are navigating \n",
        "\n",
        "    Returns: \n",
        "        Nothing, just sets up the page\n",
        "     '''\n",
        "\t# function to set state, county, and income which don't change when looping through a county\n",
        "    # pring the state and zip code to the console \n",
        "    print(f'State = {state}, zip Code ={zipcode}')\n",
        "    \n",
        "    # Select state dropdown\n",
        " \n",
        "    # Enter zip code\n",
        "\n",
        "    # Enter yearly household income\n",
        "    \n",
        "    # use the is_textbox_empty() function to check if there is already a value in the income textbox\n",
        "\n",
        "        # if there isnt, enter income value of 100000\n",
        "    \n",
        "    # Is coverage available from your or your spouse's job? \n"
      ]
    },
    {
      "cell_type": "markdown",
      "id": "be659ebc",
      "metadata": {},
      "source": [
        "### TASK 2 SOLUTION"
      ]
    },
    {
      "cell_type": "code",
      "execution_count": 4,
      "id": "16ad8fa6",
      "metadata": {},
      "outputs": [],
      "source": [
        "def setup_page(state, driver, zipcode):\n",
        "    '''\n",
        "     This functions sets up the initial page conditions that don't need to change with each iteration through the age groups \n",
        "\n",
        "     Inputs: \n",
        "        zipcode is input to the dropdown menus on the website. \n",
        "            Each time this function is called below, it is for a different cut of the data.\n",
        "        counter (int): Counts how many times this function has been called in the script below\n",
        "        driver: Specify the driver with the web page we are navigating \n",
        "\n",
        "    Returns: \n",
        "        Nothing, just sets up the page\n",
        "     '''\n",
        "\t# function to set state, county, and income which don't change when looping through a county\n",
        "    # pring the state and zip code to the console \n",
        "    print(f'State = {state}, zip Code ={zipcode}')\n",
        "    \n",
        "     # Select state dropdown\n",
        "    select_dropdown(identifier='//*[@id=\"state-dd\"]',driver = driver, value=state)\n",
        "    # Enter zip code\n",
        "    enter_text(identifier='//*[@id=\"zip-wrapper\"]/div/input', driver = driver, text = zipcode)\n",
        "        # if there's an option to select a county, select the county associated with the zip code\n",
        "        # Attempt to locate and click the dropdown element\n",
        "\n",
        "        # Enter yearly household income\n",
        "    if is_textbox_empty(driver=driver, textbox_id='//*[@id=\"subsidy-form\"]/div[2]/div[1]/div[2]/div[2]/input'):\n",
        "        # enter income value if the text box does not already have text \n",
        "        enter_text(identifier='//*[@id=\"subsidy-form\"]/div[2]/div[1]/div[2]/div[2]/input', driver = driver, text = '100000') # this stays the same each time\n",
        "    \n",
        "    # Is coverage available from your or your spouse's job? \n",
        "    click_button(identifier='//*[@id=\"employer-coverage-0\"]', driver = driver,) # this stays the same each time\n"
      ]
    },
    {
      "cell_type": "markdown",
      "id": "3dfacbc9",
      "metadata": {},
      "source": [
        "In the second function, we want to set up the correct values for the age value that we're on in the loop. Note that when the age is 14 or 20, we need to set the number of adults to 0 and number of children to 1 and then select the correct age. When the age is 40 or 60, we need to do the opposite. Once all of the specifics on the page are set up, we want to use the `BeautifulSoup` code that we wrote last session to actually scrape the data. \n",
        "\n",
        "### TASK 3\n",
        "\n",
        "Fill in the function below with the appropriate  `selenium` code from the last session."
      ]
    },
    {
      "cell_type": "code",
      "execution_count": null,
      "id": "d09fbe33",
      "metadata": {},
      "outputs": [],
      "source": [
        "def scrape_data(age, driver):\n",
        "     '''\n",
        "     This functions scrapes the price of the silver plan premium (without financial help) for non-smoking 14, 20, 40, and 60 year old people for each county nationally and saves it as a dataframe \n",
        "\n",
        "     Inputs: \n",
        "        age: an input to the dropdown menus on the website. \n",
        "            Each time this function is called below, it is for a different cut of the data.\n",
        "        driver: Specify the driver with the web page we are navigating \n",
        "\n",
        "    Returns: \n",
        "        The Silver Plan Premium for the specified age\n",
        "     '''\n",
        "     # print the age that we are scraping to the console\n",
        "     print(f'age = {age}')\n",
        "\n",
        "     # Number of adults (21 to 64) enrolled in Marketplace coverage? (changes based on input age)\n",
        "     if age in [ , ]: # fill in with these are the indexes for 40yo and 60yo\n",
        "        # set number of kids to 0\n",
        "\n",
        "        # set number of adults to 1\n",
        "\n",
        "        # Age? (index is age minus 21)\n",
        "\n",
        "     else: \n",
        "        # set number of adults to 0\n",
        "\n",
        "        # set number of kids to 1 \n",
        "\n",
        "        # Age\n",
        "        \n",
        "     # print update to console    \n",
        "     print('Found data download button now clicking it')\n",
        "\n",
        "     # Click submit button\n",
        "\n",
        "     print('Now scraping data')\n",
        "\n",
        "     ##--- Beautiful Soup ---###\n",
        "     # Beautiful Soup setup using the desired URL\n",
        "    \n",
        "    \n",
        "     # return scraped value\n"
      ]
    },
    {
      "cell_type": "markdown",
      "id": "cc16837a",
      "metadata": {},
      "source": [
        "### TASK 3 SOLUTION"
      ]
    },
    {
      "cell_type": "code",
      "execution_count": 5,
      "id": "a0d69d0b",
      "metadata": {},
      "outputs": [],
      "source": [
        "def scrape_data(age, driver):\n",
        "     '''\n",
        "     This functions scrapes the price of the silver plan premium (without financial help) for non-smoking 14, 20, 40, and 60 year old people for each county nationally and saves it as a dataframe \n",
        "\n",
        "     Inputs: \n",
        "        age: an input to the dropdown menus on the website. \n",
        "            Each time this function is called below, it is for a different cut of the data.\n",
        "        driver: Specify the driver with the web page we are navigating \n",
        "\n",
        "    Returns: \n",
        "        The Silver Plan Premium for the specified age\n",
        "     '''\n",
        "     # print the age that we are scraping to the console\n",
        "     print(f'age = {age}')\n",
        "\n",
        "     # Number of adults (21 to 64) enrolled in Marketplace coverage? (changes based on input age)\n",
        "     if age in [19 ,39]: # fill in with these are the indexes for 40yo and 60yo\n",
        "        # set number of kids to 0\n",
        "        select_dropdown(identifier='//*[@id=\"subsidy-form\"]/div[2]/div[3]/div[3]/div/select',driver = driver, index = '0')\n",
        "        # set number of adults to 1\n",
        "        select_dropdown(identifier='//*[@id=\"subsidy-form\"]/div[2]/div[3]/div[1]/div/select',driver = driver, value = \"1\")\n",
        "        # Age? (index is age minus 21)\n",
        "        select_dropdown(identifier='//*[@id=\"subsidy-form\"]/div[2]/div[3]/div[2]/div/div[1]/select', driver = driver,index = age)\n",
        "     else: \n",
        "        # set number of adults to 0\n",
        "        select_dropdown(identifier='//*[@id=\"subsidy-form\"]/div[2]/div[3]/div[1]/div/select',driver = driver, value = \"0\")\n",
        "        # Number of children (20 and younger) enrolling in Marketplace coverage\n",
        "        select_dropdown(identifier='//*[@id=\"subsidy-form\"]/div[2]/div[3]/div[3]/div/select',driver = driver, index = '1')\n",
        "        select_dropdown(identifier='//*[@id=\"subsidy-form\"]/div[2]/div[3]/div[4]/div/div[1]/select',driver = driver, index = age)\n",
        "        \n",
        "     # print update to console    \n",
        "     print('Found data download button now clicking it')\n",
        "     # Submit\n",
        "     click_button(identifier='//*[@id=\"subsidy-form\"]/p/input[2]', driver = driver,)\n",
        "\n",
        "     time.sleep(1)       \n",
        "     print('Now scraping data')\n",
        "\n",
        "     ##--- Beautiful Soup ---###\n",
        "     # Beautiful Soup setup using the desired URL\n",
        "     html = driver.page_source\n",
        "     soup = BeautifulSoup(html, 'html.parser')  # we use the 'lxml' parser here to scrape this page, which is very fast\n",
        "     \n",
        "     premium_val = str(soup.find_all('span', class_ = \"bold-blue\")[4])# select the 4th element which has the value we want \n",
        "\n",
        "     \n",
        "     extracted_number = re.search(r'\\$([\\d,]+(?:\\.\\d{1,2})?)', premium_val)\n",
        "     \n",
        "    # Extract the matched group (number with $ and commas)\n",
        "     matched_string = extracted_number.group(0)\n",
        "    # Remove $ and commas from the matched string\n",
        "     clean_number = matched_string.replace('$', '').replace(',', '')\n",
        "    # Convert the cleaned string to a numeric value (float or int)\n",
        "     number = float(clean_number) \n",
        "     print(number)\n",
        "        \n",
        "     return (number)\n"
      ]
    },
    {
      "cell_type": "markdown",
      "id": "2dda57b7",
      "metadata": {},
      "source": [
        "## Nested Dictionaries\n",
        "\n",
        "Now that we've figured out how to loop through all of the combinations of variables we need, and how to turn our web scraping code into functions, we need to figure out how to actually save the values we're scraping! Just like nested loops, we can have nested dictionaries in Python. JSON files are essentially nested dictionaries, and can be really useful for storing data in a structured way. We've written code in `Reference.qmd` that takes a random set of 10 counties and zip codes and outputs them into a JSON file which we'll work with here. \n",
        "\n",
        "Loading in the file below, we can see that we have a dictionary with the state as the key and another dictionary as the value. This set of inner dictionaries contains the counties for that state and the zip codes for that county (note that we need both counties and zips accounted for in this dictionary because zip codes can cross county lines)."
      ]
    },
    {
      "cell_type": "code",
      "execution_count": 6,
      "id": "ca83f2c9",
      "metadata": {},
      "outputs": [
        {
          "data": {
            "text/plain": [
              "{'ky': {'Bourbon': '40348'},\n",
              " 'il': {'Marion': '62801', 'Kane': '60109'},\n",
              " 'ok': {'Pawnee': '74020'},\n",
              " 'ks': {'Harvey': '67020'},\n",
              " 'mo': {'Buchanan': '64401'},\n",
              " 'ga': {'Dooly': '31007'},\n",
              " 'sc': {'Abbeville': '29620'},\n",
              " 'co': {'Kit Carson': '80805'},\n",
              " 'md': {'Wicomico': '21801'}}"
            ]
          },
          "execution_count": 6,
          "metadata": {},
          "output_type": "execute_result"
        }
      ],
      "source": [
        "# Import JSON file\n",
        "import json\n",
        "with open('data/zip_data_small.json') as f:\n",
        "    state_counties_zipcodes = json.load(f)\n",
        "\n",
        "state_counties_zipcodes"
      ]
    },
    {
      "cell_type": "markdown",
      "id": "574eda53",
      "metadata": {},
      "source": [
        "Stepping through this dictionary is pretty straightforward. To access the value corresponding to Illinois, we can write:"
      ]
    },
    {
      "cell_type": "code",
      "execution_count": 7,
      "id": "51da2f89",
      "metadata": {},
      "outputs": [
        {
          "data": {
            "text/plain": [
              "{'Marion': '62801', 'Kane': '60109'}"
            ]
          },
          "execution_count": 7,
          "metadata": {},
          "output_type": "execute_result"
        }
      ],
      "source": [
        "state_counties_zipcodes['il']"
      ]
    },
    {
      "cell_type": "markdown",
      "id": "88f0fc97",
      "metadata": {},
      "source": [
        "If we then further wanted to access the data for a specific zip county, we could do so with either of the lines of code below. Note that we can continue to step through nested dictionaries with the same syntax we would use to access a single dictionary, the `[]` brackets. The `items()` method is also useful as a way to obtain the full set of keys and values for a dictionary."
      ]
    },
    {
      "cell_type": "code",
      "execution_count": 8,
      "id": "aa5fe49a",
      "metadata": {},
      "outputs": [
        {
          "name": "stdout",
          "output_type": "stream",
          "text": [
            "62801\n"
          ]
        },
        {
          "data": {
            "text/plain": [
              "dict_items([('Marion', '62801'), ('Kane', '60109')])"
            ]
          },
          "execution_count": 8,
          "metadata": {},
          "output_type": "execute_result"
        }
      ],
      "source": [
        "print(state_counties_zipcodes['il']['Marion'])\n",
        "state_counties_zipcodes['il'].items()"
      ]
    },
    {
      "cell_type": "markdown",
      "id": "b70d6603",
      "metadata": {},
      "source": [
        "### Putting it all together\n",
        "\n",
        "Now that we have functions to 1) set up sections of the page that need to update for every county, and 2) set up what needs to change for different ages and scrape the value, we can put all of the pieces together. As a reminder, at a high-level, we want to:\n",
        "\n",
        "1) Initialize a web driver\n",
        "2) Initialize and empty dictionary to capture the values that we want to scrape \n",
        "3) Specify the ages and state/counties that we want to loop over\n",
        "4) Loop over each state\n",
        "5) Loop over each county\n",
        "6) Loop over each age we need\n",
        "7) Save the output \n"
      ]
    },
    {
      "cell_type": "code",
      "execution_count": 9,
      "id": "cdf5726f",
      "metadata": {},
      "outputs": [],
      "source": [
        "# Launch driver\n",
        "url = \"https://www.kff.org/interactive/subsidy-calculator/\"\n",
        "service = Service(executable_path=ChromeDriverManager().install())\n",
        "driver = webdriver.Chrome(service=service)\n",
        "driver.get(url)\n",
        "\n",
        "# initialize empty dictionary to capture the scraped values\n",
        "premium_val_dict = {} \n",
        "# indexes for 14, 20, 40, and 60 years\n",
        "age_values = [14, 20, 19, 39] \n",
        "    "
      ]
    },
    {
      "cell_type": "markdown",
      "id": "2f29535a",
      "metadata": {},
      "source": [
        "### TASK 4\n",
        "Now that we have the nested for loops, where would you place each of the functions we defined above? "
      ]
    },
    {
      "cell_type": "code",
      "execution_count": null,
      "id": "d1fc5f13",
      "metadata": {},
      "outputs": [],
      "source": [
        "# for each state and county combo in the state nested dict\n",
        "for state, counties in state_counties_zipcodes.items():\n",
        "\n",
        "# loop through county, zip pairs\n",
        "    for county, zip_code in counties.items():\n",
        "            \n",
        "        # loop through ages we want to get premium values for\n",
        "        for age in age_values:"
      ]
    },
    {
      "cell_type": "markdown",
      "id": "5f833e1f",
      "metadata": {},
      "source": [
        "### TASK 4 SOLUTION"
      ]
    },
    {
      "cell_type": "code",
      "execution_count": null,
      "id": "ce9027a3",
      "metadata": {},
      "outputs": [],
      "source": [
        "# for each state and county combo in the state nested dict\n",
        "for state, counties in state_counties_zipcodes.items():\n",
        "\n",
        "# loop through county, zip pairs\n",
        "    for county, zip_code in counties.items():\n",
        "\n",
        "        # call the setup_page function to set top dropdown values on page\n",
        "        setup_page(state=state, driver = driver, zipcode=zip_code)\n",
        "            \n",
        "        # loop through ages we want to get premium values for\n",
        "        for age in age_values:\n",
        "\n",
        "            # call the scrape_data function to get the premium value \n",
        "            number = scrape_data(age = age, driver = driver)"
      ]
    },
    {
      "cell_type": "markdown",
      "id": "d4cfe913",
      "metadata": {},
      "source": [
        "### TASK 5\n",
        "\n",
        "Almost there!!! Now that we have everything in place to scape the data, we need to think about how to store the premium plan values that we did all of this work to get! To do that, again we need to think about what is happening at each step in our nested for loops and where the best place to save the data is. Within the age for loop, we want to capture all of the scraped values in a list called `premium_val_list`. And then we want to save that list with the county and state that it came from in the dictionary that we initialized at the beginning called `premium_val_dict`.\n",
        "\n",
        "Try to fill in those items where they belong in the skeleton below."
      ]
    },
    {
      "cell_type": "code",
      "execution_count": 12,
      "id": "5c969e8e",
      "metadata": {},
      "outputs": [
        {
          "data": {
            "text/plain": [
              "dict_items([('ky', {'Bourbon': '40348'}), ('il', {'Marion': '62801', 'Kane': '60109'}), ('ok', {'Pawnee': '74020'}), ('ks', {'Harvey': '67020'}), ('mo', {'Buchanan': '64401'}), ('ga', {'Dooly': '31007'}), ('sc', {'Abbeville': '29620'}), ('co', {'Kit Carson': '80805'}), ('md', {'Wicomico': '21801'})])"
            ]
          },
          "execution_count": 12,
          "metadata": {},
          "output_type": "execute_result"
        }
      ],
      "source": [
        "# for each state and county combo in the state nested dict\n",
        "for state, counties in state_counties_zipcodes.items():\n",
        "# loop through county, zip pairs\n",
        "    for county, zip_code in counties.items():\n",
        "\n",
        "        # call the setup_page function to set top dropdown values on page\n",
        "        setup_page(state=state, driver = driver, zipcode=zip_code)\n",
        "            \n",
        "        # loop through ages we want to get premium values for\n",
        "        for age in age_values:\n",
        "\n",
        "            # call the scrape_data function to get the premium value \n",
        "            number = scrape_data(age = age, driver = driver)\n",
        "                  \n",
        "# Save the dictionary as a JSON file at the end of each loop\n",
        "output_filename = f'data/output.json'\n",
        "with open(output_filename, 'w') as json_file:\n",
        "    json.dump(premium_val_dict, json_file, indent=2)  # 'indent' for pretty formatting (optional)\n"
      ]
    },
    {
      "cell_type": "markdown",
      "id": "cfe484d1",
      "metadata": {},
      "source": [
        "### TASK 5 SOLUTION"
      ]
    },
    {
      "cell_type": "code",
      "execution_count": null,
      "id": "a1fc53ec",
      "metadata": {},
      "outputs": [],
      "source": [
        "# for each state and county combo in the state nested dict\n",
        "for state, counties in state_counties_zipcodes.items():\n",
        "# loop through county, zip pairs\n",
        "    for county, zip_code in counties.items():\n",
        "    # initialize empty list to store premium plan values for \n",
        "    # the county that we're on in the loop \n",
        "        premium_val_list = []\n",
        "\n",
        "        # call the setup_page function to set top dropdown values on page\n",
        "        setup_page(state=state, driver = driver, zipcode=zip_code)\n",
        "            \n",
        "        # loop through ages we want to get premium values for\n",
        "        for age in age_values:\n",
        "\n",
        "            # call the scrape_data function to get the premium value \n",
        "            number = scrape_data(age = age, driver = driver)\n",
        "\n",
        "            # for each zipcode, create a list of all of the premium plan costs for each age\n",
        "            # this will be saved with the zipcode key in the dictionary\n",
        "            premium_val_list.append(number)\n",
        "                  \n",
        "        # at the end of looping through all ages in the zip code add premium values to dictionary\n",
        "        # note that this step is outside of the age for loop \n",
        "        premium_val_dict[county] = premium_val_list \n",
        "\n",
        "# Save the dictionary as a JSON file at the end of each loop\n",
        "output_filename = f'data/output.json'\n",
        "with open(output_filename, 'w') as json_file:\n",
        "    json.dump(premium_val_dict, json_file, indent=2)  # 'indent' for pretty formatting (optional)\n"
      ]
    }
  ],
  "metadata": {
    "kernelspec": {
      "display_name": "urban",
      "language": "python",
      "name": "python3"
    },
    "language_info": {
      "codemirror_mode": {
        "name": "ipython",
        "version": 3
      },
      "file_extension": ".py",
      "mimetype": "text/x-python",
      "name": "python",
      "nbconvert_exporter": "python",
      "pygments_lexer": "ipython3",
      "version": "3.9.7"
    }
  },
  "nbformat": 4,
  "nbformat_minor": 5
}
