{
  "cells": [
    {
      "cell_type": "raw",
      "id": "1c431184",
      "metadata": {},
      "source": [
        "---\n",
        "title: \"Session 3\"\n",
        "editor: visual\n",
        "---"
      ]
    },
    {
      "cell_type": "markdown",
      "id": "605e50f6",
      "metadata": {},
      "source": [
        "# Scraping Dynamic Web Pages\n",
        "Dynamic web pages require a separate set of tools - either instead of or in addition to - what we covered in the last lesson. We'll have to automate the actions that human web users would take when navigating a web page, such as clicking a button, selecting dropdown options, or entering text. This lesson will be an introduction to the `selenium` package in Python, which allows us to flexibly and powerfully interact with dynamic web pages."
      ]
    },
    {
      "cell_type": "markdown",
      "id": "ac4684fc",
      "metadata": {},
      "source": [
        "# Overview\n",
        "\n",
        "Today we'll be digging into how to get started with a web scraping task and how to structure your thinking about approaching the task. For the remainder of the boot camp we'll be working on scraping state-level health insurance premium values from the KFF [Health Insurance Marketplace Calculator](https://www.kff.org/interactive/subsidy-calculator/). In this example, the project team needs the cost of the Silver Plan Premium (without financial help) for each county for people aged 14, 20, 40, and 60. The final output should look something like this:\n",
        "\n",
        "| State | County    | Age 14 | Age 20 | Age 40 | Age 60 |\n",
        "|-------|-----------|--------|--------|--------|--------|\n",
        "| AL    | St. Clair | 281    | 434    | 566    | 1824   |\n",
        "| AL    | Jefferson | 294    | 420    | 540    | 1830   |\n",
        "| AL    | Shelby    | 273    | 451    | 589    | 1801   |\n",
        "\n"
      ]
    },
    {
      "cell_type": "markdown",
      "id": "64bd9b39",
      "metadata": {},
      "source": [
        "## Getting Started\n",
        "First, let's import some packages that we'll need throughout the lesson (which you may need to install from the command line using `conda install package_name`):"
      ]
    },
    {
      "cell_type": "code",
      "execution_count": 1,
      "id": "debaca88",
      "metadata": {},
      "outputs": [],
      "source": [
        "from bs4 import BeautifulSoup\n",
        "import os\n",
        "from selenium import webdriver\n",
        "from selenium.webdriver.common.by import By\n",
        "from selenium.webdriver.chrome.service import Service \n",
        "from webdriver_manager.chrome import ChromeDriverManager\n",
        "## NOTE: Some users may want to try a Firefox Driver instead;\n",
        "## Can comment above two lines and uncomment the below two lines\n",
        "# from selenium.webdriver.firefox.service import Service\n",
        "# from webdriver_manager.firefox import GeckoDriverManager\n",
        "from selenium.webdriver.support import expected_conditions as EC\n",
        "from selenium.webdriver.support.ui import Select, WebDriverWait\n",
        "import pandas as pd\n",
        "import time"
      ]
    },
    {
      "cell_type": "markdown",
      "id": "d3102822",
      "metadata": {},
      "source": [
        "## The Driver\n",
        "To start, we'll need to launch a web browser that will be controlled by our python code, which is called a driver. First, we have a line that either installs the driver (in this case using a Chrome browser) or pulls a locally cached version if it's already installed.\n",
        "\n",
        "Next, we need to specify the URL that we want the driver to navigate to. The following chunk of code specifies that we want to navigate to the Health Insurance Marketplace Calculator, and then opens a web browser and navigates to the page. \n"
      ]
    },
    {
      "cell_type": "code",
      "execution_count": 2,
      "id": "3b5b3848",
      "metadata": {},
      "outputs": [],
      "source": [
        "service = Service(executable_path=ChromeDriverManager().install())\n",
        "driver = webdriver.Chrome(service=service)\n",
        "url = \"https://www.kff.org/interactive/subsidy-calculator/\"\n",
        "driver.get(url)"
      ]
    },
    {
      "cell_type": "markdown",
      "id": "beb42a0a",
      "metadata": {},
      "source": [
        "## Quick refresher on functions\n",
        "A function is a block of code that can execute a particular action. The reason we use a function is to avoid copy and pasting the same code multiple times if we want to repeatedly execute that action. Functions can take in arguments from the user and can return a value."
      ]
    },
    {
      "cell_type": "code",
      "execution_count": 3,
      "id": "a8601d73",
      "metadata": {},
      "outputs": [
        {
          "data": {
            "text/plain": [
              "9"
            ]
          },
          "execution_count": 3,
          "metadata": {},
          "output_type": "execute_result"
        }
      ],
      "source": [
        "def square_number(x):\n",
        "    return x**2\n",
        "\n",
        "square_number(3)"
      ]
    },
    {
      "cell_type": "markdown",
      "id": "c9552425",
      "metadata": {},
      "source": [
        "Looking through the website, there are drop down menus, select buttons, and text input that we'll need to navigate. Based on the rule of \"if a human needs to click something\" we'll need to use the `selenium` package. Luckily, this isn't Urban's first web scraping rodeo and we have sample code functions for completing each of these types of actions.\n",
        "\n",
        "### Click Button\n",
        "\n",
        "Use the function when you need to click a button on the page."
      ]
    },
    {
      "cell_type": "code",
      "execution_count": 4,
      "id": "6edab0e0",
      "metadata": {},
      "outputs": [],
      "source": [
        "def click_button(identifier, driver, by=By.XPATH, timeout=15):   \n",
        "    '''\n",
        "    This function waits until a button is clickable and then clicks on it.`\n",
        "\n",
        "    Inputs:\n",
        "        identifier (string): The Id, XPath, or other way of identifying the element to be clicked on\n",
        "        by (By object): How to identify the identifier (Options include By.XPATH, By.ID, By.Name and others).\n",
        "            Make sure 'by' and 'identifier' correspond to one other as they are used as a tuple pair below.\n",
        "        timeout (int): How long to wait for the object to be clickable\n",
        "\n",
        "    Returns:\n",
        "        None (just clicks on button)\n",
        "    '''\n",
        "\n",
        "    element_clickable = EC.element_to_be_clickable((by, identifier))\n",
        "    element = WebDriverWait(driver, timeout=timeout).until(element_clickable)\n",
        "    driver.execute_script(\"arguments[0].click();\", element)"
      ]
    },
    {
      "cell_type": "markdown",
      "id": "473ba831",
      "metadata": {},
      "source": [
        "### Select a Dropdown\n",
        "\n",
        "Use this function to select a value in a dropdown menu \n"
      ]
    },
    {
      "cell_type": "code",
      "execution_count": 5,
      "id": "f2fd02b6",
      "metadata": {},
      "outputs": [],
      "source": [
        "def select_dropdown(identifier, driver,  by=By.XPATH, value=None, option=None,  index=None):\n",
        "    '''\n",
        "    This function clicks on the correct dropdown option in a dropdown object.\n",
        "    It first waits until the element becomes selectable before locating the proper drop down menu. Then it selects the proper option.\n",
        "    If the page doesn't load within 15 seconds, it will return a timeout message.\n",
        "\n",
        "    Inputs:\n",
        "        id (string): This is the HTML 'value' of the dropdown menu to be selected, \n",
        "            found through inspecting the web page.\n",
        "        value (string): The value to select from the dropdown menu.\n",
        "        index (int): If index is not None, function assumes we want to select an option by its index instead of by specific value. \n",
        "            In this case, should specify that value = None.\n",
        "    \n",
        "    Returns:\n",
        "        None (just selects the right item in the dropdown menu)\n",
        "    '''\n",
        "    element_clickable = EC.element_to_be_clickable((by, identifier))\n",
        "    element = WebDriverWait(driver, timeout=15).until(element_clickable)\n",
        "    if value is not None:\n",
        "        Select(element).select_by_value(value)\n",
        "    elif option is not None: \n",
        "        Select(element).select_by_visible_text(option)\n",
        "    else:\n",
        "        Select(element).select_by_index(index)"
      ]
    },
    {
      "cell_type": "markdown",
      "id": "bca8687d",
      "metadata": {},
      "source": [
        "### Enter Text \n",
        "\n",
        "Use this function to enter text in a text box. the `enter_text` function is accompanied by the `is_textbox_empty` function to test is there is already a value in the text box. Later in the boot camp when we start to loop through variables, in some cases we'll want to skip over the text box if there's already text, in others we'll want to make sure to clear the value first before we enter something else. \n"
      ]
    },
    {
      "cell_type": "code",
      "execution_count": 6,
      "id": "f456e9b1",
      "metadata": {},
      "outputs": [],
      "source": [
        "def enter_text(identifier, text, driver, by=By.XPATH):\n",
        "    element_clickable = EC.element_to_be_clickable((by, identifier))\n",
        "    element = WebDriverWait(driver, timeout=15).until(element_clickable)\n",
        "     # Clear the text from the text box (zip code wasn't overwritting)\n",
        "    element.clear()\n",
        "    element.send_keys(text)"
      ]
    },
    {
      "cell_type": "code",
      "execution_count": 7,
      "id": "198a7cce",
      "metadata": {},
      "outputs": [],
      "source": [
        "def is_textbox_empty(driver, textbox_id):\n",
        "    '''\n",
        "    This function checks if a text box is empty\n",
        "    Use this for the income variable so that we don't rewrite it\n",
        "    every loop\n",
        "    '''\n",
        "    textbox = driver.find_element('xpath',textbox_id)\n",
        "    textbox_value = textbox.get_attribute(\"value\")\n",
        "\n",
        "    return not bool(textbox_value)"
      ]
    },
    {
      "cell_type": "markdown",
      "id": "1729dc96",
      "metadata": {},
      "source": [
        "## Sometimes to move forward, you have to wait\n",
        "\n",
        "Let's dive into the `click_button` function so we have some intuition as to what's going on. There are really only 3 lines, which speaks to how powerful the `selenium` package is.\n",
        "```python\n",
        "def click_button(identifier, driver, by=By.XPATH, timeout=15):   \n",
        "    \n",
        "    element_clickable = EC.element_to_be_clickable((by, identifier))\n",
        "    element = WebDriverWait(driver, timeout=timeout).until(element_clickable)\n",
        "    driver.execute_script(\"arguments[0].click();\", element)\n",
        "``` \n",
        "\n",
        "#### Function Arguments\n",
        "First, let's look at what we pass into the function. The `driver` is just the webdriver we specified earlier, which will never change. The `identifier` is some unique way to identify the button we want to click, and the `by` argument specifies *how* we identify that button. Let's take a look at different ways we could identify the \"SUBMIT\" button on the page we launched before:\n",
        "\n",
        "- XPATH is the default and is probably the easiest way to to identify a button, though might be computationally a little slower. \n",
        "- Finding an object by its ID is faster, but not all objects (including this one) have an ID. \n",
        "\n",
        "Using XPATH in this case, we can copy and paste the XPATH of the button from the page source and feed it in as the `identifier` argument.\n",
        "\n",
        "#### Function Steps\n",
        "1. The first line identifies the element we want to click based on the `identifier` and `by` arguments we discussed before.\n",
        "2. The second line uses what we call an **\"implicit wait\"**, a hugely powerful part of `selenium`. The driver waits until the element we want is \"clickable\" on the webpage, which is crucial for dynamic web pages where elements might take time to load, especially when we repeatedly call the same page. What's nice about implicit waits is that they wait **only as long as they need to**, or until a timeout is reached (in this case if it takes an element longer than 15 seconds to load, which means something is probably wrong). On the other hand, **explicit waits** pause the driver for some user-specified amount of time. We generally prefer implicit waits because they're more efficient, though we'll see how both have their place.\n",
        "3. Finally, once the element is clickable, the third line actually executes the action to click the button.\n",
        "\n"
      ]
    },
    {
      "cell_type": "markdown",
      "id": "5a765ecc",
      "metadata": {},
      "source": [
        "### A note on dropdowns and text boxes:\n",
        "Unlike clicking a button, the other functions have one additional argument. For entering text, you obviously have to specify the text you want to enter. Dropdowns are slightly more complicated, because you have to indicate which dropdown option you want to select, which you can do by \"value\" or \"index\" upon inspecting the dropdown."
      ]
    },
    {
      "cell_type": "markdown",
      "id": "549495bf",
      "metadata": {},
      "source": [
        "# WORKSHOP"
      ]
    },
    {
      "cell_type": "markdown",
      "id": "fff46dc2",
      "metadata": {},
      "source": [
        "### TASK 1\n",
        "Let's make a list of the actions we'd need to take on the webpage in order to navigate to the health insurance premium values. We might call this \"pseudocode\" - no Python code needed here; just a list of steps that we want to convert to code."
      ]
    },
    {
      "cell_type": "markdown",
      "id": "9415fdde",
      "metadata": {},
      "source": [
        "### TASK 1 - SOLUTION\n",
        "\n",
        "<details>\n",
        "<summary>Steps</summary>\n",
        "1. Select dropdown - state\n",
        "2. Enter text - zip code\n",
        "3. Some zip codes cross counties, so in these cases, we also need to select the county dropdown\n",
        "4. Enter text - yearly household income\n",
        "5. Click button - whether coverage available from you or spouse's job\n",
        "6. Select dropdown - number of people in family\n",
        "7. Select dropdown - number of adults enrolling in coverage\n",
        "8. Select dropdown - age\n",
        "9. Select dropdown - # of children enrolling\n",
        "10. Click button - \"SUBMIT\"\n",
        "</details>"
      ]
    },
    {
      "cell_type": "markdown",
      "id": "fc2ab249",
      "metadata": {},
      "source": [
        "### TASK 2\n",
        "\n",
        "Taking the 10 steps above, let's use the functions defined earlier to actually execute these ten steps. You can actually do this one step at a time, checking the browser opened by your driver to see if it clicked the correct thing. If you make a mistake, you can either close the driver and relaunch it using the code above, or you can manually click back to the beginning and try again.\n",
        "\n",
        "Let's try this for the following values:\n",
        "- State: Illinois\n",
        "- Zip Code: 62401\n",
        "- County: Shelby\n",
        "- Yearly Household Income: $100,000\n",
        "- No coverage available\n",
        "- 1 person in family\n",
        "- 1 adult enrolling\n",
        "- Age of 60\n",
        "- No children enrolling"
      ]
    },
    {
      "cell_type": "markdown",
      "id": "31a274bd",
      "metadata": {},
      "source": [
        "### TASK 2 SOLUTION"
      ]
    },
    {
      "cell_type": "code",
      "execution_count": 8,
      "id": "9e84def2",
      "metadata": {},
      "outputs": [],
      "source": [
        "# 1. Select state dropdown\n",
        "select_dropdown(identifier='//*[@id=\"state-dd\"]', driver = driver,value='il')"
      ]
    },
    {
      "cell_type": "code",
      "execution_count": 9,
      "id": "ccb462a6",
      "metadata": {},
      "outputs": [],
      "source": [
        "# 2. Enter zip code\n",
        "enter_text(identifier='//*[@id=\"zip-wrapper\"]/div/input',  driver = driver,text = '62401')"
      ]
    },
    {
      "cell_type": "code",
      "execution_count": 10,
      "id": "d21d2509",
      "metadata": {},
      "outputs": [],
      "source": [
        "# 3. select county when given the option\n",
        "select_dropdown(identifier='//*[@id=\"locale-inner\"]/select',  driver = driver,option=\"Shelby\")"
      ]
    },
    {
      "cell_type": "code",
      "execution_count": 11,
      "id": "176cdb80",
      "metadata": {},
      "outputs": [],
      "source": [
        "# 4. Enter yearly household income\n",
        "enter_text(identifier='//*[@id=\"subsidy-form\"]/div[2]/div[1]/div[2]/div[2]/input',driver = driver, text = '100000')\n",
        "\n",
        "# Note that we'll want to run this line for when we put things to a bigger loop in the next lesson, we'll talk more about this next time.\n",
        "textbox = driver.find_element('xpath', '//*[@id=\"subsidy-form\"]/div[2]/div[1]/div[2]/div[2]/input')"
      ]
    },
    {
      "cell_type": "code",
      "execution_count": 12,
      "id": "ba69e817",
      "metadata": {},
      "outputs": [],
      "source": [
        "# 5. Is coverage available from your or your spouse's job? \n",
        "click_button(identifier='//*[@id=\"employer-coverage-0\"]', driver = driver)"
      ]
    },
    {
      "cell_type": "code",
      "execution_count": 13,
      "id": "4c20e80c",
      "metadata": {},
      "outputs": [],
      "source": [
        "# 6. Number of people in family?\n",
        "select_dropdown(identifier='//*[@id=\"number-people\"]', index = '0', driver = driver)"
      ]
    },
    {
      "cell_type": "code",
      "execution_count": 14,
      "id": "8e88d203",
      "metadata": {},
      "outputs": [],
      "source": [
        "# 7. Number of adults (21 to 64) enrolled in Marketplace coverage? \n",
        "select_dropdown(identifier='//*[@id=\"subsidy-form\"]/div[2]/div[3]/div[1]/div/select', value = \"1\", driver = driver)"
      ]
    },
    {
      "cell_type": "code",
      "execution_count": 15,
      "id": "fc60ea2b",
      "metadata": {},
      "outputs": [],
      "source": [
        "# 8. Age? (index is age - 21)\n",
        "select_dropdown(identifier='//*[@id=\"subsidy-form\"]/div[2]/div[3]/div[2]/div/div[1]/select', index = '39', driver = driver)"
      ]
    },
    {
      "cell_type": "code",
      "execution_count": 16,
      "id": "b559566a",
      "metadata": {},
      "outputs": [],
      "source": [
        "# 9. Number of children (20 and younger) enrolling in Marketplace coverage\n",
        "select_dropdown(identifier='//*[@id=\"subsidy-form\"]/div[2]/div[3]/div[3]/div/select', index = '0', driver = driver)"
      ]
    },
    {
      "cell_type": "code",
      "execution_count": 17,
      "id": "770b3dc5",
      "metadata": {},
      "outputs": [],
      "source": [
        "# 10. Submit\n",
        "click_button(identifier='//*[@id=\"subsidy-form\"]/p/input[2]', driver = driver)"
      ]
    },
    {
      "cell_type": "markdown",
      "id": "118a0342",
      "metadata": {},
      "source": [
        "And now we'll see that we've successfully navigated to the page with the premium values we want to scrape, setting us up to use the code from last week's BeautifulSoup workshop to actually get these values!"
      ]
    },
    {
      "cell_type": "markdown",
      "id": "5d1a5c23",
      "metadata": {},
      "source": [
        "### Looking Ahead\n",
        "Next week, we'll see how to put this code into a bigger loop so that we can repeat it many times for various menu options. Some concepts that will be important next week:\n",
        "- `for` loops in Python\n",
        "- functions that prevent us from copy/pasting things 10 million times\n",
        "- Implicit and Explicit waits\n",
        "- Dictionaries and lists for storing values\n",
        "\n",
        "Helpful Review:\n",
        "- Intro to Python Workshop: https://ui-research.github.io/python-at-urban/content/intro-to-python.html. The following sections are particularly relevant:\n",
        "    - Lists and Dictionaries (section 4a and 4b)\n",
        "    - Loops (section 5)\n",
        "    - Functions (section 6)\n"
      ]
    }
  ],
  "metadata": {
    "kernelspec": {
      "display_name": "Python 3 (ipykernel)",
      "language": "python",
      "name": "python3"
    },
    "language_info": {
      "codemirror_mode": {
        "name": "ipython",
        "version": 3
      },
      "file_extension": ".py",
      "mimetype": "text/x-python",
      "name": "python",
      "nbconvert_exporter": "python",
      "pygments_lexer": "ipython3",
      "version": "3.9.7"
    }
  },
  "nbformat": 4,
  "nbformat_minor": 5
}
