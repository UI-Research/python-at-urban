{
  "cells": [
    {
      "cell_type": "raw",
      "metadata": {},
      "source": [
        "---\n",
        "title: \"Session 2\"\n",
        "editor: visual\n",
        "---"
      ],
      "id": "1c431184"
    },
    {
      "cell_type": "markdown",
      "metadata": {},
      "source": [
        "# Overview\n",
        "\n",
        "Today we'll be digging into how to get started with a web scraping task and how to structure your thinking about approaching the task. For the remainder of the boot camp we'll be working on scraping state-level health insurance premium values from the KFF [Health Insurance Marketplace Calculator](https://www.kff.org/interactive/subsidy-calculator/). In this example, the project team needs the cost of the Sliver Plan Premium for each county for people aged 14, 20, 40, and 60. The final output should look something like this:\n",
        "\n",
        "| State | County    | Age 14 | Age 20 | Age 40 | Age 60 |\n",
        "|-------|-----------|--------|--------|--------|--------|\n",
        "| AL    | St. Clair | 281    | 434    | 566    | 1824   |\n",
        "| AL    | Jefferson | 294    | 420    | 540    | 1830   |\n",
        "| AL    | Shelby    | 273    | 451    | 589    | 1801   |\n",
        "\n",
        "## What packages do we need? \n",
        "\n",
        "Looking through the website, there's drop down menus, select buttons, and text input that we'll need to navigate. Based on the rule of \"if a human needs to click something\" we'll need to use the `selenium` package. Luckily, this isn't Urban's first web scraping rodeo and we have sample code functions for completing each of these types of actions.\n",
        "\n",
        "Below we go over a few simple functions that will be the basis for our scraping tasks. \n",
        "\n",
        "### Click Button\n",
        "\n",
        "Use the function when you need to click a button on the page. \n"
      ],
      "id": "63b8ad0c"
    },
    {
      "cell_type": "code",
      "metadata": {},
      "source": [
        "def click_button(identifier, driver, by=By.XPATH, timeout=15):   \n",
        "    '''\n",
        "    This function waits until a button is clickable and then clicks on it.`\n",
        "\n",
        "    Inputs:\n",
        "        identifier (string): The Id, XPath, or other way of identifying the element to be clicked on\n",
        "        by (By object): How to identify the identifier (Options include By.XPATH, By.ID, By.Name and others).\n",
        "            Make sure 'by' and 'identifier' correspond to one other as they are used as a tuple pair below.\n",
        "        timeout (int): How long to wait for the object to be clickable\n",
        "\n",
        "    Returns:\n",
        "        None (just clicks on button)\n",
        "    '''\n",
        "\n",
        "    element_clickable = EC.element_to_be_clickable((by, identifier))\n",
        "    element = WebDriverWait(driver, timeout=timeout).until(element_clickable)\n",
        "    driver.execute_script(\"arguments[0].click();\", element)"
      ],
      "id": "6edab0e0",
      "execution_count": null,
      "outputs": []
    },
    {
      "cell_type": "markdown",
      "metadata": {},
      "source": [
        "### Select a Dropdown\n",
        "\n",
        "Use this function to select a value in a dropdown menu \n"
      ],
      "id": "473ba831"
    },
    {
      "cell_type": "code",
      "metadata": {},
      "source": [
        "def select_dropdown(identifier, driver,  by=By.XPATH, value=None, option=None,  index=None):\n",
        "    '''\n",
        "    This function clicks on the correct dropdown option in a dropdown object.\n",
        "    It first waits until the element becomes selectable before locating the proper drop down menu. Then it selects the proper option.\n",
        "    If the page doesn't load within 15 seconds, it will return a timeout message.\n",
        "\n",
        "    Inputs:\n",
        "        id (string): This is the HTML 'value' of the dropdown menu to be selected, \n",
        "            found through inspecting the web page.\n",
        "        value (string): The value to select from the dropdown menu.\n",
        "        index (int): If index is not None, function assumes we want to select an option by its index instead of by specific value. \n",
        "            In this case, should specify that value = None.\n",
        "    \n",
        "    Returns:\n",
        "        None (just selects the right item in the dropdown menu)\n",
        "    '''\n",
        "    element_clickable = EC.element_to_be_clickable((by, identifier))\n",
        "    element = WebDriverWait(driver, timeout=15).until(element_clickable)\n",
        "    if value is not None:\n",
        "        Select(element).select_by_value(value)\n",
        "    elif option is not None: \n",
        "        Select(element).select_by_visible_text(option)\n",
        "    else:\n",
        "        Select(element).select_by_index(index)"
      ],
      "id": "f2fd02b6",
      "execution_count": null,
      "outputs": []
    },
    {
      "cell_type": "markdown",
      "metadata": {},
      "source": [
        "### Enter Text \n",
        "\n",
        "Use this function to enter text in a text box. the `enter_text` function is accompanied by the `is_textbox_empty` function to test is there is already a value in the text box. Later in the boot camp when we start to loop through variables, in some cases we'll want to skip over the text box if there's already text, in others we'll want to make sure to clear the value first before we enter something else. \n"
      ],
      "id": "bca8687d"
    },
    {
      "cell_type": "code",
      "metadata": {},
      "source": [
        "def enter_text(identifier, text, driver, by=By.XPATH):\n",
        "    element_clickable = EC.element_to_be_clickable((by, identifier))\n",
        "    element = WebDriverWait(driver, timeout=15).until(element_clickable)\n",
        "     # Clear the text from the text box (zip code wasn't overwritting)\n",
        "    element.clear()\n",
        "    element.send_keys(text)"
      ],
      "id": "f456e9b1",
      "execution_count": null,
      "outputs": []
    },
    {
      "cell_type": "code",
      "metadata": {},
      "source": [
        "def is_textbox_empty(driver, textbox_id):\n",
        "    '''\n",
        "    This function checks if a text box is empty\n",
        "    Use this for the income variable so that we don't rewrite it\n",
        "    every loop\n",
        "    '''\n",
        "    textbox = driver.find_element('xpath',textbox_id)\n",
        "    textbox_value = textbox.get_attribute(\"value\")\n",
        "\n",
        "    return not bool(textbox_value)"
      ],
      "id": "198a7cce",
      "execution_count": null,
      "outputs": []
    },
    {
      "cell_type": "markdown",
      "metadata": {},
      "source": [
        "## Drivers\n",
        "\n",
        "To start, we'll need to launch a web browser that will be controlled by our python code,  `selenium` calls this a driver. First we need to specify the URL that we want the driver to navigate to. The following chunk of code specifies that we want to navigate to the Health Insurance Marketplace Calculator, and then opens a web browser and navigates to the page. \n"
      ],
      "id": "1729dc96"
    },
    {
      "cell_type": "code",
      "metadata": {},
      "source": [
        "url = \"https://www.kff.org/interactive/subsidy-calculator/\"\n",
        "service = Service(executable_path=ChromeDriverManager().install())\n",
        "driver = webdriver.Chrome(service=service)\n",
        "driver.get(url)"
      ],
      "id": "9347b95e",
      "execution_count": null,
      "outputs": []
    },
    {
      "cell_type": "markdown",
      "metadata": {},
      "source": [
        "### TASK 1\n",
        "\n",
        "Now that we have a web driver running, we want to write code that selects each of the options on the page that we want and then displays the premium plan value. **Create a list of each of the actions that you need `selenium` to do to get the value to display**\n"
      ],
      "id": "fc2ab249"
    },
    {
      "cell_type": "code",
      "metadata": {},
      "source": [
        "# Select state dropdown\n",
        "select_dropdown(identifier='//*[@id=\"state-dd\"]', driver = driver,value='il')\n",
        "# Enter zip code\n",
        "enter_text(identifier='//*[@id=\"zip-wrapper\"]/div/input',  driver = driver,text = '62401')\n",
        "# select county when given the option\n",
        "select_dropdown(identifier='//*[@id=\"locale-inner\"]/select',  driver = driver,option=\"Shelby\")\n",
        "# Enter yearly household income\n",
        "enter_text(identifier='//*[@id=\"subsidy-form\"]/div[2]/div[1]/div[2]/div[2]/input',driver = driver, text = '100000')\n",
        "\n",
        "textbox = driver.find_element('xpath', '//*[@id=\"subsidy-form\"]/div[2]/div[1]/div[2]/div[2]/input')\n",
        "\n",
        "# Is coverage available from your or your spouse's job? \n",
        "click_button(identifier='//*[@id=\"employer-coverage-0\"]', driver = driver)\n",
        "# Number of adults (21 to 64) enrolled in Marketplace coverage? \n",
        "select_dropdown(identifier='//*[@id=\"subsidy-form\"]/div[2]/div[3]/div[1]/div/select', value = \"1\", driver = driver)\n",
        "# Age? (index is age - 21)\n",
        "select_dropdown(identifier='//*[@id=\"subsidy-form\"]/div[2]/div[3]/div[2]/div/div[1]/select', index = '39', driver = driver)\n",
        "# Number of children (20 and younger) enrolling in Marketplace coverage\n",
        "select_dropdown(identifier='//*[@id=\"subsidy-form\"]/div[2]/div[3]/div[3]/div/select', index = '0')\n",
        "\n",
        "# Submit\n",
        "click_button(identifier='//*[@id=\"subsidy-form\"]/p/input[2]', driver = driver)\n",
        "\n",
        "###--- Beautiful Soup ---###\n",
        "# Beautiful Soup setup using the desired URL\n",
        "html = driver.page_source\n",
        "soup = BeautifulSoup(html, 'html.parser')  # we use the 'lxml' parser here to scrape this page, which is very fast\n",
        "bold_blue = str(soup.find_all('span', class_ = \"bold-blue\")[4])# select the 4th element which has the value we want \n",
        "\n",
        "try:\n",
        "    premium_val = str(soup.find_all('span', class_ = \"bold-blue\")[4])# select the 4th element which has the value we want \n",
        "except:\n",
        "    driver.quit()\n",
        "    number = None\n",
        "\n",
        "extracted_number = re.search(r'\\$([\\d,]+(?:\\.\\d{1,2})?)', bold_blue)\n",
        "\n",
        "if extracted_number:\n",
        "    number = float(extracted_number.group())\n",
        "    print(number) \n",
        "\n",
        "if extracted_number:\n",
        "    # Extract the matched group (number with $ and commas)\n",
        "    matched_string = extracted_number.group(0)\n",
        "\n",
        "    # Remove $ and commas from the matched string\n",
        "    clean_number = matched_string.replace('$', '').replace(',', '')\n",
        "    \n",
        "    # Convert the cleaned string to a numeric value (float or int)\n",
        "    numeric_value = float(clean_number)  # "
      ],
      "id": "bf2d202f",
      "execution_count": null,
      "outputs": []
    }
  ],
  "metadata": {
    "kernelspec": {
      "name": "python3",
      "language": "python",
      "display_name": "Python 3 (ipykernel)"
    }
  },
  "nbformat": 4,
  "nbformat_minor": 5
}