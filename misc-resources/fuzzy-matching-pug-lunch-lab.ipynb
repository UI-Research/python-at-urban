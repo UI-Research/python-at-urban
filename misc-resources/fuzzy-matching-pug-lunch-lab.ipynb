{
 "cells": [
  {
   "cell_type": "markdown",
   "id": "1e142fa8",
   "metadata": {},
   "source": [
    "# What is fuzzy matching?"
   ]
  },
  {
   "cell_type": "markdown",
   "id": "3036bfde",
   "metadata": {},
   "source": [
    "Fuzzy matching is also known as \"Approximate String Matching\", and it is useful in cases where you want to compare or match two strings that are not identical. \n",
    "\n",
    "Typical Input: Two strings of text \n",
    "\n",
    "Typical Output: A similarity score \n",
    "\n",
    "If the score exceeds some user-defined threshold, the two strings are considered a match. This match can be used in whatever decision-making logic the user wants!\n"
   ]
  },
  {
   "cell_type": "markdown",
   "id": "39c8dc36",
   "metadata": {},
   "source": [
    "## Use Cases\n",
    "- Data merging, where the `by` variables are quasi-identical in both datasets but might differ slightly, such as name, date of birth, address, etc. Manually resolving these differences would be unfeasible.\n",
    "- Connecticut Zoning project: identifying names of zoning districts in two different documents, where convention can differ\n",
    "- Optical Character Recognition software: can often make tiny transcription errors that throw off exact matches\n",
    "- Twitter Harassment Detection: cleaning my dataset by removing Tweets that are similar enough to bias the sample (e.g. \"fuzzy deduplication\")"
   ]
  },
  {
   "cell_type": "markdown",
   "id": "054316db",
   "metadata": {},
   "source": [
    "## How does fuzzy matching work?\n",
    "You can generally think of a similarity score as the number of edits that need to be made to one string of text in order to convert it to the other string of text. What an algorithm considers to be an \"edit\" varies, but generally is some combination of insertions, deletions, substitutions, or transpositions of characters. For example:\n",
    "\n",
    "- ***b***ed to ***r***ed requires 1 substitution\n",
    "- HAHA to HAHA***HA*** requires 2 insertions\n",
    "- happ***ily*** to happy requires 2 deletions\n",
    "- b***la***de to b***al***ed requires 1 transposition\n",
    "\n",
    "A few common algorithms include:\n",
    "- The Jaro-Winkler similarity score, which considers only transpositions\n",
    "- Levenshtein distance, which considers insertions, deletions, or substitutions\n",
    "- Hamming distance, which considers only substitutions\n",
    "- Damerau-Levenshtein distance, which includes all four of these kinds of edits\n",
    "\n",
    "Similarity score will be a function not just of the edits, but also of the number of common characters. \"far\" to \"bar\" and \"revenue\" to \"revenge\" both require only one edit, but the latter two words would rightfully receive a higher fuzzy matching score because a larger proportion of the word is identical.\n",
    "\n"
   ]
  },
  {
   "cell_type": "markdown",
   "id": "e3aa6803-e4cb-4ea5-aabd-6e73c031b8b3",
   "metadata": {},
   "source": [
    "## `thefuzz` package for fuzzy matching"
   ]
  },
  {
   "cell_type": "markdown",
   "id": "a1dd6e3f-f6ab-4e41-b17d-442eb26d9918",
   "metadata": {},
   "source": [
    "Disclaimer: This is not the definitive or best way to do fuzzy matching. Graham led a Data Science Series session on fuzzy matching, the resources for which are found [here](https://urbanorg.app.box.com/folder/136446254450?s=pr87qdlqhnkfj63ruuz0kj3ek8dms4dh).\n",
    "\n",
    "This package mainly relies on rules developed by SeatGeek, and along with other algorithms like Jaro-Winkler and Levenshtein distance, should be thought of as another tool for the toolkit."
   ]
  },
  {
   "cell_type": "markdown",
   "id": "2ca23d9b-662a-4477-a678-e1ede4fde4d3",
   "metadata": {},
   "source": [
    "## Motivation\n",
    "- **Simple**, takes in two strings of any length and output a similarity score between 0 and 100\n",
    "- **Fast**, especially with right packages installed\n",
    "- **Flexible**, with 4 different techniques for calculating similarity, so room to experiment for various use cases"
   ]
  },
  {
   "cell_type": "markdown",
   "id": "cfe1cef8-936f-4d22-900c-04152f89703c",
   "metadata": {},
   "source": [
    "## Background and not-too-onerous Setup\n",
    "- Developed by SeatGeek, originally called `fuzzywuzzy`\n",
    "- Requires Python 2.7 or greater, plus the `difflib` package and optionally `python-Levenshtein` for speedup\n",
    "- See their [repo](https://github.com/seatgeek/thefuzz) and [excellent walkthrough guide](https://chairnerd.seatgeek.com/fuzzywuzzy-fuzzy-string-matching-in-python/) for details on installation and usage\n",
    "- An R library called `fuzzywuzzyr` does exist that ports this Python code\n",
    "- Note that all of these methods are case-sensitive!"
   ]
  },
  {
   "cell_type": "code",
   "execution_count": 1,
   "id": "771650bc-fbb8-40e4-86cf-09e8f71f8b2e",
   "metadata": {},
   "outputs": [],
   "source": [
    "from thefuzz import fuzz"
   ]
  },
  {
   "cell_type": "markdown",
   "id": "18bf6a22-5c4d-4330-b9c4-d708b84442bc",
   "metadata": {},
   "source": [
    "## 1. Ratio\n",
    "This is the simplest function, which replicates the matching procedure used by `difflib` (similar to Levenshtein distance).\n",
    "It essentially computes the number of edits needed to convert string 1 into string 2, as a ratio of the length of the larger string.\n",
    "\n",
    "Best for short, simple examples. Struggles when word order is inverted or small words/sets of characters are missing."
   ]
  },
  {
   "cell_type": "code",
   "execution_count": 2,
   "id": "3201b52c-f0ba-4031-a4a1-b737b98cd60e",
   "metadata": {},
   "outputs": [
    {
     "data": {
      "text/plain": [
       "75"
      ]
     },
     "execution_count": 2,
     "metadata": {},
     "output_type": "execute_result"
    }
   ],
   "source": [
    "fuzz.ratio('cart', 'cast')"
   ]
  },
  {
   "cell_type": "code",
   "execution_count": 3,
   "id": "a08b1b9f-5668-4100-9cdc-65e840f65131",
   "metadata": {},
   "outputs": [
    {
     "data": {
      "text/plain": [
       "70"
      ]
     },
     "execution_count": 3,
     "metadata": {},
     "output_type": "execute_result"
    }
   ],
   "source": [
    "fuzz.ratio('United States', 'United States of America')"
   ]
  },
  {
   "cell_type": "code",
   "execution_count": 4,
   "id": "8092fbe4-de16-48fe-8d91-6068152269ce",
   "metadata": {},
   "outputs": [
    {
     "data": {
      "text/plain": [
       "63"
      ]
     },
     "execution_count": 4,
     "metadata": {},
     "output_type": "execute_result"
    }
   ],
   "source": [
    "fuzz.ratio('The quick brown fox jumped over the yellow dog', 'The yellow dog jumped over the quick brown fox')"
   ]
  },
  {
   "cell_type": "code",
   "execution_count": 5,
   "id": "c10dcb25-fee0-4d86-98c6-c5757aa705e8",
   "metadata": {},
   "outputs": [
    {
     "data": {
      "text/plain": [
       "69"
      ]
     },
     "execution_count": 5,
     "metadata": {},
     "output_type": "execute_result"
    }
   ],
   "source": [
    "fuzz.ratio('A canal, a plan, a man', 'A man, a plan, a canal. Panama')"
   ]
  },
  {
   "cell_type": "markdown",
   "id": "4d61f3ec-3b7b-4b7c-9ce3-98403f3986d5",
   "metadata": {},
   "source": [
    "## 2. Partial Ratio\n",
    "This function developed by SeatGeek is great for matching shorter substrings within longer strings. If the shorter string is length `m` and the longer string is length `n`, this calculates the similarity (using the previous Ratio function) between the shorter string and the best substring of length `m` within the longer string."
   ]
  },
  {
   "cell_type": "code",
   "execution_count": 6,
   "id": "90037a1e-57f7-4b03-9938-2ed7dbdf16e9",
   "metadata": {},
   "outputs": [
    {
     "data": {
      "text/plain": [
       "75"
      ]
     },
     "execution_count": 6,
     "metadata": {},
     "output_type": "execute_result"
    }
   ],
   "source": [
    "fuzz.partial_ratio('cart', 'cast')"
   ]
  },
  {
   "cell_type": "code",
   "execution_count": 7,
   "id": "cdb58009-cbcb-4c8c-9f87-da89410702a3",
   "metadata": {},
   "outputs": [
    {
     "data": {
      "text/plain": [
       "100"
      ]
     },
     "execution_count": 7,
     "metadata": {},
     "output_type": "execute_result"
    }
   ],
   "source": [
    "fuzz.partial_ratio('United States', 'United States of America')"
   ]
  },
  {
   "cell_type": "code",
   "execution_count": 8,
   "id": "9d66e84c-df81-4ee1-953b-30ce1fdf1576",
   "metadata": {},
   "outputs": [
    {
     "data": {
      "text/plain": [
       "63"
      ]
     },
     "execution_count": 8,
     "metadata": {},
     "output_type": "execute_result"
    }
   ],
   "source": [
    "fuzz.partial_ratio('The quick brown fox jumped over the yellow dog', 'The yellow dog jumped over the quick brown fox')"
   ]
  },
  {
   "cell_type": "code",
   "execution_count": 9,
   "id": "7daea309-13bd-45f0-9bc2-edb61fee3b4b",
   "metadata": {},
   "outputs": [
    {
     "data": {
      "text/plain": [
       "82"
      ]
     },
     "execution_count": 9,
     "metadata": {},
     "output_type": "execute_result"
    }
   ],
   "source": [
    "fuzz.partial_ratio('A canal, a plan, a man', 'A man, a plan, a canal. Panama')"
   ]
  },
  {
   "cell_type": "markdown",
   "id": "14754c01-639c-4700-a2dd-1e5b224f1302",
   "metadata": {},
   "source": [
    "## 3. Token Sort Ratio\n",
    "This function developed by SeatGeek splits two sequences of text into their individual tokens (e.g. letters, digits, or punctuation), sorts them alphabetically, and then rejoins them together. It then calculates the Ratio above on these new strings. This is great for order-agnostic matching where you don't care about inverted words/characters."
   ]
  },
  {
   "cell_type": "code",
   "execution_count": 10,
   "id": "a1d244f4-0a1c-4402-9430-248c6fed716b",
   "metadata": {},
   "outputs": [
    {
     "data": {
      "text/plain": [
       "75"
      ]
     },
     "execution_count": 10,
     "metadata": {},
     "output_type": "execute_result"
    }
   ],
   "source": [
    "fuzz.token_sort_ratio('cart', 'cast')"
   ]
  },
  {
   "cell_type": "code",
   "execution_count": 11,
   "id": "0442b4bb-f10e-4369-92c7-9347e623aaaa",
   "metadata": {},
   "outputs": [
    {
     "data": {
      "text/plain": [
       "70"
      ]
     },
     "execution_count": 11,
     "metadata": {},
     "output_type": "execute_result"
    }
   ],
   "source": [
    "fuzz.token_sort_ratio('United States', 'United States of America')"
   ]
  },
  {
   "cell_type": "code",
   "execution_count": 12,
   "id": "848cec36-f02a-4ad0-9054-b10ba42af5d7",
   "metadata": {},
   "outputs": [
    {
     "data": {
      "text/plain": [
       "100"
      ]
     },
     "execution_count": 12,
     "metadata": {},
     "output_type": "execute_result"
    }
   ],
   "source": [
    "fuzz.token_sort_ratio('The quick brown fox jumped over the yellow dog', 'The yellow dog jumped over the quick brown fox')"
   ]
  },
  {
   "cell_type": "code",
   "execution_count": 13,
   "id": "a67d214e-2a6b-4c58-b670-16afa3e9af33",
   "metadata": {},
   "outputs": [
    {
     "data": {
      "text/plain": [
       "85"
      ]
     },
     "execution_count": 13,
     "metadata": {},
     "output_type": "execute_result"
    }
   ],
   "source": [
    "fuzz.token_sort_ratio('A canal, a plan, a man', 'A man, a plan, a canal. Panama')"
   ]
  },
  {
   "cell_type": "markdown",
   "id": "0203567b-772a-4aed-afd2-e73710f671ea",
   "metadata": {},
   "source": [
    "## 4. Token Set Ratio\n",
    "This last function developed by SeatGeek is similar to the previous one, but a little more complicated, creating 'intersection' and 'remainder' groups after tokenizing. Generally, it's more flexible and useful when one sequence has lots of extra words/tokens that don't affect the meaning but mess with the sorting process of token sort ratio. Refer to SeatGeek's explanation and examples, or just try yourself to see what works!"
   ]
  },
  {
   "cell_type": "code",
   "execution_count": 14,
   "id": "0608b63f-ae13-4e1d-b8e0-7f073cb172ae",
   "metadata": {},
   "outputs": [
    {
     "data": {
      "text/plain": [
       "75"
      ]
     },
     "execution_count": 14,
     "metadata": {},
     "output_type": "execute_result"
    }
   ],
   "source": [
    "fuzz.token_set_ratio('cart', 'cast')"
   ]
  },
  {
   "cell_type": "code",
   "execution_count": 15,
   "id": "3359c8dc-120b-4395-8841-ffcfc62d698e",
   "metadata": {},
   "outputs": [
    {
     "data": {
      "text/plain": [
       "100"
      ]
     },
     "execution_count": 15,
     "metadata": {},
     "output_type": "execute_result"
    }
   ],
   "source": [
    "fuzz.token_set_ratio('United States', 'United States of America')"
   ]
  },
  {
   "cell_type": "code",
   "execution_count": 16,
   "id": "cd52a86f-f87a-4433-99b0-b2359c834976",
   "metadata": {},
   "outputs": [
    {
     "data": {
      "text/plain": [
       "100"
      ]
     },
     "execution_count": 16,
     "metadata": {},
     "output_type": "execute_result"
    }
   ],
   "source": [
    "fuzz.token_set_ratio('The quick brown fox jumped over the yellow dog', 'The yellow dog jumped over the quick brown fox')"
   ]
  },
  {
   "cell_type": "code",
   "execution_count": 17,
   "id": "887db9d3-b161-4a58-b96f-a6fed6919fe8",
   "metadata": {},
   "outputs": [
    {
     "data": {
      "text/plain": [
       "100"
      ]
     },
     "execution_count": 17,
     "metadata": {},
     "output_type": "execute_result"
    }
   ],
   "source": [
    "fuzz.token_set_ratio('A canal, a plan, a man', 'A man, a plan, a canal. Panama')"
   ]
  },
  {
   "cell_type": "markdown",
   "id": "137614ce-5f61-4873-94d4-db893fe245ad",
   "metadata": {},
   "source": [
    "#### Experiment and combine! Can try setting arbitrary score thresholds. For example:\n",
    "- If token set ratio > 85, this constitutes a match\n",
    "- If ratio and token sort ratio both > 75, this constitutes a match"
   ]
  },
  {
   "cell_type": "markdown",
   "id": "8b395a6f",
   "metadata": {},
   "source": [
    "## Other Resources Shared\n",
    "- `rapidfuzz` package, a faster version of the `thefuzz`: https://medium.com/mlearning-ai/all-about-rapidfuzz-string-similarity-and-matching-cd26fdc963d8\n",
    "- Bringing in NLP techniques from the `nltk` package - particularly useful for \"needle in a haystack\" applications: https://stackoverflow.com/questions/17740833/checking-fuzzy-approximate-substring-existing-in-a-longer-string-in-python/31433394#31433394\n",
    "- Jess Kelly's technical report on linking program data: https://www.ojp.gov/pdffiles1/bjs/grants/239536.pdf"
   ]
  }
 ],
 "metadata": {
  "kernelspec": {
   "display_name": "nlp",
   "language": "python",
   "name": "nlp"
  },
  "language_info": {
   "codemirror_mode": {
    "name": "ipython",
    "version": 3
   },
   "file_extension": ".py",
   "mimetype": "text/x-python",
   "name": "python",
   "nbconvert_exporter": "python",
   "pygments_lexer": "ipython3",
   "version": "3.8.8"
  }
 },
 "nbformat": 4,
 "nbformat_minor": 5
}
